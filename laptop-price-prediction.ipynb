{
 "cells": [
  {
   "cell_type": "code",
<<<<<<< HEAD
   "execution_count": 1,
   "id": "04bf6857",
=======
   "execution_count": 57,
   "id": "00267f86",
>>>>>>> 3c44e2ade4b88123a31c9aa298436ff4371f8d5f
   "metadata": {},
   "outputs": [],
   "source": [
    "import numpy as np\n",
    "import pandas as pd\n",
    "import matplotlib.pyplot as plt"
   ]
  },
  {
   "cell_type": "code",
<<<<<<< HEAD
   "execution_count": 2,
   "id": "f6b70340",
=======
   "execution_count": 58,
   "id": "aca708b1",
>>>>>>> 3c44e2ade4b88123a31c9aa298436ff4371f8d5f
   "metadata": {},
   "outputs": [],
   "source": [
    "df = pd.read_csv('laptop_data.csv')"
   ]
  },
  {
   "cell_type": "code",
<<<<<<< HEAD
   "execution_count": 3,
   "id": "4d6bc900",
=======
   "execution_count": 59,
   "id": "392c429d",
>>>>>>> 3c44e2ade4b88123a31c9aa298436ff4371f8d5f
   "metadata": {},
   "outputs": [
    {
     "data": {
      "text/html": [
       "<div>\n",
       "<style scoped>\n",
       "    .dataframe tbody tr th:only-of-type {\n",
       "        vertical-align: middle;\n",
       "    }\n",
       "\n",
       "    .dataframe tbody tr th {\n",
       "        vertical-align: top;\n",
       "    }\n",
       "\n",
       "    .dataframe thead th {\n",
       "        text-align: right;\n",
       "    }\n",
       "</style>\n",
       "<table border=\"1\" class=\"dataframe\">\n",
       "  <thead>\n",
       "    <tr style=\"text-align: right;\">\n",
       "      <th></th>\n",
       "      <th>Unnamed: 0</th>\n",
       "      <th>Company</th>\n",
       "      <th>TypeName</th>\n",
       "      <th>Inches</th>\n",
       "      <th>ScreenResolution</th>\n",
       "      <th>Cpu</th>\n",
       "      <th>Ram</th>\n",
       "      <th>Memory</th>\n",
       "      <th>Gpu</th>\n",
       "      <th>OpSys</th>\n",
       "      <th>Weight</th>\n",
       "      <th>Price</th>\n",
       "    </tr>\n",
       "  </thead>\n",
       "  <tbody>\n",
       "    <tr>\n",
       "      <th>0</th>\n",
       "      <td>0</td>\n",
       "      <td>Apple</td>\n",
       "      <td>Ultrabook</td>\n",
       "      <td>13.3</td>\n",
       "      <td>IPS Panel Retina Display 2560x1600</td>\n",
       "      <td>Intel Core i5 2.3GHz</td>\n",
       "      <td>8GB</td>\n",
       "      <td>128GB SSD</td>\n",
       "      <td>Intel Iris Plus Graphics 640</td>\n",
       "      <td>macOS</td>\n",
       "      <td>1.37kg</td>\n",
       "      <td>71378.6832</td>\n",
       "    </tr>\n",
       "    <tr>\n",
       "      <th>1</th>\n",
       "      <td>1</td>\n",
       "      <td>Apple</td>\n",
       "      <td>Ultrabook</td>\n",
       "      <td>13.3</td>\n",
       "      <td>1440x900</td>\n",
       "      <td>Intel Core i5 1.8GHz</td>\n",
       "      <td>8GB</td>\n",
       "      <td>128GB Flash Storage</td>\n",
       "      <td>Intel HD Graphics 6000</td>\n",
       "      <td>macOS</td>\n",
       "      <td>1.34kg</td>\n",
       "      <td>47895.5232</td>\n",
       "    </tr>\n",
       "    <tr>\n",
       "      <th>2</th>\n",
       "      <td>2</td>\n",
       "      <td>HP</td>\n",
       "      <td>Notebook</td>\n",
       "      <td>15.6</td>\n",
       "      <td>Full HD 1920x1080</td>\n",
       "      <td>Intel Core i5 7200U 2.5GHz</td>\n",
       "      <td>8GB</td>\n",
       "      <td>256GB SSD</td>\n",
       "      <td>Intel HD Graphics 620</td>\n",
       "      <td>No OS</td>\n",
       "      <td>1.86kg</td>\n",
       "      <td>30636.0000</td>\n",
       "    </tr>\n",
       "    <tr>\n",
       "      <th>3</th>\n",
       "      <td>3</td>\n",
       "      <td>Apple</td>\n",
       "      <td>Ultrabook</td>\n",
       "      <td>15.4</td>\n",
       "      <td>IPS Panel Retina Display 2880x1800</td>\n",
       "      <td>Intel Core i7 2.7GHz</td>\n",
       "      <td>16GB</td>\n",
       "      <td>512GB SSD</td>\n",
       "      <td>AMD Radeon Pro 455</td>\n",
       "      <td>macOS</td>\n",
       "      <td>1.83kg</td>\n",
       "      <td>135195.3360</td>\n",
       "    </tr>\n",
       "    <tr>\n",
       "      <th>4</th>\n",
       "      <td>4</td>\n",
       "      <td>Apple</td>\n",
       "      <td>Ultrabook</td>\n",
       "      <td>13.3</td>\n",
       "      <td>IPS Panel Retina Display 2560x1600</td>\n",
       "      <td>Intel Core i5 3.1GHz</td>\n",
       "      <td>8GB</td>\n",
       "      <td>256GB SSD</td>\n",
       "      <td>Intel Iris Plus Graphics 650</td>\n",
       "      <td>macOS</td>\n",
       "      <td>1.37kg</td>\n",
       "      <td>96095.8080</td>\n",
       "    </tr>\n",
       "  </tbody>\n",
       "</table>\n",
       "</div>"
      ],
      "text/plain": [
       "   Unnamed: 0 Company   TypeName  Inches                    ScreenResolution  \\\n",
       "0           0   Apple  Ultrabook    13.3  IPS Panel Retina Display 2560x1600   \n",
       "1           1   Apple  Ultrabook    13.3                            1440x900   \n",
       "2           2      HP   Notebook    15.6                   Full HD 1920x1080   \n",
       "3           3   Apple  Ultrabook    15.4  IPS Panel Retina Display 2880x1800   \n",
       "4           4   Apple  Ultrabook    13.3  IPS Panel Retina Display 2560x1600   \n",
       "\n",
       "                          Cpu   Ram               Memory  \\\n",
       "0        Intel Core i5 2.3GHz   8GB            128GB SSD   \n",
       "1        Intel Core i5 1.8GHz   8GB  128GB Flash Storage   \n",
       "2  Intel Core i5 7200U 2.5GHz   8GB            256GB SSD   \n",
       "3        Intel Core i7 2.7GHz  16GB            512GB SSD   \n",
       "4        Intel Core i5 3.1GHz   8GB            256GB SSD   \n",
       "\n",
       "                            Gpu  OpSys  Weight        Price  \n",
       "0  Intel Iris Plus Graphics 640  macOS  1.37kg   71378.6832  \n",
       "1        Intel HD Graphics 6000  macOS  1.34kg   47895.5232  \n",
       "2         Intel HD Graphics 620  No OS  1.86kg   30636.0000  \n",
       "3            AMD Radeon Pro 455  macOS  1.83kg  135195.3360  \n",
       "4  Intel Iris Plus Graphics 650  macOS  1.37kg   96095.8080  "
      ]
     },
<<<<<<< HEAD
     "execution_count": 3,
=======
     "execution_count": 59,
>>>>>>> 3c44e2ade4b88123a31c9aa298436ff4371f8d5f
     "metadata": {},
     "output_type": "execute_result"
    }
   ],
   "source": [
    "df.head()"
   ]
  },
  {
   "cell_type": "code",
<<<<<<< HEAD
   "execution_count": 4,
   "id": "bd73bc8f",
=======
   "execution_count": 60,
   "id": "dc17b9d6",
>>>>>>> 3c44e2ade4b88123a31c9aa298436ff4371f8d5f
   "metadata": {},
   "outputs": [
    {
     "data": {
      "text/plain": [
       "(1303, 12)"
      ]
     },
<<<<<<< HEAD
     "execution_count": 4,
=======
     "execution_count": 60,
>>>>>>> 3c44e2ade4b88123a31c9aa298436ff4371f8d5f
     "metadata": {},
     "output_type": "execute_result"
    }
   ],
   "source": [
    "df.shape"
   ]
  },
  {
   "cell_type": "code",
<<<<<<< HEAD
   "execution_count": 5,
   "id": "6f3e4485",
=======
   "execution_count": 61,
   "id": "ede0a288",
>>>>>>> 3c44e2ade4b88123a31c9aa298436ff4371f8d5f
   "metadata": {},
   "outputs": [
    {
     "name": "stdout",
     "output_type": "stream",
     "text": [
      "<class 'pandas.core.frame.DataFrame'>\n",
      "RangeIndex: 1303 entries, 0 to 1302\n",
      "Data columns (total 12 columns):\n",
      " #   Column            Non-Null Count  Dtype  \n",
      "---  ------            --------------  -----  \n",
      " 0   Unnamed: 0        1303 non-null   int64  \n",
      " 1   Company           1303 non-null   object \n",
      " 2   TypeName          1303 non-null   object \n",
      " 3   Inches            1303 non-null   float64\n",
      " 4   ScreenResolution  1303 non-null   object \n",
      " 5   Cpu               1303 non-null   object \n",
      " 6   Ram               1303 non-null   object \n",
      " 7   Memory            1303 non-null   object \n",
      " 8   Gpu               1303 non-null   object \n",
      " 9   OpSys             1303 non-null   object \n",
      " 10  Weight            1303 non-null   object \n",
      " 11  Price             1303 non-null   float64\n",
      "dtypes: float64(2), int64(1), object(9)\n",
      "memory usage: 122.3+ KB\n"
     ]
    }
   ],
   "source": [
    "df.info()"
   ]
  },
  {
   "cell_type": "code",
<<<<<<< HEAD
   "execution_count": 6,
   "id": "478272d9",
=======
   "execution_count": 62,
   "id": "a4d96010",
>>>>>>> 3c44e2ade4b88123a31c9aa298436ff4371f8d5f
   "metadata": {},
   "outputs": [
    {
     "data": {
      "text/plain": [
       "0"
      ]
     },
<<<<<<< HEAD
     "execution_count": 6,
=======
     "execution_count": 62,
>>>>>>> 3c44e2ade4b88123a31c9aa298436ff4371f8d5f
     "metadata": {},
     "output_type": "execute_result"
    }
   ],
   "source": [
    "df.duplicated().sum()"
   ]
  },
  {
   "cell_type": "code",
<<<<<<< HEAD
   "execution_count": 7,
   "id": "b2ca2ea2",
=======
   "execution_count": 63,
   "id": "b92e844b",
>>>>>>> 3c44e2ade4b88123a31c9aa298436ff4371f8d5f
   "metadata": {},
   "outputs": [
    {
     "data": {
      "text/plain": [
       "Unnamed: 0          0\n",
       "Company             0\n",
       "TypeName            0\n",
       "Inches              0\n",
       "ScreenResolution    0\n",
       "Cpu                 0\n",
       "Ram                 0\n",
       "Memory              0\n",
       "Gpu                 0\n",
       "OpSys               0\n",
       "Weight              0\n",
       "Price               0\n",
       "dtype: int64"
      ]
     },
<<<<<<< HEAD
     "execution_count": 7,
=======
     "execution_count": 63,
>>>>>>> 3c44e2ade4b88123a31c9aa298436ff4371f8d5f
     "metadata": {},
     "output_type": "execute_result"
    }
   ],
   "source": [
    "df.isnull().sum()"
   ]
  },
  {
   "cell_type": "code",
<<<<<<< HEAD
   "execution_count": 8,
   "id": "1ca653d2",
=======
   "execution_count": 64,
   "id": "6a97078f",
>>>>>>> 3c44e2ade4b88123a31c9aa298436ff4371f8d5f
   "metadata": {},
   "outputs": [],
   "source": [
    "df.drop(columns=['Unnamed: 0'],inplace=True)"
   ]
  },
  {
   "cell_type": "code",
<<<<<<< HEAD
   "execution_count": 9,
   "id": "abc5f58b",
=======
   "execution_count": 65,
   "id": "7e045dac",
>>>>>>> 3c44e2ade4b88123a31c9aa298436ff4371f8d5f
   "metadata": {},
   "outputs": [
    {
     "data": {
      "text/html": [
       "<div>\n",
       "<style scoped>\n",
       "    .dataframe tbody tr th:only-of-type {\n",
       "        vertical-align: middle;\n",
       "    }\n",
       "\n",
       "    .dataframe tbody tr th {\n",
       "        vertical-align: top;\n",
       "    }\n",
       "\n",
       "    .dataframe thead th {\n",
       "        text-align: right;\n",
       "    }\n",
       "</style>\n",
       "<table border=\"1\" class=\"dataframe\">\n",
       "  <thead>\n",
       "    <tr style=\"text-align: right;\">\n",
       "      <th></th>\n",
       "      <th>Company</th>\n",
       "      <th>TypeName</th>\n",
       "      <th>Inches</th>\n",
       "      <th>ScreenResolution</th>\n",
       "      <th>Cpu</th>\n",
       "      <th>Ram</th>\n",
       "      <th>Memory</th>\n",
       "      <th>Gpu</th>\n",
       "      <th>OpSys</th>\n",
       "      <th>Weight</th>\n",
       "      <th>Price</th>\n",
       "    </tr>\n",
       "  </thead>\n",
       "  <tbody>\n",
       "    <tr>\n",
       "      <th>0</th>\n",
       "      <td>Apple</td>\n",
       "      <td>Ultrabook</td>\n",
       "      <td>13.3</td>\n",
       "      <td>IPS Panel Retina Display 2560x1600</td>\n",
       "      <td>Intel Core i5 2.3GHz</td>\n",
       "      <td>8GB</td>\n",
       "      <td>128GB SSD</td>\n",
       "      <td>Intel Iris Plus Graphics 640</td>\n",
       "      <td>macOS</td>\n",
       "      <td>1.37kg</td>\n",
       "      <td>71378.6832</td>\n",
       "    </tr>\n",
       "    <tr>\n",
       "      <th>1</th>\n",
       "      <td>Apple</td>\n",
       "      <td>Ultrabook</td>\n",
       "      <td>13.3</td>\n",
       "      <td>1440x900</td>\n",
       "      <td>Intel Core i5 1.8GHz</td>\n",
       "      <td>8GB</td>\n",
       "      <td>128GB Flash Storage</td>\n",
       "      <td>Intel HD Graphics 6000</td>\n",
       "      <td>macOS</td>\n",
       "      <td>1.34kg</td>\n",
       "      <td>47895.5232</td>\n",
       "    </tr>\n",
       "    <tr>\n",
       "      <th>2</th>\n",
       "      <td>HP</td>\n",
       "      <td>Notebook</td>\n",
       "      <td>15.6</td>\n",
       "      <td>Full HD 1920x1080</td>\n",
       "      <td>Intel Core i5 7200U 2.5GHz</td>\n",
       "      <td>8GB</td>\n",
       "      <td>256GB SSD</td>\n",
       "      <td>Intel HD Graphics 620</td>\n",
       "      <td>No OS</td>\n",
       "      <td>1.86kg</td>\n",
       "      <td>30636.0000</td>\n",
       "    </tr>\n",
       "    <tr>\n",
       "      <th>3</th>\n",
       "      <td>Apple</td>\n",
       "      <td>Ultrabook</td>\n",
       "      <td>15.4</td>\n",
       "      <td>IPS Panel Retina Display 2880x1800</td>\n",
       "      <td>Intel Core i7 2.7GHz</td>\n",
       "      <td>16GB</td>\n",
       "      <td>512GB SSD</td>\n",
       "      <td>AMD Radeon Pro 455</td>\n",
       "      <td>macOS</td>\n",
       "      <td>1.83kg</td>\n",
       "      <td>135195.3360</td>\n",
       "    </tr>\n",
       "    <tr>\n",
       "      <th>4</th>\n",
       "      <td>Apple</td>\n",
       "      <td>Ultrabook</td>\n",
       "      <td>13.3</td>\n",
       "      <td>IPS Panel Retina Display 2560x1600</td>\n",
       "      <td>Intel Core i5 3.1GHz</td>\n",
       "      <td>8GB</td>\n",
       "      <td>256GB SSD</td>\n",
       "      <td>Intel Iris Plus Graphics 650</td>\n",
       "      <td>macOS</td>\n",
       "      <td>1.37kg</td>\n",
       "      <td>96095.8080</td>\n",
       "    </tr>\n",
       "  </tbody>\n",
       "</table>\n",
       "</div>"
      ],
      "text/plain": [
       "  Company   TypeName  Inches                    ScreenResolution  \\\n",
       "0   Apple  Ultrabook    13.3  IPS Panel Retina Display 2560x1600   \n",
       "1   Apple  Ultrabook    13.3                            1440x900   \n",
       "2      HP   Notebook    15.6                   Full HD 1920x1080   \n",
       "3   Apple  Ultrabook    15.4  IPS Panel Retina Display 2880x1800   \n",
       "4   Apple  Ultrabook    13.3  IPS Panel Retina Display 2560x1600   \n",
       "\n",
       "                          Cpu   Ram               Memory  \\\n",
       "0        Intel Core i5 2.3GHz   8GB            128GB SSD   \n",
       "1        Intel Core i5 1.8GHz   8GB  128GB Flash Storage   \n",
       "2  Intel Core i5 7200U 2.5GHz   8GB            256GB SSD   \n",
       "3        Intel Core i7 2.7GHz  16GB            512GB SSD   \n",
       "4        Intel Core i5 3.1GHz   8GB            256GB SSD   \n",
       "\n",
       "                            Gpu  OpSys  Weight        Price  \n",
       "0  Intel Iris Plus Graphics 640  macOS  1.37kg   71378.6832  \n",
       "1        Intel HD Graphics 6000  macOS  1.34kg   47895.5232  \n",
       "2         Intel HD Graphics 620  No OS  1.86kg   30636.0000  \n",
       "3            AMD Radeon Pro 455  macOS  1.83kg  135195.3360  \n",
       "4  Intel Iris Plus Graphics 650  macOS  1.37kg   96095.8080  "
      ]
     },
<<<<<<< HEAD
     "execution_count": 9,
=======
     "execution_count": 65,
>>>>>>> 3c44e2ade4b88123a31c9aa298436ff4371f8d5f
     "metadata": {},
     "output_type": "execute_result"
    }
   ],
   "source": [
    "df.head()"
   ]
  },
  {
   "cell_type": "code",
<<<<<<< HEAD
   "execution_count": 10,
   "id": "e7e73560",
=======
   "execution_count": 66,
   "id": "b8ba582c",
>>>>>>> 3c44e2ade4b88123a31c9aa298436ff4371f8d5f
   "metadata": {},
   "outputs": [],
   "source": [
    "df['Ram'] = df['Ram'].str.replace('GB','')\n",
    "df['Weight'] = df['Weight'].str.replace('kg','')"
   ]
  },
  {
   "cell_type": "code",
<<<<<<< HEAD
   "execution_count": 11,
   "id": "cffdb807",
=======
   "execution_count": 67,
   "id": "6cfd0110",
>>>>>>> 3c44e2ade4b88123a31c9aa298436ff4371f8d5f
   "metadata": {},
   "outputs": [
    {
     "data": {
      "text/html": [
       "<div>\n",
       "<style scoped>\n",
       "    .dataframe tbody tr th:only-of-type {\n",
       "        vertical-align: middle;\n",
       "    }\n",
       "\n",
       "    .dataframe tbody tr th {\n",
       "        vertical-align: top;\n",
       "    }\n",
       "\n",
       "    .dataframe thead th {\n",
       "        text-align: right;\n",
       "    }\n",
       "</style>\n",
       "<table border=\"1\" class=\"dataframe\">\n",
       "  <thead>\n",
       "    <tr style=\"text-align: right;\">\n",
       "      <th></th>\n",
       "      <th>Company</th>\n",
       "      <th>TypeName</th>\n",
       "      <th>Inches</th>\n",
       "      <th>ScreenResolution</th>\n",
       "      <th>Cpu</th>\n",
       "      <th>Ram</th>\n",
       "      <th>Memory</th>\n",
       "      <th>Gpu</th>\n",
       "      <th>OpSys</th>\n",
       "      <th>Weight</th>\n",
       "      <th>Price</th>\n",
       "    </tr>\n",
       "  </thead>\n",
       "  <tbody>\n",
       "    <tr>\n",
       "      <th>0</th>\n",
       "      <td>Apple</td>\n",
       "      <td>Ultrabook</td>\n",
       "      <td>13.3</td>\n",
       "      <td>IPS Panel Retina Display 2560x1600</td>\n",
       "      <td>Intel Core i5 2.3GHz</td>\n",
       "      <td>8</td>\n",
       "      <td>128GB SSD</td>\n",
       "      <td>Intel Iris Plus Graphics 640</td>\n",
       "      <td>macOS</td>\n",
       "      <td>1.37</td>\n",
       "      <td>71378.6832</td>\n",
       "    </tr>\n",
       "    <tr>\n",
       "      <th>1</th>\n",
       "      <td>Apple</td>\n",
       "      <td>Ultrabook</td>\n",
       "      <td>13.3</td>\n",
       "      <td>1440x900</td>\n",
       "      <td>Intel Core i5 1.8GHz</td>\n",
       "      <td>8</td>\n",
       "      <td>128GB Flash Storage</td>\n",
       "      <td>Intel HD Graphics 6000</td>\n",
       "      <td>macOS</td>\n",
       "      <td>1.34</td>\n",
       "      <td>47895.5232</td>\n",
       "    </tr>\n",
       "    <tr>\n",
       "      <th>2</th>\n",
       "      <td>HP</td>\n",
       "      <td>Notebook</td>\n",
       "      <td>15.6</td>\n",
       "      <td>Full HD 1920x1080</td>\n",
       "      <td>Intel Core i5 7200U 2.5GHz</td>\n",
       "      <td>8</td>\n",
       "      <td>256GB SSD</td>\n",
       "      <td>Intel HD Graphics 620</td>\n",
       "      <td>No OS</td>\n",
       "      <td>1.86</td>\n",
       "      <td>30636.0000</td>\n",
       "    </tr>\n",
       "    <tr>\n",
       "      <th>3</th>\n",
       "      <td>Apple</td>\n",
       "      <td>Ultrabook</td>\n",
       "      <td>15.4</td>\n",
       "      <td>IPS Panel Retina Display 2880x1800</td>\n",
       "      <td>Intel Core i7 2.7GHz</td>\n",
       "      <td>16</td>\n",
       "      <td>512GB SSD</td>\n",
       "      <td>AMD Radeon Pro 455</td>\n",
       "      <td>macOS</td>\n",
       "      <td>1.83</td>\n",
       "      <td>135195.3360</td>\n",
       "    </tr>\n",
       "    <tr>\n",
       "      <th>4</th>\n",
       "      <td>Apple</td>\n",
       "      <td>Ultrabook</td>\n",
       "      <td>13.3</td>\n",
       "      <td>IPS Panel Retina Display 2560x1600</td>\n",
       "      <td>Intel Core i5 3.1GHz</td>\n",
       "      <td>8</td>\n",
       "      <td>256GB SSD</td>\n",
       "      <td>Intel Iris Plus Graphics 650</td>\n",
       "      <td>macOS</td>\n",
       "      <td>1.37</td>\n",
       "      <td>96095.8080</td>\n",
       "    </tr>\n",
       "  </tbody>\n",
       "</table>\n",
       "</div>"
      ],
      "text/plain": [
       "  Company   TypeName  Inches                    ScreenResolution  \\\n",
       "0   Apple  Ultrabook    13.3  IPS Panel Retina Display 2560x1600   \n",
       "1   Apple  Ultrabook    13.3                            1440x900   \n",
       "2      HP   Notebook    15.6                   Full HD 1920x1080   \n",
       "3   Apple  Ultrabook    15.4  IPS Panel Retina Display 2880x1800   \n",
       "4   Apple  Ultrabook    13.3  IPS Panel Retina Display 2560x1600   \n",
       "\n",
       "                          Cpu Ram               Memory  \\\n",
       "0        Intel Core i5 2.3GHz   8            128GB SSD   \n",
       "1        Intel Core i5 1.8GHz   8  128GB Flash Storage   \n",
       "2  Intel Core i5 7200U 2.5GHz   8            256GB SSD   \n",
       "3        Intel Core i7 2.7GHz  16            512GB SSD   \n",
       "4        Intel Core i5 3.1GHz   8            256GB SSD   \n",
       "\n",
       "                            Gpu  OpSys Weight        Price  \n",
       "0  Intel Iris Plus Graphics 640  macOS   1.37   71378.6832  \n",
       "1        Intel HD Graphics 6000  macOS   1.34   47895.5232  \n",
       "2         Intel HD Graphics 620  No OS   1.86   30636.0000  \n",
       "3            AMD Radeon Pro 455  macOS   1.83  135195.3360  \n",
       "4  Intel Iris Plus Graphics 650  macOS   1.37   96095.8080  "
      ]
     },
<<<<<<< HEAD
     "execution_count": 11,
=======
     "execution_count": 67,
>>>>>>> 3c44e2ade4b88123a31c9aa298436ff4371f8d5f
     "metadata": {},
     "output_type": "execute_result"
    }
   ],
   "source": [
    "df.head()"
   ]
  },
  {
   "cell_type": "code",
<<<<<<< HEAD
   "execution_count": 12,
   "id": "cf4dc8bf",
=======
   "execution_count": 68,
   "id": "a9c78bcd",
>>>>>>> 3c44e2ade4b88123a31c9aa298436ff4371f8d5f
   "metadata": {},
   "outputs": [],
   "source": [
    "df['Ram'] = df['Ram'].astype('int32')\n",
    "df['Weight'] = df['Weight'].astype('float32')"
   ]
  },
  {
   "cell_type": "code",
<<<<<<< HEAD
   "execution_count": 13,
   "id": "8be7130b",
=======
   "execution_count": 69,
   "id": "0381d6cf",
>>>>>>> 3c44e2ade4b88123a31c9aa298436ff4371f8d5f
   "metadata": {},
   "outputs": [
    {
     "name": "stdout",
     "output_type": "stream",
     "text": [
      "<class 'pandas.core.frame.DataFrame'>\n",
      "RangeIndex: 1303 entries, 0 to 1302\n",
      "Data columns (total 11 columns):\n",
      " #   Column            Non-Null Count  Dtype  \n",
      "---  ------            --------------  -----  \n",
      " 0   Company           1303 non-null   object \n",
      " 1   TypeName          1303 non-null   object \n",
      " 2   Inches            1303 non-null   float64\n",
      " 3   ScreenResolution  1303 non-null   object \n",
      " 4   Cpu               1303 non-null   object \n",
      " 5   Ram               1303 non-null   int32  \n",
      " 6   Memory            1303 non-null   object \n",
      " 7   Gpu               1303 non-null   object \n",
      " 8   OpSys             1303 non-null   object \n",
      " 9   Weight            1303 non-null   float32\n",
      " 10  Price             1303 non-null   float64\n",
      "dtypes: float32(1), float64(2), int32(1), object(7)\n",
      "memory usage: 101.9+ KB\n"
     ]
    }
   ],
   "source": [
    "df.info()"
   ]
  },
  {
   "cell_type": "code",
<<<<<<< HEAD
   "execution_count": 14,
   "id": "985196f0",
=======
   "execution_count": 70,
   "id": "0d74493d",
>>>>>>> 3c44e2ade4b88123a31c9aa298436ff4371f8d5f
   "metadata": {},
   "outputs": [],
   "source": [
    "import seaborn as sns"
   ]
  },
  {
   "cell_type": "code",
<<<<<<< HEAD
   "execution_count": 15,
   "id": "5b39dc3e",
=======
   "execution_count": 71,
   "id": "b1b3e040",
>>>>>>> 3c44e2ade4b88123a31c9aa298436ff4371f8d5f
   "metadata": {},
   "outputs": [
    {
     "data": {
      "text/plain": [
<<<<<<< HEAD
       "<seaborn.axisgrid.FacetGrid at 0x163c14e44c0>"
      ]
     },
     "execution_count": 15,
=======
       "<seaborn.axisgrid.FacetGrid at 0x21f417c10d0>"
      ]
     },
     "execution_count": 71,
>>>>>>> 3c44e2ade4b88123a31c9aa298436ff4371f8d5f
     "metadata": {},
     "output_type": "execute_result"
    },
    {
     "data": {
      "image/png": "iVBORw0KGgoAAAANSUhEUgAAAWAAAAFgCAYAAACFYaNMAAAAOXRFWHRTb2Z0d2FyZQBNYXRwbG90bGliIHZlcnNpb24zLjQuMywgaHR0cHM6Ly9tYXRwbG90bGliLm9yZy/MnkTPAAAACXBIWXMAAAsTAAALEwEAmpwYAAAXkklEQVR4nO3de5Cdd33f8fcHGxsMJNjVyiN8GRtiaGRGBXWxuaSMg8IgLoOoB1IxSaqCU40bQzEpFyvMBPqHZ1xIG6dJwVHBwaTURhConboROAq3ToiNANv4gmMFYUm24pVDU1JgTGS+/eM8Cuv1arVa7/P8jnbfr5mdc87vec45Hx1bHz37ey4nVYUkaXhPaB1AkpYrC1iSGrGAJakRC1iSGrGAJakRC1iSGumtgJNcnWQqyR0zxt+a5J4kdyZ5/7TxLUl2dcte0VcuSRoXx/f42h8Ffg/42KGBJD8PbADWVNXDSVZ246uBjcC5wDOAP03y7Kp6pMd8ktRUbwVcVV9KctaM4X8DXFFVD3frTHXjG4DruvHdSXYB5wFfmes91q9fX9u3b1/c4JK0+DLb4NBzwM8G/lmSm5N8MckLuvHTgL3T1tvXjT1Gks1JdibZeffdd/ccV5L6M3QBHw+cDLwQeCewLUmY/V+HWc+RrqqtVTVZVZMTExP9JZWkng1dwPuAT9fILcCPgRXd+BnT1jsdeGDgbJI0qKEL+H8ALwNI8mzgBOAh4AZgY5ITk5wNnAPcMnA2SRpUbzvhklwLXACsSLIPeC9wNXB1d2jaj4BNNboc251JtgF3AQeBSzwCQtJSl2P5cpSTk5O1c+fO1jEk6UjG4igISVLHApakRixgSWrEApakRixgSWrEApakRixgSWrEApakRvq8HvAxad36V7N/6qHDLl+1cgU7tt84YCJJS5UFPMP+qYdYc/GVh11++1WXDpZF0tLmFIQkNWIBS1IjFrAkNWIBS1IjFrAkNWIBS1IjFrAkNWIBS1IjFrAkNeKZcItortOYPYVZ0kwW8CKa6zRmT2GWNJNTEJLUiAUsSY1YwJLUiAUsSY24E+4o7d1zH6vXnj/7sn33s2bgPJKOXRbwUTpYOeyRDru3XDhsGEnHNKcgJKkRC1iSGumtgJNcnWQqyR2zLHtHkkqyYtrYliS7ktyT5BV95ZKkcdHnFvBHgfUzB5OcAbwc2DNtbDWwETi3e84HkxzXYzZJaq63Aq6qLwHfnWXRbwPvAmra2Abguqp6uKp2A7uA8/rKJknjYNA54CSvBe6vqttmLDoN2Dvt8b5ubLbX2JxkZ5KdBw4c6CmpJPVvsAJOchLwHuA3Z1s8y1jNMkZVba2qyaqanJiYWMyIkjSoIY8DfhZwNnBbEoDTga8nOY/RFu8Z09Y9HXhgwGySNLjBtoCr6ptVtbKqzqqqsxiV7tqq+mvgBmBjkhOTnA2cA9wyVDZJaqHPw9CuBb4CPCfJviQXHW7dqroT2AbcBWwHLqmqR/rKJknjoLcpiKp64xGWnzXj8eXA5X3lkaRx45lwktSIBSxJjVjAktSIBSxJjVjAktSIBSxJjVjAktSIBSxJjVjAktSIBSxJjVjAktSIBSxJjVjAktSIBSxJjVjAktSIBSxJjVjAktTIkF/Kuazt3XMfq9eef9jlq1auYMf2GwdMJKk1C3ggByusufjKwy6//apLB8siaTw4BSFJjVjAktSIBSxJjVjAktSIBSxJjVjAktSIh6GNibmOE/YYYWlpsoDHxFzHCXuMsLQ0OQUhSY1YwJLUSG8FnOTqJFNJ7pg29oEk30pye5LPJHn6tGVbkuxKck+SV/SVS5LGRZ9bwB8F1s8Yuwl4blWtAf4S2AKQZDWwETi3e84HkxzXYzZJaq63Aq6qLwHfnTH2uao62D38C+D07v4G4LqqeriqdgO7gPP6yiZJ46DlHPCbgT/p7p8G7J22bF839hhJNifZmWTngQMHeo4oSf1pUsBJ3gMcBD5+aGiW1Wq251bV1qqarKrJiYmJviJKUu8GPw44ySbgNcC6qjpUsvuAM6atdjrwwNDZJGlIg24BJ1kPvBt4bVX9YNqiG4CNSU5McjZwDnDLkNkkaWi9bQEnuRa4AFiRZB/wXkZHPZwI3JQE4C+q6uKqujPJNuAuRlMTl1TVI31lk6Rx0FsBV9UbZxn+yBzrXw5c3lceSRo3ngknSY1YwJLUiAUsSY1YwJLUiAUsSY1YwJLUiAUsSY1YwJLUiAUsSY1YwJLUiAUsSY1YwJLUiAUsSY1YwJLUiAUsSY1YwJLUiAUsSY0M/qWcOnp799zH6rXnz7ps1coV7Nh+48CJJC0GC/gYcLDCmouvnHXZ7VddOmgWSYvHKQhJasQClqRGLGBJasQClqRGLGBJasQClqRGLGBJasQClqRGLGBJasQClqRGeivgJFcnmUpyx7SxU5LclOTe7vbkacu2JNmV5J4kr+grlySNiz63gD8KrJ8xdhmwo6rOAXZ0j0myGtgInNs954NJjusxmyQ111sBV9WXgO/OGN4AXNPdvwZ43bTx66rq4araDewCzusrmySNg6HngE+tqv0A3e3Kbvw0YO+09fZ1Y4+RZHOSnUl2HjhwoNewktSncdkJl1nGarYVq2prVU1W1eTExETPsSSpP0MX8INJVgF0t1Pd+D7gjGnrnQ48MHA2SRrU0AV8A7Cpu78JuH7a+MYkJyY5GzgHuGXgbJI0qN6+ESPJtcAFwIok+4D3AlcA25JcBOwB3gBQVXcm2QbcBRwELqmqR/rKJknjoLcCrqo3HmbRusOsfzlweV95JGncjMtOOEladixgSWrEApakRixgSWrEApakRixgSWrEApakRixgSWrEApakRixgSWrEApakRixgSWrEApakRixgSWrEApakRixgSWrEApakRixgSWrEApakRuZVwEleMp8xSdL8zXcL+HfnOSZJmqc5vxU5yYuAFwMTSX592qKfAo7rM5gkLXVH+lr6E4Cndus9bdr494DX9xVKkpaDOQu4qr4IfDHJR6vqvoEySdKycKQt4ENOTLIVOGv6c6rqZX2EkqTlYL4F/EngKuDDwCP9xZGk5WO+BXywqj7UaxJJWmbmexjaHyf5tSSrkpxy6KfXZJK0xM13C3hTd/vOaWMFPHNx40jS8jGvAq6qsxfzTZO8HfhVRiX+TeBNwEnAJxjt6PsO8ItV9X8W830laZzMq4CT/MvZxqvqY0f7hklOA/4tsLqqfphkG7ARWA3sqKorklwGXAa8+2hff7nZu+c+Vq89/7DLV61cwY7tNw6YSNJ8zXcK4gXT7j8JWAd8HTjqAp72vk9O8veMtnwfALYAF3TLrwG+gAV8RAcrrLn4ysMuv/2qSwfLIunozHcK4q3THyf5aeAPF/KGVXV/kt8C9gA/BD5XVZ9LcmpV7e/W2Z9k5WzPT7IZ2Axw5plnLiSCJI2FhV6O8gfAOQt5YpKTgQ3A2cAzgKck+eX5Pr+qtlbVZFVNTkxMLCSCJI2F+c4B/zGjHWYwugjPzwLbFvievwDsrqoD3Wt/mtEFfx5Msqrb+l0FTC3w9SXpmDDfOeDfmnb/IHBfVe1b4HvuAV6Y5CRGUxDrgJ3A9xkd7nZFd3v9Al9fko4J850D/mKSU/nJzrh7F/qGVXVzkk8x2ol3EPgGsJXRVde2JbmIUUm/YaHvIUnHgvlOQfwi8AFGRyYE+N0k76yqTy3kTavqvcB7Zww/zGhrWJKWhflOQbwHeEFVTQEkmQD+FFhQAbe2bv2r2T/10KzL9u67nzUD55G0PM23gJ9wqHw7f8Mx/IWe+6ceOuyxs7u3XDhsGEnL1nwLeHuSzwLXdo//BfC/+okkScvDkb4T7meAU6vqnUkuBH6O0RzwV4CPD5BPkpasI00jXAn8HUBVfbqqfr2q3s5o6/fKfqNJ0tJ2pAI+q6punzlYVTsZXbVMkrRARyrgJ82x7MmLGUSSlpsjFfBXk/zrmYPdyRJf6yeSJC0PRzoK4lLgM0l+iZ8U7iRwAvDPe8wlSUvenAVcVQ8CL07y88Bzu+Ebq+rPek+mRTHXBdu9WLvU1nyvBfF54PM9Z1EP5rpguxdrl9o6Zs9mk6RjnQUsSY1YwJLUiAUsSY1YwJLUiAUsSY1YwJLUiAUsSY1YwJLUiAUsSY1YwJLUiAUsSY1YwJLUiAUsSY1YwJLUiAUsSY1YwJLUiAUsSY00KeAkT0/yqSTfSnJ3khclOSXJTUnu7W5PbpFNkoYyr++E68HvANur6vVJTgBOAn4D2FFVVyS5DLgMeHejfMveuvWvZv/UQ7Mu88s8pcUxeAEn+SngpcC/AqiqHwE/SrIBuKBb7RrgC1jAzeyfesgv85R61mIK4pnAAeAPknwjyYeTPAU4tar2A3S3K2d7cpLNSXYm2XngwIHhUkvSImtRwMcDa4EPVdXzge8zmm6Yl6raWlWTVTU5MTHRV0ZJ6l2LAt4H7Kuqm7vHn2JUyA8mWQXQ3U41yCZJgxm8gKvqr4G9SZ7TDa0D7gJuADZ1Y5uA64fOJklDanUUxFuBj3dHQHwbeBOjfwy2JbkI2AO8oVE2SRpEkwKuqluByVkWrRs4iiQ145lwktSIBSxJjVjAktSIBSxJjVjAktSIBSxJjVjAktSIBSxJjVjAktRIq1ORNQb27rmP1WvPn33ZvvtZM3AeabmxgJexg5XDXnR995YLhw0jLUNOQUhSIxawJDViAUtSIxawJDViAUtSIxawJDViAUtSIxawJDViAUtSIxawJDViAUtSIxawJDViAUtSIxawJDViAUtSIxawJDViAUtSIxawJDXSrICTHJfkG0n+Z/f4lCQ3Jbm3uz25VTZJGkLLLeC3AXdPe3wZsKOqzgF2dI8laclqUsBJTgdeDXx42vAG4Jru/jXA6waOJUmDarUFfCXwLuDH08ZOrar9AN3tytmemGRzkp1Jdh44cKD3oJLUl8ELOMlrgKmq+tpCnl9VW6tqsqomJyYmFjmdJA3n+Abv+RLgtUleBTwJ+Kkk/w14MMmqqtqfZBUw1SCbJA1m8C3gqtpSVadX1VnARuDPquqXgRuATd1qm4Drh84mSUMap+OArwBenuRe4OXdY0laslpMQfyDqvoC8IXu/t8A61rmkaQhNS1gHZv27rmP1WvPP+zyVStXsGP7jQMmko5NFrCO2sEKay6+8rDLb7/q0sGySMeycZoDlqRlxQKWpEYsYElqxAKWpEYsYElqxAKWpEYsYElqxAKWpEYsYElqxAKWpEYsYElqxAKWpEYsYElqxAKWpEYsYElqxAKWpEYsYElqxAKWpEYsYElqxAKWpEYsYElqxAKWpEb8Wnotur177mP12vNnXfbg/gc4ddUzZl22auUKdmy/sc9o0lixgLXoDlZYc/GVsy67fsuFh112+1WX9pZJGkdOQUhSIxawJDViAUtSI4MXcJIzknw+yd1J7kzytm78lCQ3Jbm3uz156GySNKQWW8AHgX9XVT8LvBC4JMlq4DJgR1WdA+zoHkvSkjV4AVfV/qr6enf/74C7gdOADcA13WrXAK8bOpskDanpYWhJzgKeD9wMnFpV+2FU0klWHuY5m4HNAGeeeeZASTWEuY4fBo8T1tLTrICTPBX4I+DSqvpeknk9r6q2AlsBJicnq7+EGtpcxw+Dxwlr6WlyFESSJzIq349X1ae74QeTrOqWrwKmWmSTpKG0OAoiwEeAu6vqP01bdAOwqbu/Cbh+6GySNKQWUxAvAX4F+GaSW7ux3wCuALYluQjYA7yhQTZJGszgBVxV/xs43ITvuiGzSFJLngknSY1YwJLUiAUsSY1YwJLUiAUsSY1YwJLUiAUsSY34nXA6Zvhln1pqLGAdM/yyTy01TkFIUiMWsCQ1YgFLUiMWsCQ1YgFLUiMWsCQ1YgFLUiMWsCQ14okYWvL8unuNKwtYS55fd69x5RSEJDViAUtSIxawJDXiHLCWvbl20rmDTn2ygLXszbWTzh106pNTEJLUiAUsSY04BSGNmXXrX83+qYcOu9x56aXDApbGzP6phzxxZJmwgKU5PJ4jJObaknUrVjCGBZxkPfA7wHHAh6vqisaRtIw9niMk5tqSdStWMGYFnOQ44L8ALwf2AV9NckNV3dU2mfRYR7rIz95997NmwDxH0tfccqs5675+wxjyN5exKmDgPGBXVX0bIMl1wAbAAtbYOdJFfnZvuXC4MPPQ19xyqznrvn7DGPI3l1TVor7g45Hk9cD6qvrV7vGvAOdX1VumrbMZ2Nw9fA5wzywvtQI4/D/J48Ws/TBrP8y6MA9V1fqZg+O2BZxZxh71L0RVbQW2zvkiyc6qmlzMYH0xaz/M2g+zLq5xOxFjH3DGtMenAw80yiJJvRq3Av4qcE6Ss5OcAGwEbmicSZJ6MVZTEFV1MMlbgM8yOgzt6qq6cwEvNecUxZgxaz/M2g+zLqKx2gknScvJuE1BSNKyYQFLUiNLqoCTrE9yT5JdSS4b+L2/k+SbSW5NsrMbOyXJTUnu7W5Pnrb+li7nPUleMW38n3avsyvJf06SbvzEJJ/oxm9OctZRZLs6yVSSO6aNDZItyabuPe5NsmmBWd+X5P7us701yataZ01yRpLPJ7k7yZ1J3jaun+scWcfxc31SkluS3NZl/ffj+rkuiqpaEj+Mdtr9FfBM4ATgNmD1gO//HWDFjLH3A5d19y8D/kN3f3WX70Tg7C73cd2yW4AXMTom+k+AV3bjvwZc1d3fCHziKLK9FFgL3DFkNuAU4Nvd7cnd/ZMXkPV9wDtmWbdZVmAVsLa7/zTgL7s8Y/e5zpF1HD/XAE/t7j8RuBl44Th+rovSG32++JA/3Qf92WmPtwBbBnz/7/DYAr4HWDXtL8E9s2VjdNTHi7p1vjVt/I3A709fp7t/PKMzfHIU+c7i0aXWe7bp63TLfh944wKyvo/Zi6J51mnrX8/oGiZj+7nOknWsP1fgJODrwPnHwue6kJ+lNAVxGrB32uN93dhQCvhckq9ldLo0wKlVtR+gu13ZjR8u62nd/Znjj3pOVR0E/i/wjx5H3iGyLeZ/k7ckub2bojj06+dYZO1+hX0+o621sf5cZ2SFMfxckxyX5FZgCripqsb+c12opVTARzyNuWcvqaq1wCuBS5K8dI51D5d1rj/DUH++xcy2WJk/BDwLeB6wH/iPj+N9FzVrkqcCfwRcWlXfm2vVBbxv31nH8nOtqkeq6nmMzoQ9L8lz51i9+ef6eCylAm56GnNVPdDdTgGfYXRltweTrALobqeOkHVfd3/m+KOek+R44KeB7z6OyENkW5T/JlX1YPeX8sfAf2X02TbPmuSJjArt41X16W54LD/X2bKO6+d6SFX9LfAFYD1j+rk+bn3Obwz5w2gu59uMJuIP7YQ7d6D3fgrwtGn3/5zR/zQf4NE7Dt7f3T+XR+84+DY/2XHwVUY7HQ7tOHhVN34Jj95xsO0oM57Fo+dVe8/GaGfGbkY7NE7u7p+ygKyrpt1/O3Bd66zd634MuHLG+Nh9rnNkHcfPdQJ4enf/ycCXgdeM4+e6KN3R54sP/QO8itEe3r8C3jPg+z6z+5/gNuDOQ+/NaF5pB3Bvd3vKtOe8p8t5D93e2W58ErijW/Z7/ORsxScBnwR2Mdq7+8yjyHcto18x/57Rv/IXDZUNeHM3vgt40wKz/iHwTeB2RtcGWdU6K/BzjH49vR24tft51Th+rnNkHcfPdQ3wjS7THcBvDvl36WiyLsaPpyJLUiNLaQ5Yko4pFrAkNWIBS1IjFrAkNWIBS1IjFrCWvCSPdFf7uiPJJ5OcdJj1/nzobFreLGAtBz+squdV1XOBHwEXT1+Y5DiAqnpxi3BavixgLTdfBn4myQXdNXL/O6OTEUjy/w6tlORd3bVkb0tyRTf2rCTbuwsufTnJP27zR9BSMVZfyin1qTvv/5XA9m7oPOC5VbV7xnqvBF4HnF9VP0hySrdoK3BxVd2b5Hzgg8DLBgmvJckC1nLw5O7yhjDaAv4I8GLglpnl2/kF4A+q6gcAVfXd7kpiLwY+2X2xAoyuPyAtmAWs5eCHNbq84T/oSvT7h1k/PPYyhE8A/nbm60iPh3PA0mN9DnjzoaMlkpxSo+vn7k7yhm4sSf5Jy5A69lnA0gxVtZ3R1cF2dlMX7+gW/RJwUZJDV73b0CahlgqvhiZJjbgFLEmNWMCS1IgFLEmNWMCS1IgFLEmNWMCS1IgFLEmN/H9T2bLsL6nobgAAAABJRU5ErkJggg==\n",
      "text/plain": [
       "<Figure size 360x360 with 1 Axes>"
      ]
     },
     "metadata": {
      "needs_background": "light"
     },
     "output_type": "display_data"
    }
   ],
   "source": [
    "sns.displot(df['Price'])"
   ]
  },
  {
   "cell_type": "code",
<<<<<<< HEAD
   "execution_count": 16,
   "id": "bd2fdba9",
=======
   "execution_count": 72,
   "id": "f26de07e",
>>>>>>> 3c44e2ade4b88123a31c9aa298436ff4371f8d5f
   "metadata": {},
   "outputs": [
    {
     "data": {
      "text/plain": [
       "<AxesSubplot:>"
      ]
     },
<<<<<<< HEAD
     "execution_count": 16,
=======
     "execution_count": 72,
>>>>>>> 3c44e2ade4b88123a31c9aa298436ff4371f8d5f
     "metadata": {},
     "output_type": "execute_result"
    },
    {
     "data": {
      "image/png": "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\n",
      "text/plain": [
       "<Figure size 432x288 with 1 Axes>"
      ]
     },
     "metadata": {
      "needs_background": "light"
     },
     "output_type": "display_data"
    }
   ],
   "source": [
    "df['Company'].value_counts().plot(kind='bar')"
   ]
  },
  {
   "cell_type": "code",
<<<<<<< HEAD
   "execution_count": 17,
   "id": "f0ffe235",
=======
   "execution_count": 73,
   "id": "f6039e9d",
>>>>>>> 3c44e2ade4b88123a31c9aa298436ff4371f8d5f
   "metadata": {},
   "outputs": [
    {
     "data": {
<<<<<<< HEAD
      "image/png": "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\n",
=======
      "image/png": "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\n",
>>>>>>> 3c44e2ade4b88123a31c9aa298436ff4371f8d5f
      "text/plain": [
       "<Figure size 432x288 with 1 Axes>"
      ]
     },
     "metadata": {
      "needs_background": "light"
     },
     "output_type": "display_data"
    }
   ],
   "source": [
    "sns.barplot(x=df['Company'],y=df['Price'])\n",
    "plt.xticks(rotation='vertical')\n",
    "plt.show()"
   ]
  },
  {
   "cell_type": "code",
<<<<<<< HEAD
   "execution_count": 18,
   "id": "fc56cb01",
=======
   "execution_count": 74,
   "id": "6df470e1",
>>>>>>> 3c44e2ade4b88123a31c9aa298436ff4371f8d5f
   "metadata": {},
   "outputs": [
    {
     "data": {
      "text/plain": [
       "<AxesSubplot:>"
      ]
     },
<<<<<<< HEAD
     "execution_count": 18,
=======
     "execution_count": 74,
>>>>>>> 3c44e2ade4b88123a31c9aa298436ff4371f8d5f
     "metadata": {},
     "output_type": "execute_result"
    },
    {
     "data": {
      "image/png": "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\n",
      "text/plain": [
       "<Figure size 432x288 with 1 Axes>"
      ]
     },
     "metadata": {
      "needs_background": "light"
     },
     "output_type": "display_data"
    }
   ],
   "source": [
    "df['TypeName'].value_counts().plot(kind='bar')"
   ]
  },
  {
   "cell_type": "code",
<<<<<<< HEAD
   "execution_count": 19,
   "id": "15536b37",
=======
   "execution_count": 75,
   "id": "4300cef0",
>>>>>>> 3c44e2ade4b88123a31c9aa298436ff4371f8d5f
   "metadata": {},
   "outputs": [
    {
     "data": {
<<<<<<< HEAD
      "image/png": "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\n",
=======
      "image/png": "iVBORw0KGgoAAAANSUhEUgAAAZgAAAFVCAYAAADSTfk/AAAAOXRFWHRTb2Z0d2FyZQBNYXRwbG90bGliIHZlcnNpb24zLjQuMywgaHR0cHM6Ly9tYXRwbG90bGliLm9yZy/MnkTPAAAACXBIWXMAAAsTAAALEwEAmpwYAAApJklEQVR4nO3debhdZXn+8e9NwhAiYQyDCRpUHBAVJVIEqygKaC3QCjVWJNXUKFKhgyLU/oSq9EKss4WKMgS0AsWBaKWCDFIRgaAyS0lBIUAkGIgRBUly//5Y7yH7bHZOAuy11znr3J/r2tfe61nDfhY5nOes933Xu2SbiIiIfluv6QQiIqKdUmAiIqIWKTAREVGLFJiIiKhFCkxERNQiBSYiImoxsekERoutttrKM2bMaDqNiIgx5dprr73f9tRe62orMJJOA94E3Gd756517wc+AUy1fX+JHQPMAVYCR9j+XonvCpwBTAK+Cxxp25I2BM4EdgV+DbzF9i/KPrOBfypf9zHb89aW74wZM1iwYMFTOueIiPFG0i/XtK7OJrIzgP16JLM98Hrgzo7YTsAs4IVln5MkTSirTwbmAjuW19Ax5wAP2H4O8Gng4+VYWwDHAn8E7AYcK2nzPp9bRESsRW0FxvblwNIeqz4NHAV0TiFwAHC27Uds3wEsBHaTtB0wxfaVrqYcOBM4sGOfoSuT84C9JQnYF7jI9lLbDwAX0aPQRUREvQbayS9pf+Bu29d1rZoG3NWxvKjEppXP3fFh+9heASwDthzhWL3ymStpgaQFS5YseVLnFBERvQ2swEjaGPgQ8OFeq3vEPEL8ye4zPGifYnum7ZlTp/bso4qIiCdpkFcwzwZ2AK6T9AtgOvATSdtSXWVs37HtdOCeEp/eI07nPpImAptSNcmt6VgRETFAAyswtm+wvbXtGbZnUBWCl9leDMwHZknaUNIOVJ35V9u+F1guaffSv3IocH455Hxgdvl8EHBJ6af5HrCPpM1L5/4+JRYREQNU5zDlrwF7AVtJWgQca/vUXtvavknSucDNwArgcNsry+rDWD1M+YLyAjgVOEvSQqorl1nlWEslfRS4pmz3Edu9BhtERESNlOfBVGbOnOncBxMRY9lRRx3F4sWL2XbbbTnxxBMH8p2SrrU9s9e63MkfEdESixcv5u677246jcdkLrKIiKhFCkxERNQiBSYiImqRAhMREbVIgYmIiFqkwERERC1SYCIiohYpMBERUYsUmIiIqEUKTERE1CIFJiIiapECExERtUiBiYiIWqTARERELVJgIiKiFikwERFRixSYiIioRQpMRETUIgUmIiJqkQITERG1qK3ASDpN0n2SbuyIfULSzyVdL+mbkjbrWHeMpIWSbpW0b0d8V0k3lHWfk6QS31DSOSV+laQZHfvMlnRbec2u6xwjImLNZLueA0uvAn4LnGl75xLbB7jE9gpJHwew/UFJOwFfA3YDng58H3iu7ZWSrgaOBH4MfBf4nO0LJL0XeLHt90iaBfyZ7bdI2gJYAMwEDFwL7Gr7gZHynTlzphcsWND3/w4REb0cf8hBfT/mlfct4/crVzFpwnq8YutN+378D33lvMfFJF1re2av7Wu7grF9ObC0K3ah7RVl8cfA9PL5AOBs24/YvgNYCOwmaTtgiu0rXVXCM4EDO/aZVz6fB+xdrm72BS6yvbQUlYuA/Wo5yYiIWKMm+2DeCVxQPk8D7upYt6jEppXP3fFh+5SitQzYcoRjRUTEADVSYCR9CFgBfHUo1GMzjxB/svt05zFX0gJJC5YsWTJy0hER8YQMvMCUTvc3AW/z6g6gRcD2HZtNB+4p8ek94sP2kTQR2JSqSW5Nx3oc26fYnml75tSpU5/KaUVERJeBFhhJ+wEfBPa3/buOVfOBWWVk2A7AjsDVtu8FlkvavfSvHAqc37HP0Aixg6gGDxj4HrCPpM0lbQ7sU2IRETFAE+s6sKSvAXsBW0laBBwLHANsCFxURhv/2PZ7bN8k6VzgZqqms8NtryyHOgw4A5hE1Wcz1G9zKnCWpIVUVy6zAGwvlfRR4Jqy3UdsDxtsEBER9autwNh+a4/wqSNsfzxwfI/4AmDnHvGHgYPXcKzTgNPWOdmIiOi73MkfERG1SIGJiIhapMBEREQtUmAiIqIWKTAREVGLFJiIiKhFCkxERNQiBSYiImqRAhMREbVIgYmIiFqkwERERC1SYCIiohYpMBERUYvaZlOOiIjB2mjCesPem5YCExHREi/dcpOmUxhmdJS5iIhonRSYiIioRQpMRETUIgUmIiJqkQITERG1SIGJiIhapMBEREQtaiswkk6TdJ+kGztiW0i6SNJt5X3zjnXHSFoo6VZJ+3bEd5V0Q1n3OUkq8Q0lnVPiV0ma0bHP7PIdt0maXdc5RkTEmtV5BXMGsF9X7GjgYts7AheXZSTtBMwCXlj2OUnShLLPycBcYMfyGjrmHOAB288BPg18vBxrC+BY4I+A3YBjOwtZREQMRm0FxvblwNKu8AHAvPJ5HnBgR/xs24/YvgNYCOwmaTtgiu0rbRs4s2ufoWOdB+xdrm72BS6yvdT2A8BFPL7QRUREzQbdB7ON7XsByvvWJT4NuKtju0UlNq187o4P28f2CmAZsOUIx3ocSXMlLZC0YMmSJU/htCIiotto6eRXj5hHiD/ZfYYH7VNsz7Q9c+rUqeuUaERErJtBT3b5K0nb2b63NH/dV+KLgO07tpsO3FPi03vEO/dZJGkisClVk9wiYK+ufS7r72lEtNdRRx3F4sWL2XbbbTnxxBObTifGsEFfwcwHhkZ1zQbO74jPKiPDdqDqzL+6NKMtl7R76V85tGufoWMdBFxS+mm+B+wjafPSub9PiUXEOli8eDF33303ixcvbjqVGONqu4KR9DWqK4mtJC2iGtl1AnCupDnAncDBALZvknQucDOwAjjc9spyqMOoRqRNAi4oL4BTgbMkLaS6cplVjrVU0keBa8p2H7HdPdggIiJqVluBsf3WNazaew3bHw8c3yO+ANi5R/xhSoHqse404LR1TjYiIvputHTyR0REy6TARERELVJgIiKiFikwERFRixSYiIioRQpMRETUYtB38kdEn/zgVa+u5bi/nzgBJH6/aFHfv+PVl/+gr8eL0S1XMBERUYsUmIiIqEUKTERE1CIFJiIiapECExERtUiBiYiIWqTARERELXIfTAPyxMCIGA9SYBow9MTAiNFoM3vYe8STlQITEcMcsnJV0ylES6QPJiIiapECExERtUiBiYiIWqTARERELRrp5Jf0d8BfAwZuAN4BbAycA8wAfgH8he0HyvbHAHOAlcARtr9X4rsCZwCTgO8CR9q2pA2BM4FdgV8Db7H9iyeT664fOPPJ7DaiTe5fzgTgzvuX13L8az9xaN+PGRHxRA38CkbSNOAIYKbtnYEJwCzgaOBi2zsCF5dlJO1U1r8Q2A84SdKEcriTgbnAjuW1X4nPAR6w/Rzg08DHB3BqERHRoakmsonAJEkTqa5c7gEOAOaV9fOAA8vnA4CzbT9i+w5gIbCbpO2AKbavtG2qK5bOfYaOdR6wtyTVe0oREdFp4AXG9t3AvwJ3AvcCy2xfCGxj+96yzb3A1mWXacBdHYdYVGLTyufu+LB9bK8AlgFbduciaa6kBZIWLFmypD8nGBERQDNNZJtTXWHsADwdmCzpkJF26RHzCPGR9hkesE+xPdP2zKlTp46ceEREPCFNNJG9DrjD9hLbjwLfAPYAflWavSjv95XtFwHbd+w/napJbVH53B0ftk9phtsUWFrL2URERE9NFJg7gd0lbVz6RfYGbgHmA7PLNrOB88vn+cAsSRtK2oGqM//q0oy2XNLu5TiHdu0zdKyDgEtKP82osGqDyazccAqrNpjcdCoREbVZp2HKkp5LNWJrG9s7S3oxsL/tjz3RL7R9laTzgJ8AK4CfAqcATwPOlTSHqggdXLa/SdK5wM1l+8NtryyHO4zVw5QvKC+AU4GzJC2kunKZ9UTzrNNDO+7TdAoREbVb1/tgvgR8APgigO3rJf0H8IQLTNn/WODYrvAjVFczvbY/Hji+R3wBsHOP+MOUAhUREc1Y1yayjW1f3RVb0e9kIiKiPda1wNwv6dmUkViSDqIaYhwREdHTujaRHU7VT/J8SXcDdwAjDS2OiBiV8kTZwVmnAmP7duB1kiYD69leXm9aERH1yBNlB2edmsgk/YukzWw/ZHu5pM0lPakO/oiIGB/WtQ/mDbYfHFoosxy/sZaMIiKiFda1wEwoU+ADIGkSsOEI20dExDi3rp38XwEulnQ61Uiyd7J6tuKIiIjHWddO/hMl3UB1I6SAjw499CsiIqKXdX6ipe3OqVgiIiJGNGKBkfRD26+UtJzh090LsO0ptWYXERFj1ogFxvYry/smg0knIiLaYq1NZJLWA663/bhJJSMi6vKFf/h2Lcd98P6HHnvv93f8zSf/tK/HG+vWOkzZ9irgOknPGEA+ERHREuvayb8dcJOkq4GHhoK2968lq4iIGPPWtcD8c61ZRERE66xtFNlGwHuA5wA3AKfaznNgIiJirdbWBzMPmElVXN4AfLL2jCIiohXW1kS2k+0XAUg6Feh+qmVERERPa7uCeXToQ5rGIiLiiVjbFcxLJP2mfBYwqSznTv6IiBjRiFcwtifYnlJem9ie2PH5SRcXSZtJOk/SzyXdIukVkraQdJGk28r75h3bHyNpoaRbJe3bEd9V0g1l3eckqcQ3lHROiV8lacaTzTUiIp6cdX0eTL99Fvhv288HXgLcAhwNXGx7R+DisoyknYBZwAuB/YCTJE0oxzkZmAvsWF77lfgc4AHbzwE+DXx8ECcVEaPf5A2mMHnDzZi8QRpg6rbOsyn3i6QpwKuAvwKw/QfgD5IOAPYqm80DLgM+CBwAnG37EeAOSQuB3ST9Aphi+8py3DOBA6lmfD4AOK4c6zzgC5Jku3PCzogYh/Z89p83ncK40cQVzLOAJcDpkn4q6cuSJgPb2L4XoLxvXbafBtzVsf+iEptWPnfHh+1TBicsA7as53QiIqKXJgrMROBlwMm2X0o19czRI2yvHjGPEB9pn+EHluZKWiBpwZIlS0bOOiIinpAmCswiYJHtq8ryeVQF51eStgMo7/d1bL99x/7TgXtKfHqP+LB9JE0ENgWWdidi+xTbM23PnDp1ah9OLSIihgy8wNheDNwl6XkltDdwMzAfmF1is4Hzy+f5wKwyMmwHqs78q0sz2nJJu5fRY4d27TN0rIOAS9L/EhExWAPv5C/eB3xV0gbA7cA7qIrduZLmAHcCBwPYvknSuVRFaAVwuO2V5TiHAWcAk6g694ce6XwqcFYZELCUahRaREQMUCMFxvbPqOY467b3GrY/Hji+R3wB8LgHodl+mFKgIiKiGU3dBxMRES2XAhMREbVIgYmIiFqkwERERC1SYCIiohYpMBERUYsUmIiIqEUKTERE1CIFJiIiapECExERtUiBiYiIWqTARERELVJgIiKiFikwERFRixSYiIioRVMPHIsYs4466igWL17Mtttuy4knnth0OhGjVgpMxBO0ePFi7r777qbTiBj10kQWERG1SIGJiIhapIks+i59FBEBKTBRg/RRRASkiSwiImrSWIGRNEHSTyV9pyxvIekiSbeV9807tj1G0kJJt0ratyO+q6QbyrrPSVKJbyjpnBK/StKMgZ9gRMQ412QT2ZHALcCUsnw0cLHtEyQdXZY/KGknYBbwQuDpwPclPdf2SuBkYC7wY+C7wH7ABcAc4AHbz5E0C/g48JbBndrYcedHXtT3Y65YugUwkRVLf9n34z/jwzf09XgRUZ9GrmAkTQf+BPhyR/gAYF75PA84sCN+tu1HbN8BLAR2k7QdMMX2lbYNnNm1z9CxzgP2Hrq6iYiIwWiqiewzwFHAqo7YNrbvBSjvW5f4NOCuju0Wldi08rk7Pmwf2yuAZcCW3UlImitpgaQFS5YseYqnFBERnQZeYCS9CbjP9rXrukuPmEeIj7TP8IB9iu2ZtmdOnTp1HdOJtdlqo1VsM2kFW220au0bR0RrNdEHsyewv6Q3AhsBUyR9BfiVpO1s31uav+4r2y8Ctu/YfzpwT4lP7xHv3GeRpInApsDSuk4ohnv/ix9sOoWIGAUGfgVj+xjb023PoOq8v8T2IcB8YHbZbDZwfvk8H5hVRobtAOwIXF2a0ZZL2r30rxzatc/QsQ4q3/G4K5iIiKjPaLrR8gTgXElzgDuBgwFs3yTpXOBmYAVweBlBBnAYcAYwiWr02AUlfipwlqSFVFcuswZ1EhERUWm0wNi+DLisfP41sPcatjseOL5HfAGwc4/4w5QCFRERzcid/BERUYsUmIiIqEUKTERE1CIFJiIiajGaRpFF9N2en9+z78fc4MENWI/1uOvBu/p+/Cved0VfjxfRpFzBRERELVJgIiKiFikwERFRixSYiIioRQpMRETUIgUmIiJqkQITERG1SIGJiIhapMBEREQtUmAiIqIWKTAREVGLFJiIiKhFCkxERNQiBSYiImqRAhMREbVIgYmIiFoMvMBI2l7SpZJukXSTpCNLfAtJF0m6rbxv3rHPMZIWSrpV0r4d8V0l3VDWfU6SSnxDSeeU+FWSZgz6PCMixrsmrmBWAP9g+wXA7sDhknYCjgYutr0jcHFZpqybBbwQ2A84SdKEcqyTgbnAjuW1X4nPAR6w/Rzg08DHB3FiMT54Y7Nq8iq8sZtOJWJUG3iBsX2v7Z+Uz8uBW4BpwAHAvLLZPODA8vkA4Gzbj9i+A1gI7CZpO2CK7SttGziza5+hY50H7D10dRPxVD2656P84fV/4NE9H206lYhRrdE+mNJ09VLgKmAb2/dCVYSArctm04C7OnZbVGLTyufu+LB9bK8AlgFb1nISERHRU2MFRtLTgK8Df2v7NyNt2iPmEeIj7dOdw1xJCyQtWLJkydpSjoiIJ6CRAiNpfari8lXb3yjhX5VmL8r7fSW+CNi+Y/fpwD0lPr1HfNg+kiYCmwJLu/OwfYrtmbZnTp06tR+nFhERRROjyAScCtxi+1Mdq+YDs8vn2cD5HfFZZWTYDlSd+VeXZrTlknYvxzy0a5+hYx0EXFL6aSIiYkAmNvCdewJvB26Q9LMS+0fgBOBcSXOAO4GDAWzfJOlc4GaqEWiH215Z9jsMOAOYBFxQXlAVsLMkLaS6cplV8zlFRESXgRcY2z+kdx8JwN5r2Od44Pge8QXAzj3iD1MKVERENCN38kdERC1SYCIiohYpMBERUYsUmIiIqEUKTERE1CIFJiIiapECExERtUiBiYiIWqTARERELVJgIiKiFikwERFRixSYiIioRQpMRETUIgUmIiJqkQITERG1SIGJiIhapMBEREQtUmAiIqIWKTAREVGLFJiIiKhFCkxERNQiBSYiImrR6gIjaT9Jt0paKOnopvOJiBhPWltgJE0A/g14A7AT8FZJOzWbVUTE+NHaAgPsBiy0fbvtPwBnAwc0nFNExLgh203nUAtJBwH72f7rsvx24I9s/03HNnOBuWXxecCtA0xxK+D+AX7foOX8xrac39g16HN7pu2pvVZMHGASg6YesWHV1PYpwCmDSWc4SQtsz2ziuwch5ze25fzGrtF0bm1uIlsEbN+xPB24p6FcIiLGnTYXmGuAHSXtIGkDYBYwv+GcIiLGjdY2kdleIelvgO8BE4DTbN/UcFqdGmmaG6Cc39iW8xu7Rs25tbaTPyIimtXmJrKIiGhQCkxERNQiBSYixgVJkyQ9r+k8xpMUmAGStGGP2BZN5FKHXuciaYcmcqlD28+vzST9KfAz4L/L8i6SMqq0ZunkHyBJ/wUcaPvRsrwd8B3buzabWX9IugJ4g+3flOWdgHNt79xsZv3R5vOT9LIe4WXAL22vGHQ+/SbpWuC1wGW2X1pi19t+cbOZ9YekqcC7gBl0jA62/c6mcoIWD1Mepb4F/KekN1PdBDofeH+jGfXXvwDflvQnVFPvnAm8rdmU+qrN53cS8DLgeqpZMHYun7eU9B7bFzaZXB+ssL1M6jXBRyucD/wP8H1gZcO5PCYFZoBsf6nc9Pktqr803m37R40m1Ue2/0vS+sCFwCZUV2u3NZxW37T8/H4BzBm6V6xcnX0A+CjwDapzHstulPSXwARJOwJHAK35fw/Y2PYHm06iW5rIBkDS33cuAm8HbgB+CmD7U03k1S+SPs/wed5eC9xO9UsL20c0kFbftP38ACT9zPYuvWK91o01kjYGPgTsQ/X/4PeAj9p+uNHE+kTSx4Af2f5u07l0yhXMYGzStfzNNcTHqgVdy9c2kkV92n5+ALdKOpnqsRYAbwH+twxMebS5tPrD9u+oCsyHms6lJkcC/yjpD6z+97LtKQ3mlCuYJkjahOof/7dN59JvpQnwuWXx1qEBDW3R1vOTNAl4L/BKqr/wf0jVL/MwVfPLmPxZlfRtumZR72R7/wGmM+6kwAyQpJ2Bs4Ch4a73A4eOsjnSnjRJewHzqJqORDWQYbbty5vLqn/afn5tJOnVI623/YNB5VI3SfsDryqLl9n+TpP5QArMQEn6EfAh25eW5b2Af7G9R5N59UsZCvqXtm8ty88FvtaiYditPT9JewLHAc9k+DDXZzWVU7+Vq8/nU13R3FqedNsKkk4AXg58tYTeClxr++jmskofzKBNHiouALYvkzS5yYT6bP2hX74Atv+3jLpqizaf36nA31H1L42aYa79UoaW/zvwf1RXnztIerftC5rNrG/eCOxiexWApHlUg4hSYMaR2yX9P6pmMoBDgDsazKffFkg6ldXn9zba1SHe5vNb1qJftr18EniN7YUAkp4N/BfQpnPeDFhaPm/aYB6PSRPZAEnaHPhnVnekXg4cZ/uBRhPrkzLi6HCGn99Jth9pNLE+afP5lSaWCVT3vDx2PrZ/0lhSfSTpctuv6lgW8IPO2Fgm6a3ACcClVD+brwKOsX32iDvWnVcKzOBJmgKsGqsjc0ZS2rmfx+p27laMshrS1vOTdGmPsG2/duDJ9JGkPy8fX0/Vv3Qu1b/dwVT/fv/QVG79VqaeejlVgbnK9uKGU0qBGSRJL6KaXqRzFNls2zc2l1X/tH2UVdvPr40knT7Cajc9V9dTJen5tn++hrnkGr8CTYEZoIwiG9vaeH6SDrH9la7ZJh4z1meZaDtJp9ieO1qvQNPJP1gZRTa2tfH8hn7+2jKrxDCSjrJ9Yo/pfoCxP82P7bnl4xu6p72RtFEDKQ2TAjNYGUU2trXu/Gx/sbz/c9O51OSW8t493U/b/IhqNuy1xQYqBWaw3kk1iuwbrB6F9I5GM+qvw6hGWR1BxyirRjPqr9aeX3lw2vt4/PNExvRUKra/XT7+zvZ/dq6TdHADKfWVpG2BacAkSS+l+rkEmAJs3FhiRfpgGiBpU6pRZMubzqXfyiirFwCraNnd0tDe85N0HdXNljdQnRvQnqlUJP3E9svWFhtrJM0G/gqYyfCrtOXAGba/0UReQ1JgBkjSy4HTWN3evQx4p+0x3cwypNfd0lTPvGnFzWxtPj9JV9n+o6bz6DdJb6C6y/0vgHM6Vk0BdrK9WyOJ9ZmkN9v+etN5dEuBGSBJ1wOH2/6fsvxKqhv12vLY1p8Db+q+W9r285vNrD/afH7lYVw7Uj1YrDU3Wkp6CbAL8BHgwx2rlgOXtuUmZ3jsD6AXAo917tv+SHMZpQ9m0JYPFRcA2z+U1KZmsvuGfvkWtwP3NZVMDdp8fi+iehDea1ndROayPGbZvk7SjcA+tuc1nU9dJP07VZ/La4AvAwcBVzeaFCkwA9FxE9TVkr4IfI3qf963AJc1lVe/dNwtfZOk7zL8bulrGkusT9p+fsWfAc9qS59SJ9srJW0paYM2nl+xh+0XS7re9j9L+iTVYKJGpcAMxie7lo/t+NyGNso/7fj8K2DoGRxLgM0Hn07ftf38AK6jmiyxLVdk3X4JXCFpPvDQULBFN5L+vrz/TtLTgV9T9RE2KgVmAGy/pukc6mS7TUOtH2fo/CTtafuKznXlOSptsA3wc0nXMLwPZkwPU+5wT3mtRztvKv2OpM2ATwA/ofrD9cuNZkQ6+QduNHbE9UuZOuVkYBvbO0t6MbC/7Y81nFpftHWoK6z5yY9tGaY8RNJk2w+tfcuxRdKGQ7N6l1m/NwIebnqm71zBDNBo7Yjroy8BHwCG7g6/XtJ/AGO6wEh6BbAHMLVrzq4pVFPcj3ltKyTdyr/hqcDTgGeU0WXvtv3eZjPrmyspd+2XovKIpJ/Q8J386zX55ePQHrYPBR4oU3O8gmpG3rbY2HZ3wVzRSCb9tQHVL6aJVM0rQ6/fUP2RMOZJ2l3SNZJ+K+kPklZK+k3TefXRZ4B9qfomsH0dq59fP2ZJ2lbSrpQ7+SW9rLz2YhTcyZ8rmMEamoxuVHXE9dH95d4QA0g6CLi32ZSeuvLX/Q8knWH7ly1tZvkCMAv4T6q7wg+lui+mNWzfVT1n7DFteDT0vlR38k+nGkw0dILLgX9sKKfHpMAM1rd7dMR9qdGM+utw4BTg+ZLupprI823NptRXT5d0AS1tZrG9UNIE2yuB08vjJdriLkl7AC7T/RzB6okwx6xyb8+80XonfwrMgEhaD7jY9oPA1yV9B9jI9rJmM+sr235deQTBeraXl0kU2+IzVH8xzofHbuIb880sxe/KL97rJJ1IdeXZpkdJvAf4LNXEkIuoZiw4vNGM+mu6qiflLqf6o/VlwNG2L2wyqfTBDIjtVXTcD2P7kZYVF4CvA9h+qGMiz/MazKfvbN/VFWpDMwtUd/GvR/VL9yGqJpc3N5pRf8n222xvY3tr24fY/nXTSfXRO23/BtgH2JpqlvYTmk0pVzCDdqGkNwPfcIvGh0t6PtXQ60077nqHapRV4w896qPWNbNIOgCYbvvfyvIPqH5BmWpk0sIRdh9LfiTpDqoJL79eWhLaZKjv5Y3A6eXqWiPtMAi5D2aAyrxjk6lGVj1M9UNh21MaTewpKr+kDgT2pzQfFcuBs223oi1f0lZUzSyvo/q3uxA4ciz/JSzpCmDW0JWZpJ9RzT/2NKpfVHs3mF5fSdqNaiDDgcDNVD+bX2k0qT6RdDpV898OwEuohs9f1vTjvFNgom8kvcL2lU3nEetO0jW2X96x/AXbf1M+/9j27s1lV4/yh8KngLfZbsV9TKWPdxfgdtsPStoSmGb7+ibzShPZAEm6uPsvwl6xMewuSd8E9qRqYvkh1V/4i5pN66mR9OERVtv2RweWTP8Nm0ttqLgUUwecS21KB/ifUV3BPBv4JtCKZ8EUx9nu/Dl9EPgcDY/iTCf/AEjaSNIWwFaSNpe0RXnNAJ7ecHr9dDpVE9nTqS7Xv11iY91DPV4Ac4APNpVUn1wl6V3dQUnvpl2zTFxHeS6M7efa/mBbHvRXPEPSMfDYVDHfBG5rNqU0kQ2EpCOBv6X6xXtPx6rfAF+y/YUm8uo3SdfZfklX7Ge2d2kopb6TtAlwJFVxORf4pO0xOwOxpK2Bb1FNcDn0cLFdgQ2BA23/qqHU+kqS2jSwplvp0P8q1SOvXwNcYPvTzWaVAjNQkt5n+/NN51EXSd8HzqB63g3AW4F3tKEJsFyB/j1Vk8M84LMtexria6lGAgLcZPuSJvPptzIR6/uBGXR0Ddge0w9U0+pnTQGsTzUP4BVU8641/kTSFJgB6Bq6+zi2G38wUD9IegbVlCOvoOqD+RFVH8wvG03sKZL0CeDPqWYp+Dfbv204pXiCJF0H/DtwLR33Lo31ZjJJl46w2k0X0BSYAShDCIf+Q3ePTbftdw44pXgCJK2iakJawfAHxLVimPl4IOnapofs1qWMIDvY9jlN59ItBWYAJP1DV8hUT0P8oe07Gkipr1o+yipaQNJxVE/r/CbDH6i2tKmc+knS5bZH3bRFKTADIOnYHuEtqOa1Os722QNOqa96FFCobiidA2xp+2kDTilimHIXfzfbftbAk6mBpP9H9djkcxj+SOhGC2gKTINKx/H32/BExCFtG2UVMRaM1gKaGy0bZHvpaJgvqB96jLJ6WZtGWcXYJml94DBWP2TsMuCLth9tLKk+sj0qZy1PgWlQGRo65n8Jd42yelFGWcUodDLVMN6TyvLbS+yvG8uoj0ZrAU0T2QBIuoHho4+g6oO5BzjU9s8Hn1X/ZJRVjHZruAn4cbGxStKXqQrovBJ6O7DSdqMFNFcwg/GmrmUDv27LY3dtZ8qhGO1WSnq27f8DkPQs2vMsH4CXdxXLS8q9P41KgRmAsX6jYUQLfAC4VNLtVFfWz6R6KFdbjMoCmiayiBgXyiSQz6MqMD+3/chadhn1JP0t1dQwm1M9KnloNNkMqqdcNjrlTwpMRLSWpEOofs+d1RV/F/CQ7f9oJrP+kPSvwB7AC4D/Be6mmg7ndNv3jLTvIKTARERrSfop8Crby7viU4BL2zJ9THmE90yqYvOK8nrQ9k5N5pU+mIhoswndxQXA9m/K0N62mARMATYtr3uopu5vVApMRLTZ+pImd4/YLDNObNBQTn0j6RSqxywsB66imsH8U6PlJucML42INjsVOK88PRaA8vnssm6sewbVw+EWU/W/LKJ6XPKokD6YiGg1Se8BjgGeRnUP2kPACbZPbjSxPinTTb2Qqv9lD2BnYClwpe1eE+0OLrcUmIgYDyQ9jep33uP6ZNpA0nRgT6oi8yaqmcw3azSnFJiIiLFJ0hFUBWVP4FGqe2KuLO832F7VYHrp5I+IGMNmAOcBf2f73oZzeZxcwURERC0yiiwixiVJr286h7bLFUxEjEuS7rT9jKbzaLP0wUREa0mav6ZVwJaDzGU8SoGJiDb7Y+AQoPspqwJ2G3w640sKTES02Y+B39n+QfcKSbc2kM+4kj6YiIioRUaRRURELVJgIiKiFikwERFRixSYiIioRUaRRUTrSdoTOA54JtXvPQG2/awm82q7jCKLiNaT9HPg74BrgZVDcdu/biypcSBXMBExHiyzfUHTSYw3uYKJiNaTdAIwAfgG8MhQ3PZPGktqHEiBiYjWk3Rpj7Btv3bgyYwjKTAREVGL9MFERGtJOsT2VyT9fa/1tj816JzGkxSYiGizyeV9k0azGKfSRBYREbXInfwREVGLFJiIiKhFCkxERNQiBSYiWk3S8yXtLelpXfH9msppvEiBiYjWknQEcD7wPuBGSQd0rP6XZrIaPzJMOSLa7F3ArrZ/K2kGcJ6kGbY/SzWjctQoBSYi2myC7d8C2P6FpL2oiswzSYGpXZrIIqLNFkvaZWihFJs3AVsBL2oqqfEiN1pGRGtJmg6ssL24x7o9bV/RQFrjRgpMRETUIk1kERFRixSYiIioRQpMxFMgaUtJPyuvxZLu7lje4Ckeey9JlvSnHbHvlJFQEaNehilHPAW2fw3sAiDpOOC3tv+1j1+xCPgQ8O0+HjNiIHIFE9FfkyTdIWl9AElTJP1C0vqSLpP0GUk/knSjpN3KNpMlnSbpGkk/7brb/DpgmaTXd3+RpA+XfW6UdIoklfhlkj4t6XJJt0h6uaRvSLpN0sc69j9E0tXlauuLkibU+58mxpsUmIj++j1wGfAnZXkW8HXbj5blybb3AN4LnFZiHwIusf1y4DXAJyRNXn1IPgb8U4/v+oLtl9veGZhEdX/HkD/YfhXw71RTpRwO7Az8VWnWewHwFmBP27sAK4G3PfnTjni8NJFF9N+XgaOAbwHvoJquZMjXAGxfXq5uNgP2AfaX9P6yzUbAM4Z2sP0/kpD0x13f8xpJRwEbA1sAN7G6KW1+eb8BuMn2vQCSbge2B14J7ApcUy58JgH3PbXTjhguBSaiz2xfIWmGpFdTTVVyY+fq7s2ppix5s+1bO1dI2qZj8XiqK50VZd1GwEnATNt3lf6fjTq2f6S8r+r4PLQ8sXznPNvHPIlTjFgnaSKLqMeZVFcrp3fF3wIg6ZXAMtvLgO8B7+voQ3lp98FsXwhsDrykhIaKyf1lGvqDnmB+FwMHSdq6fOcWZX6uiL5JgYmox1epCsLXuuIPSPoRVd/InBL7KLA+cL2kG8tyL8cD0wFsPwh8iaoJ7FvANU8kOds3U/XrXCjpeuAiYLsncoyItclUMRE1kHQQcIDtt3fELgPeb3tBY4lFDFD6YCL6TNLngTcAb2w6l4gm5QomIiJqkT6YiIioRQpMRETUIgUmIiJqkQITERG1SIGJiIhapMBEREQt/j+P7Z7w6HDMcgAAAABJRU5ErkJggg==\n",
>>>>>>> 3c44e2ade4b88123a31c9aa298436ff4371f8d5f
      "text/plain": [
       "<Figure size 432x288 with 1 Axes>"
      ]
     },
     "metadata": {
      "needs_background": "light"
     },
     "output_type": "display_data"
    }
   ],
   "source": [
    "sns.barplot(x=df['TypeName'],y=df['Price'])\n",
    "plt.xticks(rotation='vertical')\n",
    "plt.show()"
   ]
  },
  {
   "cell_type": "code",
<<<<<<< HEAD
   "execution_count": 20,
   "id": "df1ac2ec",
=======
   "execution_count": 76,
   "id": "6c327d45",
>>>>>>> 3c44e2ade4b88123a31c9aa298436ff4371f8d5f
   "metadata": {},
   "outputs": [
    {
     "name": "stderr",
     "output_type": "stream",
     "text": [
      "C:\\Users\\ISHA\\anaconda3\\lib\\site-packages\\seaborn\\distributions.py:2619: FutureWarning: `distplot` is a deprecated function and will be removed in a future version. Please adapt your code to use either `displot` (a figure-level function with similar flexibility) or `histplot` (an axes-level function for histograms).\n",
      "  warnings.warn(msg, FutureWarning)\n"
     ]
    },
    {
     "data": {
      "text/plain": [
       "<AxesSubplot:xlabel='Inches', ylabel='Density'>"
      ]
     },
<<<<<<< HEAD
     "execution_count": 20,
=======
     "execution_count": 76,
>>>>>>> 3c44e2ade4b88123a31c9aa298436ff4371f8d5f
     "metadata": {},
     "output_type": "execute_result"
    },
    {
     "data": {
      "image/png": "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\n",
      "text/plain": [
       "<Figure size 432x288 with 1 Axes>"
      ]
     },
     "metadata": {
      "needs_background": "light"
     },
     "output_type": "display_data"
    }
   ],
   "source": [
    "sns.distplot(df['Inches'])"
   ]
  },
  {
   "cell_type": "code",
<<<<<<< HEAD
   "execution_count": 21,
   "id": "8fc0b273",
=======
   "execution_count": 77,
   "id": "8953f516",
>>>>>>> 3c44e2ade4b88123a31c9aa298436ff4371f8d5f
   "metadata": {},
   "outputs": [
    {
     "data": {
      "text/plain": [
       "<AxesSubplot:xlabel='Inches', ylabel='Price'>"
      ]
     },
<<<<<<< HEAD
     "execution_count": 21,
=======
     "execution_count": 77,
>>>>>>> 3c44e2ade4b88123a31c9aa298436ff4371f8d5f
     "metadata": {},
     "output_type": "execute_result"
    },
    {
     "data": {
      "image/png": "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\n",
      "text/plain": [
       "<Figure size 432x288 with 1 Axes>"
      ]
     },
     "metadata": {
      "needs_background": "light"
     },
     "output_type": "display_data"
    }
   ],
   "source": [
    "sns.scatterplot(x=df['Inches'],y=df['Price'])"
   ]
  },
  {
   "cell_type": "code",
<<<<<<< HEAD
   "execution_count": 22,
   "id": "f1086c8b",
=======
   "execution_count": 78,
   "id": "69b97770",
>>>>>>> 3c44e2ade4b88123a31c9aa298436ff4371f8d5f
   "metadata": {},
   "outputs": [
    {
     "data": {
      "text/plain": [
       "Full HD 1920x1080                                507\n",
       "1366x768                                         281\n",
       "IPS Panel Full HD 1920x1080                      230\n",
       "IPS Panel Full HD / Touchscreen 1920x1080         53\n",
       "Full HD / Touchscreen 1920x1080                   47\n",
       "1600x900                                          23\n",
       "Touchscreen 1366x768                              16\n",
       "Quad HD+ / Touchscreen 3200x1800                  15\n",
       "IPS Panel 4K Ultra HD 3840x2160                   12\n",
       "IPS Panel 4K Ultra HD / Touchscreen 3840x2160     11\n",
       "4K Ultra HD / Touchscreen 3840x2160               10\n",
       "4K Ultra HD 3840x2160                              7\n",
       "Touchscreen 2560x1440                              7\n",
       "IPS Panel 1366x768                                 7\n",
       "IPS Panel Quad HD+ / Touchscreen 3200x1800         6\n",
       "IPS Panel Retina Display 2560x1600                 6\n",
       "IPS Panel Retina Display 2304x1440                 6\n",
       "Touchscreen 2256x1504                              6\n",
       "IPS Panel Touchscreen 2560x1440                    5\n",
       "IPS Panel Retina Display 2880x1800                 4\n",
       "IPS Panel Touchscreen 1920x1200                    4\n",
       "1440x900                                           4\n",
       "IPS Panel 2560x1440                                4\n",
       "IPS Panel Quad HD+ 2560x1440                       3\n",
       "Quad HD+ 3200x1800                                 3\n",
       "1920x1080                                          3\n",
       "Touchscreen 2400x1600                              3\n",
       "2560x1440                                          3\n",
       "IPS Panel Touchscreen 1366x768                     3\n",
       "IPS Panel Touchscreen / 4K Ultra HD 3840x2160      2\n",
       "IPS Panel Full HD 2160x1440                        2\n",
       "IPS Panel Quad HD+ 3200x1800                       2\n",
       "IPS Panel Retina Display 2736x1824                 1\n",
       "IPS Panel Full HD 1920x1200                        1\n",
       "IPS Panel Full HD 2560x1440                        1\n",
       "IPS Panel Full HD 1366x768                         1\n",
       "Touchscreen / Full HD 1920x1080                    1\n",
       "Touchscreen / Quad HD+ 3200x1800                   1\n",
       "Touchscreen / 4K Ultra HD 3840x2160                1\n",
       "IPS Panel Touchscreen 2400x1600                    1\n",
       "Name: ScreenResolution, dtype: int64"
      ]
     },
<<<<<<< HEAD
     "execution_count": 22,
=======
     "execution_count": 78,
>>>>>>> 3c44e2ade4b88123a31c9aa298436ff4371f8d5f
     "metadata": {},
     "output_type": "execute_result"
    }
   ],
   "source": [
    "df['ScreenResolution'].value_counts()"
   ]
  },
  {
   "cell_type": "code",
<<<<<<< HEAD
   "execution_count": 23,
   "id": "70fb1d5b",
=======
   "execution_count": 79,
   "id": "6c89bac7",
>>>>>>> 3c44e2ade4b88123a31c9aa298436ff4371f8d5f
   "metadata": {},
   "outputs": [],
   "source": [
    "df['Touchscreen'] = df['ScreenResolution'].apply(lambda x:1 if 'Touchscreen' in x else 0)"
   ]
  },
  {
   "cell_type": "code",
<<<<<<< HEAD
   "execution_count": 24,
   "id": "e9f092a8",
=======
   "execution_count": 80,
   "id": "26285386",
>>>>>>> 3c44e2ade4b88123a31c9aa298436ff4371f8d5f
   "metadata": {},
   "outputs": [
    {
     "data": {
      "text/html": [
       "<div>\n",
       "<style scoped>\n",
       "    .dataframe tbody tr th:only-of-type {\n",
       "        vertical-align: middle;\n",
       "    }\n",
       "\n",
       "    .dataframe tbody tr th {\n",
       "        vertical-align: top;\n",
       "    }\n",
       "\n",
       "    .dataframe thead th {\n",
       "        text-align: right;\n",
       "    }\n",
       "</style>\n",
       "<table border=\"1\" class=\"dataframe\">\n",
       "  <thead>\n",
       "    <tr style=\"text-align: right;\">\n",
       "      <th></th>\n",
       "      <th>Company</th>\n",
       "      <th>TypeName</th>\n",
       "      <th>Inches</th>\n",
       "      <th>ScreenResolution</th>\n",
       "      <th>Cpu</th>\n",
       "      <th>Ram</th>\n",
       "      <th>Memory</th>\n",
       "      <th>Gpu</th>\n",
       "      <th>OpSys</th>\n",
       "      <th>Weight</th>\n",
       "      <th>Price</th>\n",
       "      <th>Touchscreen</th>\n",
       "    </tr>\n",
       "  </thead>\n",
       "  <tbody>\n",
       "    <tr>\n",
<<<<<<< HEAD
       "      <th>1152</th>\n",
=======
       "      <th>343</th>\n",
       "      <td>Lenovo</td>\n",
       "      <td>2 in 1 Convertible</td>\n",
       "      <td>13.9</td>\n",
       "      <td>IPS Panel 4K Ultra HD / Touchscreen 3840x2160</td>\n",
       "      <td>Intel Core i7 8550U 1.8GHz</td>\n",
       "      <td>16</td>\n",
       "      <td>512GB SSD</td>\n",
       "      <td>Intel UHD Graphics 620</td>\n",
       "      <td>Windows 10</td>\n",
       "      <td>1.40</td>\n",
       "      <td>111834.7200</td>\n",
       "      <td>1</td>\n",
       "    </tr>\n",
       "    <tr>\n",
       "      <th>516</th>\n",
       "      <td>HP</td>\n",
       "      <td>Notebook</td>\n",
       "      <td>15.6</td>\n",
       "      <td>Touchscreen 1366x768</td>\n",
       "      <td>Intel Core i5 8250U 1.6GHz</td>\n",
       "      <td>4</td>\n",
       "      <td>1TB HDD</td>\n",
       "      <td>Intel UHD Graphics 620</td>\n",
       "      <td>Windows 10</td>\n",
       "      <td>2.04</td>\n",
       "      <td>27783.9216</td>\n",
       "      <td>1</td>\n",
       "    </tr>\n",
       "    <tr>\n",
       "      <th>500</th>\n",
       "      <td>Asus</td>\n",
       "      <td>Netbook</td>\n",
       "      <td>11.6</td>\n",
       "      <td>1366x768</td>\n",
       "      <td>Intel Celeron Dual Core N3350 1.1GHz</td>\n",
       "      <td>4</td>\n",
       "      <td>64GB Flash Storage</td>\n",
       "      <td>Intel HD Graphics 500</td>\n",
       "      <td>Windows 10 S</td>\n",
       "      <td>1.20</td>\n",
       "      <td>18115.2000</td>\n",
       "      <td>0</td>\n",
       "    </tr>\n",
       "    <tr>\n",
       "      <th>464</th>\n",
>>>>>>> 3c44e2ade4b88123a31c9aa298436ff4371f8d5f
       "      <td>Lenovo</td>\n",
       "      <td>Notebook</td>\n",
       "      <td>15.6</td>\n",
       "      <td>Full HD 1920x1080</td>\n",
<<<<<<< HEAD
       "      <td>Intel Core i5 6200U 2.3GHz</td>\n",
       "      <td>8</td>\n",
       "      <td>1TB HDD</td>\n",
       "      <td>AMD Radeon R5 M330</td>\n",
       "      <td>No OS</td>\n",
       "      <td>2.32</td>\n",
       "      <td>31914.7200</td>\n",
       "      <td>0</td>\n",
       "    </tr>\n",
       "    <tr>\n",
       "      <th>618</th>\n",
       "      <td>MSI</td>\n",
       "      <td>Gaming</td>\n",
       "      <td>15.6</td>\n",
       "      <td>Full HD 1920x1080</td>\n",
       "      <td>Intel Core i7 7700HQ 2.8GHz</td>\n",
       "      <td>16</td>\n",
       "      <td>256GB SSD +  1TB HDD</td>\n",
       "      <td>Nvidia GeForce GTX 1070</td>\n",
       "      <td>Windows 10</td>\n",
       "      <td>2.94</td>\n",
       "      <td>120831.5808</td>\n",
       "      <td>0</td>\n",
       "    </tr>\n",
       "    <tr>\n",
       "      <th>145</th>\n",
       "      <td>Asus</td>\n",
       "      <td>Ultrabook</td>\n",
       "      <td>14.0</td>\n",
       "      <td>Full HD 1920x1080</td>\n",
       "      <td>Intel Core i7 8550U 1.8GHz</td>\n",
       "      <td>8</td>\n",
       "      <td>256GB SSD</td>\n",
       "      <td>Intel UHD Graphics 620</td>\n",
       "      <td>Windows 10</td>\n",
       "      <td>1.25</td>\n",
       "      <td>58554.7200</td>\n",
       "      <td>0</td>\n",
       "    </tr>\n",
       "    <tr>\n",
       "      <th>631</th>\n",
       "      <td>Dell</td>\n",
       "      <td>Gaming</td>\n",
       "      <td>15.6</td>\n",
       "      <td>Full HD 1920x1080</td>\n",
       "      <td>Intel Core i7 7700HQ 2.8GHz</td>\n",
       "      <td>16</td>\n",
       "      <td>256GB SSD +  1TB HDD</td>\n",
       "      <td>Nvidia GeForce GTX 1050 Ti</td>\n",
       "      <td>Windows 10</td>\n",
       "      <td>2.62</td>\n",
       "      <td>78801.1200</td>\n",
       "      <td>0</td>\n",
       "    </tr>\n",
       "    <tr>\n",
       "      <th>1217</th>\n",
       "      <td>Lenovo</td>\n",
       "      <td>Notebook</td>\n",
       "      <td>17.3</td>\n",
       "      <td>1600x900</td>\n",
       "      <td>Intel Core i5 7200U 2.5GHz</td>\n",
       "      <td>8</td>\n",
       "      <td>1TB HDD</td>\n",
       "      <td>Intel HD Graphics 620</td>\n",
       "      <td>No OS</td>\n",
       "      <td>2.80</td>\n",
       "      <td>28717.9200</td>\n",
=======
       "      <td>Intel Core i7 7820HQ 2.9GHz</td>\n",
       "      <td>8</td>\n",
       "      <td>256GB SSD</td>\n",
       "      <td>Nvidia Quadro M2200M</td>\n",
       "      <td>Windows 10</td>\n",
       "      <td>2.67</td>\n",
       "      <td>111355.2000</td>\n",
       "      <td>0</td>\n",
       "    </tr>\n",
       "    <tr>\n",
       "      <th>96</th>\n",
       "      <td>Dell</td>\n",
       "      <td>Notebook</td>\n",
       "      <td>15.6</td>\n",
       "      <td>Full HD 1920x1080</td>\n",
       "      <td>Intel Core i7 7500U 2.7GHz</td>\n",
       "      <td>8</td>\n",
       "      <td>1TB HDD</td>\n",
       "      <td>AMD Radeon R5 M430</td>\n",
       "      <td>Linux</td>\n",
       "      <td>2.20</td>\n",
       "      <td>31962.6720</td>\n",
>>>>>>> 3c44e2ade4b88123a31c9aa298436ff4371f8d5f
       "      <td>0</td>\n",
       "    </tr>\n",
       "  </tbody>\n",
       "</table>\n",
       "</div>"
      ],
      "text/plain": [
<<<<<<< HEAD
       "     Company   TypeName  Inches   ScreenResolution  \\\n",
       "1152  Lenovo   Notebook    15.6  Full HD 1920x1080   \n",
       "618      MSI     Gaming    15.6  Full HD 1920x1080   \n",
       "145     Asus  Ultrabook    14.0  Full HD 1920x1080   \n",
       "631     Dell     Gaming    15.6  Full HD 1920x1080   \n",
       "1217  Lenovo   Notebook    17.3           1600x900   \n",
       "\n",
       "                              Cpu  Ram                Memory  \\\n",
       "1152   Intel Core i5 6200U 2.3GHz    8               1TB HDD   \n",
       "618   Intel Core i7 7700HQ 2.8GHz   16  256GB SSD +  1TB HDD   \n",
       "145    Intel Core i7 8550U 1.8GHz    8             256GB SSD   \n",
       "631   Intel Core i7 7700HQ 2.8GHz   16  256GB SSD +  1TB HDD   \n",
       "1217   Intel Core i5 7200U 2.5GHz    8               1TB HDD   \n",
       "\n",
       "                             Gpu       OpSys  Weight        Price  Touchscreen  \n",
       "1152          AMD Radeon R5 M330       No OS    2.32   31914.7200            0  \n",
       "618      Nvidia GeForce GTX 1070  Windows 10    2.94  120831.5808            0  \n",
       "145       Intel UHD Graphics 620  Windows 10    1.25   58554.7200            0  \n",
       "631   Nvidia GeForce GTX 1050 Ti  Windows 10    2.62   78801.1200            0  \n",
       "1217       Intel HD Graphics 620       No OS    2.80   28717.9200            0  "
      ]
     },
     "execution_count": 24,
=======
       "    Company            TypeName  Inches  \\\n",
       "343  Lenovo  2 in 1 Convertible    13.9   \n",
       "516      HP            Notebook    15.6   \n",
       "500    Asus             Netbook    11.6   \n",
       "464  Lenovo            Notebook    15.6   \n",
       "96     Dell            Notebook    15.6   \n",
       "\n",
       "                                  ScreenResolution  \\\n",
       "343  IPS Panel 4K Ultra HD / Touchscreen 3840x2160   \n",
       "516                           Touchscreen 1366x768   \n",
       "500                                       1366x768   \n",
       "464                              Full HD 1920x1080   \n",
       "96                               Full HD 1920x1080   \n",
       "\n",
       "                                      Cpu  Ram              Memory  \\\n",
       "343            Intel Core i7 8550U 1.8GHz   16           512GB SSD   \n",
       "516            Intel Core i5 8250U 1.6GHz    4             1TB HDD   \n",
       "500  Intel Celeron Dual Core N3350 1.1GHz    4  64GB Flash Storage   \n",
       "464           Intel Core i7 7820HQ 2.9GHz    8           256GB SSD   \n",
       "96             Intel Core i7 7500U 2.7GHz    8             1TB HDD   \n",
       "\n",
       "                        Gpu         OpSys  Weight        Price  Touchscreen  \n",
       "343  Intel UHD Graphics 620    Windows 10    1.40  111834.7200            1  \n",
       "516  Intel UHD Graphics 620    Windows 10    2.04   27783.9216            1  \n",
       "500   Intel HD Graphics 500  Windows 10 S    1.20   18115.2000            0  \n",
       "464    Nvidia Quadro M2200M    Windows 10    2.67  111355.2000            0  \n",
       "96       AMD Radeon R5 M430         Linux    2.20   31962.6720            0  "
      ]
     },
     "execution_count": 80,
>>>>>>> 3c44e2ade4b88123a31c9aa298436ff4371f8d5f
     "metadata": {},
     "output_type": "execute_result"
    }
   ],
   "source": [
    "df.sample(5)"
   ]
  },
  {
   "cell_type": "code",
<<<<<<< HEAD
   "execution_count": 25,
   "id": "81305054",
=======
   "execution_count": 81,
   "id": "c93b5336",
>>>>>>> 3c44e2ade4b88123a31c9aa298436ff4371f8d5f
   "metadata": {},
   "outputs": [
    {
     "data": {
      "text/plain": [
       "<AxesSubplot:>"
      ]
     },
<<<<<<< HEAD
     "execution_count": 25,
=======
     "execution_count": 81,
>>>>>>> 3c44e2ade4b88123a31c9aa298436ff4371f8d5f
     "metadata": {},
     "output_type": "execute_result"
    },
    {
     "data": {
      "image/png": "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\n",
      "text/plain": [
       "<Figure size 432x288 with 1 Axes>"
      ]
     },
     "metadata": {
      "needs_background": "light"
     },
     "output_type": "display_data"
    }
   ],
   "source": [
    "df['Touchscreen'].value_counts().plot(kind='bar')"
   ]
  },
  {
   "cell_type": "code",
<<<<<<< HEAD
   "execution_count": 26,
   "id": "f9e924e8",
=======
   "execution_count": 82,
   "id": "9b043367",
>>>>>>> 3c44e2ade4b88123a31c9aa298436ff4371f8d5f
   "metadata": {},
   "outputs": [
    {
     "data": {
      "text/plain": [
       "<AxesSubplot:xlabel='Touchscreen', ylabel='Price'>"
      ]
     },
<<<<<<< HEAD
     "execution_count": 26,
=======
     "execution_count": 82,
>>>>>>> 3c44e2ade4b88123a31c9aa298436ff4371f8d5f
     "metadata": {},
     "output_type": "execute_result"
    },
    {
     "data": {
<<<<<<< HEAD
      "image/png": "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\n",
=======
      "image/png": "iVBORw0KGgoAAAANSUhEUgAAAZIAAAEGCAYAAABPdROvAAAAOXRFWHRTb2Z0d2FyZQBNYXRwbG90bGliIHZlcnNpb24zLjQuMywgaHR0cHM6Ly9tYXRwbG90bGliLm9yZy/MnkTPAAAACXBIWXMAAAsTAAALEwEAmpwYAAAZHElEQVR4nO3df7BfdX3n8efLRCX+AAMETBPcsCXqAv5qMmms7U67sRLbHcNMwzTu2GS7mc3KsN26v1jY6eq62+yIdUrLzkI3K0qgrhBZHTLOUk3DWmsHQy+KhkBT7hYNgYRcBDG6Axp87x/fz63fXL65ueTke29Cno+ZO99z3ud8Pvdz7oR5cc7nfM9JVSFJ0rF6yUwPQJJ0cjNIJEmdGCSSpE4MEklSJwaJJKmT2TM9gOl29tln16JFi2Z6GJJ0Urn33nufqKp5g7adckGyaNEiRkZGZnoYknRSSfLtI23z0pYkqRODRJLUiUEiSerEIJEkdWKQSJI6MUgkSZ0YJJKkTgwSSVInp9wXEiW9+F155ZXs37+f1772tXz0ox+d6eG86Bkkkl509u/fz6OPPjrTwzhleGlLktTJUIMkyb9MsivJ/Uk+neS0JGcm2ZbkofY5t2//q5OMJtmd5JK++pIkO9u265Kk1V+e5LZW35Fk0TCPR5L0fEMLkiQLgH8BLK2qi4FZwBrgKmB7VS0Gtrd1klzYtl8ErASuTzKrdXcDsAFY3H5Wtvp64KmqugC4FrhmWMcjSRps2Je2ZgNzkswGXgE8BqwCNrftm4FL2/Iq4NaqeraqHgZGgWVJ5gOnV9XdVVXAzRPajPd1O7Bi/GxFkjQ9hhYkVfUo8DFgD7APeLqqvgicW1X72j77gHNakwXAI31d7G21BW15Yv2wNlV1CHgaOGsYxyNJGmyYl7bm0jtjOB/4KeCVSd43WZMBtZqkPlmbiWPZkGQkycjY2NjkA5ckvSDDvLT1TuDhqhqrqh8BnwV+Dni8Xa6ifR5o++8Fzutrv5DepbC9bXli/bA27fLZGcCTEwdSVZuqamlVLZ03b+ALviRJx2iYQbIHWJ7kFW3eYgXwILAVWNf2WQfc0Za3AmvanVjn05tUv6dd/jqYZHnrZ+2ENuN9rQbuavMokqRpMrQvJFbVjiS3A18DDgFfBzYBrwK2JFlPL2wua/vvSrIFeKDtf0VVPde6uxy4CZgD3Nl+AG4EbkkySu9MZM2wjkeSNNhQv9leVR8CPjSh/Cy9s5NB+28ENg6ojwAXD6g/QwsiSdLM8JvtkqRODBJJUic+tFF6Ednzn94000M4IRx68kxgNoee/LZ/E+B1H9w51P49I5EkdWKQSJI6MUgkSZ0YJJKkTgwSSVInBokkqRODRJLUiUEiSerEIJEkdWKQSJI6MUgkSZ0YJJKkTgwSSVInBokkqZOhBUmSNyS5r+/ne0k+kOTMJNuSPNQ+5/a1uTrJaJLdSS7pqy9JsrNtu669u532fvfbWn1HkkXDOh5JJ4+zT/sx5845xNmn/Ximh3JKGOY723cDbwVIMgt4FPgccBWwvao+kuSqtv7vklxI753rFwE/Bfxpkte397bfAGwAvgr8b2Alvfe2rweeqqoLkqwBrgF+fVjHJOnk8G/e/N2ZHsIpZbouba0A/m9VfRtYBWxu9c3ApW15FXBrVT1bVQ8Do8CyJPOB06vq7qoq4OYJbcb7uh1YMX62IkmaHtMVJGuAT7flc6tqH0D7PKfVFwCP9LXZ22oL2vLE+mFtquoQ8DRw1sRfnmRDkpEkI2NjY8flgCRJPUMPkiQvA94DfOZouw6o1ST1ydocXqjaVFVLq2rpvHnzjjIMSdILMR1nJO8GvlZVj7f1x9vlKtrngVbfC5zX124h8FirLxxQP6xNktnAGcCTQzgGSdIRTEeQvJefXNYC2Aqsa8vrgDv66mvanVjnA4uBe9rlr4NJlrf5j7UT2oz3tRq4q82jSJKmydDu2gJI8grgl4F/1lf+CLAlyXpgD3AZQFXtSrIFeAA4BFzR7tgCuBy4CZhD726tO1v9RuCWJKP0zkTWDPN4JEnPN9Qgqar/x4TJ76r6Dr27uAbtvxHYOKA+Alw8oP4MLYgkSTPDb7ZLkjoxSCRJnRgkkqRODBJJUicGiSSpE4NEktSJQSJJ6sQgkSR1YpBIkjoxSCRJnRgkkqRODBJJUicGiSSpE4NEktSJQSJJ6sQgkSR1MtQgSfKaJLcn+askDyZ5e5Izk2xL8lD7nNu3/9VJRpPsTnJJX31Jkp1t23Xtlbu01/Le1uo7kiwa5vFIkp5v2Gckfwj8SVW9EXgL8CBwFbC9qhYD29s6SS6k96rci4CVwPVJZrV+bgA20HuP++K2HWA98FRVXQBcC1wz5OORJE0wtCBJcjrw9+m9V52q+mFVfRdYBWxuu20GLm3Lq4Bbq+rZqnoYGAWWJZkPnF5Vd1dVATdPaDPe1+3AivGzFUnS9BjmGcnfBcaATyb5epKPJ3klcG5V7QNon+e0/RcAj/S139tqC9ryxPphbarqEPA0E94RD5BkQ5KRJCNjY2PH6/gkSQw3SGYDPwPcUFVvA35Au4x1BIPOJGqS+mRtDi9UbaqqpVW1dN68eZOPWlN25ZVXsnbtWq688sqZHoqkGTTMINkL7K2qHW39dnrB8ni7XEX7PNC3/3l97RcCj7X6wgH1w9okmQ2cATx53I9EA+3fv59HH32U/fv3z/RQJM2goQVJVe0HHknyhlZaATwAbAXWtdo64I62vBVY0+7EOp/epPo97fLXwSTL2/zH2gltxvtaDdzV5lEkSdNk9pD7/y3gU0leBvwN8Jv0wmtLkvXAHuAygKralWQLvbA5BFxRVc+1fi4HbgLmAHe2H+hN5N+SZJTemciaIR+PJGmCoQZJVd0HLB2wacUR9t8IbBxQHwEuHlB/hhZEkqSZ4TfbJUmdGCSSpE6GPUfyorTk394800M4Ibz6iYPMAvY8cdC/CXDv762d6SFIM8IzEklSJwaJJKkTg0SS1IlBIknqxCCRJHXiXVs6Zj9+2SsP+5R0ajJIdMx+sPhdMz0ESScAL21JkjoxSCRJnRgkkqRODBJJUicGiSSpE4NEktTJUIMkybeS7ExyX5KRVjszybYkD7XPuX37X51kNMnuJJf01Ze0fkaTXNdeuUt7Le9trb4jyaJhHo8k6fmm44zkl6rqrVU1/qbEq4DtVbUY2N7WSXIhvVflXgSsBK5PMqu1uQHYQO897ovbdoD1wFNVdQFwLXDNNByPJKnPTFzaWgVsbsubgUv76rdW1bNV9TAwCixLMh84varurqoCbp7QZryv24EV42crkqTpMewgKeCLSe5NsqHVzq2qfQDt85xWXwA80td2b6staMsT64e1qapDwNPAWRMHkWRDkpEkI2NjY8flwCRJPcN+RMo7quqxJOcA25L81ST7DjqTqEnqk7U5vFC1CdgEsHTp0udtlyQdu6GekVTVY+3zAPA5YBnweLtcRfs80HbfC5zX13wh8FirLxxQP6xNktnAGcCTwzgWSdJgQwuSJK9M8urxZeBdwP3AVmBd220dcEdb3gqsaXdinU9vUv2edvnrYJLlbf5j7YQ2432tBu5q8yiSpGkyzEtb5wKfa3Pfs4H/WVV/kuQvgS1J1gN7gMsAqmpXki3AA8Ah4Iqqeq71dTlwEzAHuLP9ANwI3JJklN6ZyJohHo8kaYChBUlV/Q3wlgH17wArjtBmI7BxQH0EuHhA/RlaEEmSZobfbJckdWKQSJI6mVKQJHl9ku1J7m/rb07yO8MdmiTpZDDVM5L/AVwN/Aigqr6JE9uSJKYeJK+oqnsm1A4d78FIkk4+Uw2SJ5L8NO1b40lWA/uGNipJ0kljqrf/XkHvESNvTPIo8DDwvqGNSpJ00phSkLTvhLyzfUP9JVV1cLjDkiSdLKZ619Z/SfKaqvpBVR1MMjfJ7w57cJKkE99U50jeXVXfHV+pqqeAXxnKiCRJJ5WpBsmsJC8fX0kyB3j5JPtLkk4RU51s/2Nge5JP0rtz65/wkzcTSpJOYVOdbP9okp30HrYY4D9X1ReGOjJJ0klhyk//rar+x7dLkgQcJUiSfKWqfj7JQQ5/hW2AqqrThzo6SdIJb9Igqaqfb5+vnp7hSJJONke9ayvJS8af+nssksxK8vUkn2/rZybZluSh9jm3b9+rk4wm2Z3kkr76kiQ727br2it3aa/lva3VdyRZdKzjlCQdm6MGSVX9GPhGktcd4+/4beDBvvWrgO1VtRjY3tZJciG9JwpfBKwErk8yq7W5AdhA7z3ui9t2gPXAU1V1AXAtcM0xjlGSdIym+j2S+cCu9k6SreM/R2uUZCHwq8DH+8qr+Mmtw5uBS/vqt1bVs1X1MDAKLEsyHzi9qu6uqgJuntBmvK/bgRXjZyuSpOkx1bu2PnyM/f8BcCXQP8dyblXtA6iqfUnOafUFwFf79tvbaj9qyxPr420eaX0dSvI0cBbwRP8gkmygd0bD6153rCdWkqRBjnbX1mnA+4ELgJ3AjVU1pfeQJPmHwIGqujfJL06lyYBaTVKfrM3hhapN9J5ezNKlS5+3XZJ07I52RrKZ3hnBnwPvBi6kN+cxFe8A3pPkV4DTgNOT/DHweJL57WxkPnCg7b8XOK+v/ULgsVZfOKDe32ZvktnAGcCTUxyfJOk4ONocyYVV9b6q+u/AauAXptpxVV1dVQurahG9SfS7qup9wFZgXdttHXBHW94KrGl3Yp1Pb1L9nnYZ7GCS5W3+Y+2ENuN9rW6/wzMOSZpGRzsj+dH4QpuDOB6/8yPAliTrgT3AZa3/XUm2AA/Qe43vFVX1XGtzOXATMIfet+vHv2F/I3BLklF6ZyK+R16SptnRguQtSb7XlgPMaesv6JvtVfUl4Ett+Tv0ntk1aL+NwMYB9RHg4gH1Z2hBJEmaGUf7ZvusybZLkjTV75FIkjSQQSJJ6sQgkSR1YpBIkjoxSCRJnRgkkqRODBJJUicGiSSpE4NEktSJQSJJ6sQgkSR1YpBIkjoxSCRJnRgkkqRODBJJUidDC5IkpyW5J8k3kuxK8uFWPzPJtiQPtc+5fW2uTjKaZHeSS/rqS5LsbNuua6/cpb2W97ZW35Fk0bCOR5I02DDPSJ4F/kFVvQV4K7AyyXLgKmB7VS0Gtrd1klxI71W5FwErgeuTjL9Y6wZgA733uC9u2wHWA09V1QXAtcA1QzweSdIAQwuS6vl+W31p+ylgFbC51TcDl7blVcCtVfVsVT0MjALLkswHTq+qu6uqgJsntBnv63ZgxfjZiiRpegx1jiTJrCT3AQeAbVW1Azi3qvYBtM9z2u4LgEf6mu9ttQVteWL9sDZVdQh4GjhrwDg2JBlJMjI2Nnacjk6SBEMOkqp6rqreCiykd3Zx8SS7DzqTqEnqk7WZOI5NVbW0qpbOmzfvKKOWJL0Q03LXVlV9F/gSvbmNx9vlKtrngbbbXuC8vmYLgcdafeGA+mFtkswGzgCeHMYxSJIGG+ZdW/OSvKYtzwHeCfwVsBVY13ZbB9zRlrcCa9qdWOfTm1S/p13+OphkeZv/WDuhzXhfq4G72jyKJGmazB5i3/OBze3Oq5cAW6rq80nuBrYkWQ/sAS4DqKpdSbYADwCHgCuq6rnW1+XATcAc4M72A3AjcEuSUXpnImuGeDySpAGGFiRV9U3gbQPq3wFWHKHNRmDjgPoI8Lz5lap6hhZEkqSZ4TfbJUmdGCSSpE4MEklSJwaJJKkTg0SS1IlBIknqxCCRJHVikEiSOjFIJEmdGCSSpE4MEklSJwaJJKkTg0SS1IlBIknqxCCRJHVikEiSOhnmq3bPS/J/kjyYZFeS3271M5NsS/JQ+5zb1+bqJKNJdie5pK++JMnOtu269spd2mt5b2v1HUkWDet4JEmDDfOM5BDwr6vq7wHLgSuSXAhcBWyvqsXA9rZO27YGuAhYCVzfXtMLcAOwgd573Be37QDrgaeq6gLgWuCaIR6PJGmAoQVJVe2rqq+15YPAg8ACYBWwue22Gbi0La8Cbq2qZ6vqYWAUWJZkPnB6Vd1dVQXcPKHNeF+3AyvGz1YkSdNjWuZI2iWntwE7gHOrah/0wgY4p+22AHikr9neVlvQlifWD2tTVYeAp4GzhnIQkqSBhh4kSV4F/C/gA1X1vcl2HVCrSeqTtZk4hg1JRpKMjI2NHW3IkqQXYKhBkuSl9ELkU1X12VZ+vF2uon0eaPW9wHl9zRcCj7X6wgH1w9okmQ2cATw5cRxVtamqllbV0nnz5h2PQ5MkNcO8ayvAjcCDVfX7fZu2Auva8jrgjr76mnYn1vn0JtXvaZe/DiZZ3vpcO6HNeF+rgbvaPIokaZrMHmLf7wB+A9iZ5L5W+/fAR4AtSdYDe4DLAKpqV5ItwAP07vi6oqqea+0uB24C5gB3th/oBdUtSUbpnYmsGeLxSJIGGFqQVNVXGDyHAbDiCG02AhsH1EeAiwfUn6EFkSRpZvjNdklSJwaJJKkTg0SS1IlBIknqxCCRJHVikEiSOjFIJEmdGCSSpE4MEklSJwaJJKkTg0SS1IlBIknqxCCRJHVikEiSOjFIJEmdGCSSpE6G+ardTyQ5kOT+vtqZSbYleah9zu3bdnWS0SS7k1zSV1+SZGfbdl173S7tlby3tfqOJIuGdSySpCMb5hnJTcDKCbWrgO1VtRjY3tZJciG91+Re1Npcn2RWa3MDsIHeO9wX9/W5Hniqqi4ArgWuGdqRSJKOaGhBUlVfpvce9X6rgM1teTNwaV/91qp6tqoeBkaBZUnmA6dX1d1VVcDNE9qM93U7sGL8bEWSNH2me47k3KraB9A+z2n1BcAjffvtbbUFbXli/bA2VXUIeBo4a2gjlyQNdKJMtg86k6hJ6pO1eX7nyYYkI0lGxsbGjnGIkqRBpjtIHm+Xq2ifB1p9L3Be334LgcdafeGA+mFtkswGzuD5l9IAqKpNVbW0qpbOmzfvOB2KJAmmP0i2Auva8jrgjr76mnYn1vn0JtXvaZe/DiZZ3uY/1k5oM97XauCuNo8iSZpGs4fVcZJPA78InJ1kL/Ah4CPAliTrgT3AZQBVtSvJFuAB4BBwRVU917q6nN4dYHOAO9sPwI3ALUlG6Z2JrBnWsUiSjmxoQVJV7z3CphVH2H8jsHFAfQS4eED9GVoQSZJmzoky2S5JOkkZJJKkTgwSSVInBokkqRODRJLUiUEiSerEIJEkdWKQSJI6MUgkSZ0YJJKkTgwSSVInBokkqRODRJLUiUEiSerEIJEkdWKQSJI6MUgkSZ2c9EGSZGWS3UlGk1w10+ORpFPNSR0kSWYB/w14N3Ah8N4kF87sqCTp1HJSBwmwDBitqr+pqh8CtwKrZnhMknRKmT3TA+hoAfBI3/pe4Gcn7pRkA7ChrX4/ye5pGNup4mzgiZkexIkgH1s300PQ4fy3Oe5DOR69/J0jbTjZg2TQX6eeV6jaBGwa/nBOPUlGqmrpTI9Dmsh/m9PnZL+0tRc4r299IfDYDI1Fkk5JJ3uQ/CWwOMn5SV4GrAG2zvCYJOmUclJf2qqqQ0n+OfAFYBbwiaraNcPDOtV4yVAnKv9tTpNUPW9KQZKkKTvZL21JkmaYQSJJ6sQg0THx0TQ6USX5RJIDSe6f6bGcKgwSvWA+mkYnuJuAlTM9iFOJQaJj4aNpdMKqqi8DT870OE4lBomOxaBH0yyYobFImmEGiY7FlB5NI+nUYJDoWPhoGkl/yyDRsfDRNJL+lkGiF6yqDgHjj6Z5ENjio2l0okjyaeBu4A1J9iZZP9NjerHzESmSpE48I5EkdWKQSJI6MUgkSZ0YJJKkTgwSSVInJ/UbEqVhSHIWsL2tvhZ4Dhhr68va88WOte/vV9WrOg5ROqF4+680iST/Efh+VX3sOPV3XIMkyayqeu549ScdCy9tSVOQZEWSryfZ2d538fJW/1aSs9vy0iRfasuvSvLJtv83k/xaX18bk3wjyVeTnNtqlyW5v9W/3Gqzknysr4/f6vudH0zyFeCyJO9KcneSryX5TJJXtf2WJPmzJPcm+UKS+a3+pSTXJLknyV8n+YXp+0vqxcggkY7uNHrvuPj1qnoTvUvClx+lzX8Anq6qN1XVm4G7Wv2VwFer6i3Al4F/2uofBC5p9fe02gbgfOBtrY9P9fX/TFX9PPCnwO8A76yqnwFGgH+V5KXAfwVWV9US4BPAxr72s6tqGfAB4ENT/ktIAzhHIh3dLODhqvrrtr4ZuAL4g0navJPeM8gAqKqn2uIPgc+35XuBX27LfwHclGQL8Nm+Pv6oPZKGqup/x8Zt7XM5vZeL/UUSgJfRHg8CXAxsa/VZwL6+9uO/415g0STHIR2VQSId3Q8m2XaIn5zZn9ZXD4Mfrf+j+snE5HO0/war6v1Jfhb4VeC+JG+dpI/+MQXYVlXv7d+Y5E3Arqp6+xHaPztxDNKx8tKWdHSnAYuSXNDWfwP4s7b8LWBJW/61vjZfpPdgSwCSzJ3sFyT56araUVUfBJ6g95j+LwLvTzK77XPmgKZfBd4xPrYkr0jyemA3MC/J21v9pUkumuLxSi+IQSId3TPAbwKfSbIT+DHwR23bh4E/TPLn9P7vftzvAnPHJ9CBXzrK7/i9Nql+P725k28AHwf2AN9sffyjiY2qagz4x8Cnk3yTXrC8sd2ivBq4prW9D/i5F3zk0hR4+68kqRPPSCRJnRgkkqRODBJJUicGiSSpE4NEktSJQSJJ6sQgkSR18v8BLGt4MlD4dlMAAAAASUVORK5CYII=\n",
>>>>>>> 3c44e2ade4b88123a31c9aa298436ff4371f8d5f
      "text/plain": [
       "<Figure size 432x288 with 1 Axes>"
      ]
     },
     "metadata": {
      "needs_background": "light"
     },
     "output_type": "display_data"
    }
   ],
   "source": [
    "sns.barplot(x=df['Touchscreen'],y=df['Price'])"
   ]
  },
  {
   "cell_type": "code",
<<<<<<< HEAD
   "execution_count": 27,
   "id": "e3b79506",
=======
   "execution_count": 83,
   "id": "d7dcce89",
>>>>>>> 3c44e2ade4b88123a31c9aa298436ff4371f8d5f
   "metadata": {},
   "outputs": [],
   "source": [
    "df['Ips'] = df['ScreenResolution'].apply(lambda x:1 if 'IPS' in x else 0)"
   ]
  },
  {
   "cell_type": "code",
<<<<<<< HEAD
   "execution_count": 28,
   "id": "9bd545a6",
=======
   "execution_count": 84,
   "id": "944ea811",
   "metadata": {},
   "outputs": [],
   "source": [
    "df['X_res'] = new[0]\n",
    "df['Y_res'] = new[1]"
   ]
  },
  {
   "cell_type": "code",
   "execution_count": 85,
   "id": "b869c871",
>>>>>>> 3c44e2ade4b88123a31c9aa298436ff4371f8d5f
   "metadata": {},
   "outputs": [
    {
     "data": {
      "text/html": [
       "<div>\n",
       "<style scoped>\n",
       "    .dataframe tbody tr th:only-of-type {\n",
       "        vertical-align: middle;\n",
       "    }\n",
       "\n",
       "    .dataframe tbody tr th {\n",
       "        vertical-align: top;\n",
       "    }\n",
       "\n",
       "    .dataframe thead th {\n",
       "        text-align: right;\n",
       "    }\n",
       "</style>\n",
       "<table border=\"1\" class=\"dataframe\">\n",
       "  <thead>\n",
       "    <tr style=\"text-align: right;\">\n",
       "      <th></th>\n",
       "      <th>Company</th>\n",
       "      <th>TypeName</th>\n",
       "      <th>Inches</th>\n",
       "      <th>ScreenResolution</th>\n",
       "      <th>Cpu</th>\n",
       "      <th>Ram</th>\n",
       "      <th>Memory</th>\n",
       "      <th>Gpu</th>\n",
       "      <th>OpSys</th>\n",
       "      <th>Weight</th>\n",
       "      <th>Price</th>\n",
       "      <th>Touchscreen</th>\n",
       "      <th>Ips</th>\n",
       "    </tr>\n",
       "  </thead>\n",
       "  <tbody>\n",
       "    <tr>\n",
       "      <th>0</th>\n",
       "      <td>Apple</td>\n",
       "      <td>Ultrabook</td>\n",
       "      <td>13.3</td>\n",
       "      <td>IPS Panel Retina Display 2560x1600</td>\n",
       "      <td>Intel Core i5 2.3GHz</td>\n",
       "      <td>8</td>\n",
       "      <td>128GB SSD</td>\n",
       "      <td>Intel Iris Plus Graphics 640</td>\n",
       "      <td>macOS</td>\n",
       "      <td>1.37</td>\n",
       "      <td>71378.6832</td>\n",
       "      <td>0</td>\n",
       "      <td>1</td>\n",
       "    </tr>\n",
       "    <tr>\n",
       "      <th>1</th>\n",
       "      <td>Apple</td>\n",
       "      <td>Ultrabook</td>\n",
       "      <td>13.3</td>\n",
       "      <td>1440x900</td>\n",
       "      <td>Intel Core i5 1.8GHz</td>\n",
       "      <td>8</td>\n",
       "      <td>128GB Flash Storage</td>\n",
       "      <td>Intel HD Graphics 6000</td>\n",
       "      <td>macOS</td>\n",
       "      <td>1.34</td>\n",
       "      <td>47895.5232</td>\n",
       "      <td>0</td>\n",
       "      <td>0</td>\n",
       "    </tr>\n",
       "    <tr>\n",
       "      <th>2</th>\n",
       "      <td>HP</td>\n",
       "      <td>Notebook</td>\n",
       "      <td>15.6</td>\n",
       "      <td>Full HD 1920x1080</td>\n",
       "      <td>Intel Core i5 7200U 2.5GHz</td>\n",
       "      <td>8</td>\n",
       "      <td>256GB SSD</td>\n",
       "      <td>Intel HD Graphics 620</td>\n",
       "      <td>No OS</td>\n",
       "      <td>1.86</td>\n",
       "      <td>30636.0000</td>\n",
       "      <td>0</td>\n",
       "      <td>0</td>\n",
       "    </tr>\n",
       "    <tr>\n",
       "      <th>3</th>\n",
       "      <td>Apple</td>\n",
       "      <td>Ultrabook</td>\n",
       "      <td>15.4</td>\n",
       "      <td>IPS Panel Retina Display 2880x1800</td>\n",
       "      <td>Intel Core i7 2.7GHz</td>\n",
       "      <td>16</td>\n",
       "      <td>512GB SSD</td>\n",
       "      <td>AMD Radeon Pro 455</td>\n",
       "      <td>macOS</td>\n",
       "      <td>1.83</td>\n",
       "      <td>135195.3360</td>\n",
       "      <td>0</td>\n",
       "      <td>1</td>\n",
       "    </tr>\n",
       "    <tr>\n",
       "      <th>4</th>\n",
       "      <td>Apple</td>\n",
       "      <td>Ultrabook</td>\n",
       "      <td>13.3</td>\n",
       "      <td>IPS Panel Retina Display 2560x1600</td>\n",
       "      <td>Intel Core i5 3.1GHz</td>\n",
       "      <td>8</td>\n",
       "      <td>256GB SSD</td>\n",
       "      <td>Intel Iris Plus Graphics 650</td>\n",
       "      <td>macOS</td>\n",
       "      <td>1.37</td>\n",
       "      <td>96095.8080</td>\n",
       "      <td>0</td>\n",
       "      <td>1</td>\n",
       "    </tr>\n",
       "  </tbody>\n",
       "</table>\n",
       "</div>"
      ],
      "text/plain": [
       "  Company   TypeName  Inches                    ScreenResolution  \\\n",
       "0   Apple  Ultrabook    13.3  IPS Panel Retina Display 2560x1600   \n",
       "1   Apple  Ultrabook    13.3                            1440x900   \n",
       "2      HP   Notebook    15.6                   Full HD 1920x1080   \n",
       "3   Apple  Ultrabook    15.4  IPS Panel Retina Display 2880x1800   \n",
       "4   Apple  Ultrabook    13.3  IPS Panel Retina Display 2560x1600   \n",
       "\n",
       "                          Cpu  Ram               Memory  \\\n",
       "0        Intel Core i5 2.3GHz    8            128GB SSD   \n",
       "1        Intel Core i5 1.8GHz    8  128GB Flash Storage   \n",
       "2  Intel Core i5 7200U 2.5GHz    8            256GB SSD   \n",
       "3        Intel Core i7 2.7GHz   16            512GB SSD   \n",
       "4        Intel Core i5 3.1GHz    8            256GB SSD   \n",
       "\n",
       "                            Gpu  OpSys  Weight        Price  Touchscreen  Ips  \n",
       "0  Intel Iris Plus Graphics 640  macOS    1.37   71378.6832            0    1  \n",
       "1        Intel HD Graphics 6000  macOS    1.34   47895.5232            0    0  \n",
       "2         Intel HD Graphics 620  No OS    1.86   30636.0000            0    0  \n",
       "3            AMD Radeon Pro 455  macOS    1.83  135195.3360            0    1  \n",
       "4  Intel Iris Plus Graphics 650  macOS    1.37   96095.8080            0    1  "
      ]
     },
     "execution_count": 28,
     "metadata": {},
     "output_type": "execute_result"
    }
   ],
   "source": [
    "df.head()"
   ]
  },
  {
   "cell_type": "code",
   "execution_count": 29,
   "id": "b00087b3",
   "metadata": {},
   "outputs": [
    {
     "data": {
      "text/plain": [
       "<AxesSubplot:>"
      ]
     },
     "execution_count": 29,
     "metadata": {},
     "output_type": "execute_result"
    },
    {
     "data": {
      "image/png": "iVBORw0KGgoAAAANSUhEUgAAAXcAAAD1CAYAAACrz7WZAAAAOXRFWHRTb2Z0d2FyZQBNYXRwbG90bGliIHZlcnNpb24zLjUuMSwgaHR0cHM6Ly9tYXRwbG90bGliLm9yZy/YYfK9AAAACXBIWXMAAAsTAAALEwEAmpwYAAALZklEQVR4nO3cX4id+V3H8ffHxF1tFzHLzoY0SU3E0ZoIUhliteCFERJZMXuzkEJLKAu5SbUVQRNvehVYQUQvXCG0SsDSENbChhaqS3QvRNh0truo2TQmNNtkTNxMxf8XaZN+vZgHPJ2dyZzNzMkk37xfN+ec3/M753wHJu95eDJnUlVIknr5gfUeQJK09oy7JDVk3CWpIeMuSQ0Zd0lqyLhLUkMb13sAgKeeeqp27Nix3mNI0kPl9ddf/3ZVTS117IGI+44dO5idnV3vMSTpoZLkW8sd87KMJDVk3CWpIeMuSQ0Zd0lqyLhLUkPGXZIaMu6S1JBxl6SGHogPMT0sdhz9ynqP0MrbLzyz3iNIbXnmLkkNGXdJasi4S1JDxl2SGjLuktSQcZekhoy7JDVk3CWpIeMuSQ0Zd0lqyLhLUkPGXZIaMu6S1JBxl6SGjLskNWTcJakh4y5JDRl3SWrIuEtSQ8Zdkhoy7pLUkHGXpIaMuyQ1ZNwlqSHjLkkNGXdJamisuCf5rSTnk/xTki8m+aEkTyZ5Jcml4XbTyP5jSS4nuZhk3+TGlyQtZcW4J9kK/CYwU1U/A2wADgJHgbNVNQ2cHR6TZNdwfDewH3gxyYbJjC9JWsq4l2U2Aj+cZCPwPuA6cAA4ORw/CTw73D8AnKqqW1V1BbgM7FmziSVJK1ox7lX1L8AfAFeBG8B/VtVfA5ur6saw5wbw9PCUrcC1kZeYG9YkSffJOJdlNrFwNr4T+ADw/iQfv9tTllirJV73cJLZJLPz8/PjzitJGsM4l2V+BbhSVfNV9V3gS8AvAu8k2QIw3N4c9s8B20eev42Fyzjfp6pOVNVMVc1MTU2t5muQJC0yTtyvAh9J8r4kAfYCF4AzwKFhzyHg5eH+GeBgkseT7ASmgXNrO7Yk6W42rrShql5L8hLwdeA28AZwAngCOJ3keRZ+ADw37D+f5DTw1rD/SFXdmdD8kqQlrBh3gKr6LPDZRcu3WDiLX2r/ceD46kaTJN0rP6EqSQ0Zd0lqyLhLUkPGXZIaMu6S1JBxl6SGjLskNWTcJakh4y5JDRl3SWrIuEtSQ8Zdkhoy7pLUkHGXpIaMuyQ1ZNwlqSHjLkkNGXdJasi4S1JDxl2SGjLuktSQcZekhoy7JDVk3CWpIeMuSQ0Zd0lqyLhLUkPGXZIaMu6S1JBxl6SGjLskNWTcJakh4y5JDRl3SWrIuEtSQ2PFPcmPJnkpyTeSXEjyC0meTPJKkkvD7aaR/ceSXE5yMcm+yY0vSVrKuGfufwx8tao+BPwscAE4Cpytqmng7PCYJLuAg8BuYD/wYpINaz24JGl5K8Y9yY8AvwR8HqCqvlNV/wEcAE4O204Czw73DwCnqupWVV0BLgN71nZsSdLdjHPm/uPAPPDnSd5I8rkk7wc2V9UNgOH26WH/VuDayPPnhjVJ0n0yTtw3Aj8H/GlVfRj4X4ZLMMvIEmv1rk3J4SSzSWbn5+fHGlaSNJ5x4j4HzFXVa8Pjl1iI/TtJtgAMtzdH9m8fef424PriF62qE1U1U1UzU1NT9zq/JGkJK8a9qv4VuJbkp4alvcBbwBng0LB2CHh5uH8GOJjk8SQ7gWng3JpOLUm6q41j7vsN4AtJHgO+CXyShR8Mp5M8D1wFngOoqvNJTrPwA+A2cKSq7qz55JKkZY0V96p6E5hZ4tDeZfYfB47f+1iSpNXwE6qS1JBxl6SGjLskNWTcJakh4y5JDRl3SWrIuEtSQ8Zdkhoy7pLUkHGXpIaMuyQ1ZNwlqSHjLkkNGXdJasi4S1JDxl2SGjLuktSQcZekhoy7JDVk3CWpIeMuSQ0Zd0lqyLhLUkPGXZIaMu6S1JBxl6SGjLskNWTcJakh4y5JDRl3SWrIuEtSQ8Zdkhoy7pLUkHGXpIaMuyQ1NHbck2xI8kaSLw+Pn0zySpJLw+2mkb3HklxOcjHJvkkMLkla3ns5c/80cGHk8VHgbFVNA2eHxyTZBRwEdgP7gReTbFibcSVJ4xgr7km2Ac8AnxtZPgCcHO6fBJ4dWT9VVbeq6gpwGdizJtNKksYy7pn7HwG/A3xvZG1zVd0AGG6fHta3AtdG9s0Na5Kk+2TFuCf5NeBmVb0+5mtmibVa4nUPJ5lNMjs/Pz/mS0uSxjHOmftHgV9P8jZwCvjlJH8BvJNkC8Bwe3PYPwdsH3n+NuD64hetqhNVNVNVM1NTU6v4EiRJi60Y96o6VlXbqmoHC/9R+jdV9XHgDHBo2HYIeHm4fwY4mOTxJDuBaeDcmk8uSVrWxlU89wXgdJLngavAcwBVdT7JaeAt4DZwpKrurHpSSdLY3lPcq+pV4NXh/r8Be5fZdxw4vsrZJEn3yE+oSlJDxl2SGjLuktTQav5DVdIDZMfRr6z3CG28/cIz6z3CqnnmLkkNGXdJasi4S1JDxl2SGjLuktSQcZekhoy7JDVk3CWpIeMuSQ0Zd0lqyLhLUkPGXZIaMu6S1JBxl6SGjLskNWTcJakh4y5JDRl3SWrIuEtSQ8Zdkhoy7pLUkHGXpIaMuyQ1ZNwlqSHjLkkNGXdJasi4S1JDxl2SGjLuktSQcZekhoy7JDW0YtyTbE/yt0kuJDmf5NPD+pNJXklyabjdNPKcY0kuJ7mYZN8kvwBJ0ruNc+Z+G/jtqvpp4CPAkSS7gKPA2aqaBs4OjxmOHQR2A/uBF5NsmMTwkqSlrRj3qrpRVV8f7v83cAHYChwATg7bTgLPDvcPAKeq6lZVXQEuA3vWeG5J0l28p2vuSXYAHwZeAzZX1Q1Y+AEAPD1s2wpcG3na3LAmSbpPxo57kieAvwQ+U1X/dbetS6zVEq93OMlsktn5+flxx5AkjWGsuCf5QRbC/oWq+tKw/E6SLcPxLcDNYX0O2D7y9G3A9cWvWVUnqmqmqmampqbudX5J0hLG+W2ZAJ8HLlTVH44cOgMcGu4fAl4eWT+Y5PEkO4Fp4NzajSxJWsnGMfZ8FPgE8I9J3hzWfg94ATid5HngKvAcQFWdT3IaeIuF37Q5UlV31npwSdLyVox7Vf0dS19HB9i7zHOOA8dXMZckaRX8hKokNWTcJakh4y5JDRl3SWrIuEtSQ8Zdkhoy7pLUkHGXpIaMuyQ1ZNwlqSHjLkkNGXdJasi4S1JDxl2SGjLuktSQcZekhoy7JDVk3CWpIeMuSQ0Zd0lqyLhLUkPGXZIaMu6S1JBxl6SGjLskNWTcJakh4y5JDRl3SWrIuEtSQ8Zdkhoy7pLUkHGXpIaMuyQ1ZNwlqSHjLkkNGXdJamhicU+yP8nFJJeTHJ3U+0iS3m0icU+yAfgT4FeBXcDHkuyaxHtJkt5tUmfue4DLVfXNqvoOcAo4MKH3kiQtsnFCr7sVuDbyeA74+dENSQ4Dh4eH/5Pk4oRmeRQ9BXx7vYdYSX5/vSfQOvB7c2392HIHJhX3LLFW3/eg6gRwYkLv/0hLMltVM+s9h7SY35v3z6Quy8wB20cebwOuT+i9JEmLTCruXwOmk+xM8hhwEDgzofeSJC0ykcsyVXU7yaeAvwI2AH9WVecn8V5akpe79KDye/M+SVWtvEuS9FDxE6qS1JBxl6SGjLskNTSp33PXfZTkQyx8AngrC58nuA6cqaoL6zqYpHXjmftDLsnvsvDnHQKcY+HXUAN80T/YpgdZkk+u9wyd+dsyD7kk/wzsrqrvLlp/DDhfVdPrM5l0d0muVtUH13uOrrws8/D7HvAB4FuL1rcMx6R1k+QfljsEbL6fszxqjPvD7zPA2SSX+P8/1vZB4CeAT63XUNJgM7AP+PdF6wH+/v6P8+gw7g+5qvpqkp9k4c8sb2XhH80c8LWqurOuw0nwZeCJqnpz8YEkr973aR4hXnOXpIb8bRlJasi4S1JDxl2SGjLuktSQcZekhv4PQ6ha+mMPLsIAAAAASUVORK5CYII=\n",
      "text/plain": [
       "<Figure size 432x288 with 1 Axes>"
      ]
     },
     "metadata": {
      "needs_background": "light"
     },
     "output_type": "display_data"
    }
   ],
   "source": [
    "df['Ips'].value_counts().plot(kind='bar')"
   ]
  },
  {
   "cell_type": "code",
   "execution_count": 30,
   "id": "675a207e",
   "metadata": {},
   "outputs": [
    {
     "data": {
      "text/plain": [
       "<AxesSubplot:xlabel='Ips', ylabel='Price'>"
      ]
     },
     "execution_count": 30,
     "metadata": {},
     "output_type": "execute_result"
    },
    {
     "data": {
      "image/png": "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\n",
      "text/plain": [
       "<Figure size 432x288 with 1 Axes>"
      ]
     },
     "metadata": {
      "needs_background": "light"
     },
     "output_type": "display_data"
    }
   ],
   "source": [
    "sns.barplot(x=df['Ips'],y=df['Price'])"
   ]
  },
  {
   "cell_type": "code",
   "execution_count": 31,
   "id": "2b655d5e",
   "metadata": {},
   "outputs": [],
   "source": [
    "new = df['ScreenResolution'].str.split('x',n=1,expand=True)"
   ]
  },
  {
   "cell_type": "code",
   "execution_count": 32,
   "id": "5cc3af6e",
   "metadata": {},
   "outputs": [],
   "source": [
    "df['X_res'] = new[0]\n",
    "df['Y_res'] = new[1]"
   ]
  },
  {
   "cell_type": "code",
   "execution_count": 33,
   "id": "b68010ab",
   "metadata": {},
   "outputs": [
    {
     "data": {
      "text/html": [
       "<div>\n",
       "<style scoped>\n",
       "    .dataframe tbody tr th:only-of-type {\n",
       "        vertical-align: middle;\n",
       "    }\n",
       "\n",
       "    .dataframe tbody tr th {\n",
       "        vertical-align: top;\n",
       "    }\n",
       "\n",
       "    .dataframe thead th {\n",
       "        text-align: right;\n",
       "    }\n",
       "</style>\n",
       "<table border=\"1\" class=\"dataframe\">\n",
       "  <thead>\n",
       "    <tr style=\"text-align: right;\">\n",
       "      <th></th>\n",
       "      <th>Company</th>\n",
       "      <th>TypeName</th>\n",
       "      <th>Inches</th>\n",
       "      <th>ScreenResolution</th>\n",
       "      <th>Cpu</th>\n",
       "      <th>Ram</th>\n",
       "      <th>Memory</th>\n",
       "      <th>Gpu</th>\n",
       "      <th>OpSys</th>\n",
       "      <th>Weight</th>\n",
       "      <th>Price</th>\n",
       "      <th>Touchscreen</th>\n",
       "      <th>Ips</th>\n",
       "      <th>X_res</th>\n",
       "      <th>Y_res</th>\n",
       "    </tr>\n",
       "  </thead>\n",
       "  <tbody>\n",
       "    <tr>\n",
<<<<<<< HEAD
       "      <th>885</th>\n",
       "      <td>HP</td>\n",
       "      <td>2 in 1 Convertible</td>\n",
       "      <td>13.3</td>\n",
       "      <td>Full HD / Touchscreen 1920x1080</td>\n",
       "      <td>Intel Core i5 7200U 2.5GHz</td>\n",
       "      <td>4</td>\n",
       "      <td>256GB SSD</td>\n",
       "      <td>Intel HD Graphics 620</td>\n",
       "      <td>Windows 10</td>\n",
       "      <td>1.28</td>\n",
       "      <td>95850.720</td>\n",
       "      <td>1</td>\n",
       "      <td>0</td>\n",
       "      <td>Full HD / Touchscreen 1920</td>\n",
       "      <td>1080</td>\n",
       "    </tr>\n",
       "    <tr>\n",
       "      <th>443</th>\n",
       "      <td>Lenovo</td>\n",
       "      <td>Notebook</td>\n",
       "      <td>15.6</td>\n",
       "      <td>Full HD 1920x1080</td>\n",
       "      <td>Intel Pentium Quad Core N4200 1.1GHz</td>\n",
       "      <td>4</td>\n",
       "      <td>128GB SSD</td>\n",
       "      <td>Intel HD Graphics 505</td>\n",
       "      <td>Windows 10</td>\n",
       "      <td>2.20</td>\n",
       "      <td>18594.720</td>\n",
       "      <td>0</td>\n",
       "      <td>0</td>\n",
       "      <td>Full HD 1920</td>\n",
       "      <td>1080</td>\n",
       "    </tr>\n",
       "    <tr>\n",
       "      <th>980</th>\n",
       "      <td>Dell</td>\n",
       "      <td>2 in 1 Convertible</td>\n",
       "      <td>15.6</td>\n",
       "      <td>IPS Panel Full HD / Touchscreen 1920x1080</td>\n",
       "      <td>Intel Core i7 7500U 2.7GHz</td>\n",
       "      <td>12</td>\n",
       "      <td>512GB SSD</td>\n",
       "      <td>Intel HD Graphics 620</td>\n",
       "      <td>Windows 10</td>\n",
       "      <td>2.19</td>\n",
       "      <td>69210.720</td>\n",
       "      <td>1</td>\n",
=======
       "      <th>1073</th>\n",
       "      <td>HP</td>\n",
       "      <td>Notebook</td>\n",
       "      <td>13.3</td>\n",
       "      <td>Full HD 1920x1080</td>\n",
       "      <td>Intel Core i7 7500U 2.7GHz</td>\n",
       "      <td>8</td>\n",
       "      <td>256GB SSD</td>\n",
       "      <td>Intel HD Graphics 620</td>\n",
       "      <td>Windows 10</td>\n",
       "      <td>1.49</td>\n",
       "      <td>58075.20</td>\n",
       "      <td>0</td>\n",
       "      <td>Full HD 1920</td>\n",
       "      <td>1080</td>\n",
       "    </tr>\n",
       "    <tr>\n",
       "      <th>259</th>\n",
       "      <td>Lenovo</td>\n",
       "      <td>2 in 1 Convertible</td>\n",
       "      <td>15.6</td>\n",
       "      <td>IPS Panel Full HD / Touchscreen 1920x1080</td>\n",
       "      <td>Intel Core i7 7700HQ 2.8GHz</td>\n",
       "      <td>8</td>\n",
       "      <td>512GB SSD</td>\n",
       "      <td>Nvidia GeForce GTX 1050M</td>\n",
       "      <td>Windows 10</td>\n",
       "      <td>2.00</td>\n",
       "      <td>90522.72</td>\n",
>>>>>>> 3c44e2ade4b88123a31c9aa298436ff4371f8d5f
       "      <td>1</td>\n",
       "      <td>IPS Panel Full HD / Touchscreen 1920</td>\n",
       "      <td>1080</td>\n",
       "    </tr>\n",
       "    <tr>\n",
<<<<<<< HEAD
       "      <th>19</th>\n",
       "      <td>Dell</td>\n",
       "      <td>Ultrabook</td>\n",
       "      <td>13.3</td>\n",
       "      <td>IPS Panel Full HD / Touchscreen 1920x1080</td>\n",
       "      <td>Intel Core i5 8250U 1.6GHz</td>\n",
       "      <td>8</td>\n",
       "      <td>128GB SSD</td>\n",
       "      <td>Intel UHD Graphics 620</td>\n",
       "      <td>Windows 10</td>\n",
       "      <td>1.22</td>\n",
       "      <td>52161.120</td>\n",
       "      <td>1</td>\n",
       "      <td>1</td>\n",
       "      <td>IPS Panel Full HD / Touchscreen 1920</td>\n",
       "      <td>1080</td>\n",
       "    </tr>\n",
       "    <tr>\n",
       "      <th>936</th>\n",
       "      <td>Dell</td>\n",
       "      <td>Notebook</td>\n",
       "      <td>15.6</td>\n",
       "      <td>1366x768</td>\n",
       "      <td>Intel Core i3 6006U 2.0GHz</td>\n",
       "      <td>4</td>\n",
       "      <td>1TB HDD</td>\n",
       "      <td>Intel HD Graphics 520</td>\n",
       "      <td>Windows 10</td>\n",
       "      <td>2.18</td>\n",
       "      <td>29762.208</td>\n",
       "      <td>0</td>\n",
=======
       "      <th>755</th>\n",
       "      <td>Lenovo</td>\n",
       "      <td>2 in 1 Convertible</td>\n",
       "      <td>13.3</td>\n",
       "      <td>IPS Panel Quad HD+ / Touchscreen 3200x1800</td>\n",
       "      <td>Intel Core i5 6260U 1.8GHz</td>\n",
       "      <td>8</td>\n",
       "      <td>256GB SSD</td>\n",
       "      <td>Intel HD Graphics 540</td>\n",
       "      <td>Windows 10</td>\n",
       "      <td>1.30</td>\n",
       "      <td>63882.72</td>\n",
       "      <td>1</td>\n",
       "      <td>IPS Panel Quad HD+ / Touchscreen 3200</td>\n",
       "      <td>1800</td>\n",
       "    </tr>\n",
       "    <tr>\n",
       "      <th>188</th>\n",
       "      <td>Acer</td>\n",
       "      <td>Ultrabook</td>\n",
       "      <td>13.3</td>\n",
       "      <td>IPS Panel Full HD 1920x1080</td>\n",
       "      <td>Intel Core i5 7Y54 1.2GHz</td>\n",
       "      <td>8</td>\n",
       "      <td>256GB SSD</td>\n",
       "      <td>Intel HD Graphics 615</td>\n",
       "      <td>Windows 10</td>\n",
       "      <td>1.12</td>\n",
       "      <td>52693.92</td>\n",
>>>>>>> 3c44e2ade4b88123a31c9aa298436ff4371f8d5f
       "      <td>0</td>\n",
       "      <td>IPS Panel Full HD 1920</td>\n",
       "      <td>1080</td>\n",
       "    </tr>\n",
       "    <tr>\n",
       "      <th>292</th>\n",
       "      <td>HP</td>\n",
       "      <td>Notebook</td>\n",
       "      <td>17.3</td>\n",
       "      <td>1600x900</td>\n",
       "      <td>Intel Core i3 6006U 2GHz</td>\n",
       "      <td>8</td>\n",
       "      <td>1TB HDD</td>\n",
       "      <td>Intel HD Graphics 520</td>\n",
       "      <td>Windows 10</td>\n",
       "      <td>2.54</td>\n",
       "      <td>26053.92</td>\n",
       "      <td>0</td>\n",
       "      <td>1600</td>\n",
       "      <td>900</td>\n",
       "    </tr>\n",
       "  </tbody>\n",
       "</table>\n",
       "</div>"
      ],
      "text/plain": [
<<<<<<< HEAD
       "    Company            TypeName  Inches  \\\n",
       "885      HP  2 in 1 Convertible    13.3   \n",
       "443  Lenovo            Notebook    15.6   \n",
       "980    Dell  2 in 1 Convertible    15.6   \n",
       "19     Dell           Ultrabook    13.3   \n",
       "936    Dell            Notebook    15.6   \n",
       "\n",
       "                              ScreenResolution  \\\n",
       "885            Full HD / Touchscreen 1920x1080   \n",
       "443                          Full HD 1920x1080   \n",
       "980  IPS Panel Full HD / Touchscreen 1920x1080   \n",
       "19   IPS Panel Full HD / Touchscreen 1920x1080   \n",
       "936                                   1366x768   \n",
       "\n",
       "                                      Cpu  Ram     Memory  \\\n",
       "885            Intel Core i5 7200U 2.5GHz    4  256GB SSD   \n",
       "443  Intel Pentium Quad Core N4200 1.1GHz    4  128GB SSD   \n",
       "980            Intel Core i7 7500U 2.7GHz   12  512GB SSD   \n",
       "19             Intel Core i5 8250U 1.6GHz    8  128GB SSD   \n",
       "936            Intel Core i3 6006U 2.0GHz    4    1TB HDD   \n",
       "\n",
       "                        Gpu       OpSys  Weight      Price  Touchscreen  Ips  \\\n",
       "885   Intel HD Graphics 620  Windows 10    1.28  95850.720            1    0   \n",
       "443   Intel HD Graphics 505  Windows 10    2.20  18594.720            0    0   \n",
       "980   Intel HD Graphics 620  Windows 10    2.19  69210.720            1    1   \n",
       "19   Intel UHD Graphics 620  Windows 10    1.22  52161.120            1    1   \n",
       "936   Intel HD Graphics 520  Windows 10    2.18  29762.208            0    0   \n",
       "\n",
       "                                    X_res Y_res  \n",
       "885            Full HD / Touchscreen 1920  1080  \n",
       "443                          Full HD 1920  1080  \n",
       "980  IPS Panel Full HD / Touchscreen 1920  1080  \n",
       "19   IPS Panel Full HD / Touchscreen 1920  1080  \n",
       "936                                  1366   768  "
      ]
     },
     "execution_count": 33,
=======
       "     Company            TypeName  Inches  \\\n",
       "1073      HP            Notebook    13.3   \n",
       "259   Lenovo  2 in 1 Convertible    15.6   \n",
       "755   Lenovo  2 in 1 Convertible    13.3   \n",
       "188     Acer           Ultrabook    13.3   \n",
       "292       HP            Notebook    17.3   \n",
       "\n",
       "                                ScreenResolution                          Cpu  \\\n",
       "1073                           Full HD 1920x1080   Intel Core i7 7500U 2.7GHz   \n",
       "259    IPS Panel Full HD / Touchscreen 1920x1080  Intel Core i7 7700HQ 2.8GHz   \n",
       "755   IPS Panel Quad HD+ / Touchscreen 3200x1800   Intel Core i5 6260U 1.8GHz   \n",
       "188                  IPS Panel Full HD 1920x1080    Intel Core i5 7Y54 1.2GHz   \n",
       "292                                     1600x900     Intel Core i3 6006U 2GHz   \n",
       "\n",
       "      Ram     Memory                       Gpu       OpSys  Weight     Price  \\\n",
       "1073    8  256GB SSD     Intel HD Graphics 620  Windows 10    1.49  58075.20   \n",
       "259     8  512GB SSD  Nvidia GeForce GTX 1050M  Windows 10    2.00  90522.72   \n",
       "755     8  256GB SSD     Intel HD Graphics 540  Windows 10    1.30  63882.72   \n",
       "188     8  256GB SSD     Intel HD Graphics 615  Windows 10    1.12  52693.92   \n",
       "292     8    1TB HDD     Intel HD Graphics 520  Windows 10    2.54  26053.92   \n",
       "\n",
       "      Touchscreen                                  X_res Y_res  \n",
       "1073            0                           Full HD 1920  1080  \n",
       "259             1   IPS Panel Full HD / Touchscreen 1920  1080  \n",
       "755             1  IPS Panel Quad HD+ / Touchscreen 3200  1800  \n",
       "188             0                 IPS Panel Full HD 1920  1080  \n",
       "292             0                                   1600   900  "
      ]
     },
     "execution_count": 85,
>>>>>>> 3c44e2ade4b88123a31c9aa298436ff4371f8d5f
     "metadata": {},
     "output_type": "execute_result"
    }
   ],
   "source": [
    "df.sample(5)"
   ]
  },
  {
   "cell_type": "code",
<<<<<<< HEAD
   "execution_count": 34,
   "id": "78e4dbc4",
=======
   "execution_count": 86,
   "id": "82292a6e",
>>>>>>> 3c44e2ade4b88123a31c9aa298436ff4371f8d5f
   "metadata": {},
   "outputs": [],
   "source": [
    "df['X_res'] = df['X_res'].str.replace(',','').str.findall(r'(\\d+\\.?\\d+)').apply(lambda x:x[0])"
   ]
  },
  {
   "cell_type": "code",
<<<<<<< HEAD
   "execution_count": 35,
   "id": "baaeb8c7",
=======
   "execution_count": 87,
   "id": "66f572ba",
>>>>>>> 3c44e2ade4b88123a31c9aa298436ff4371f8d5f
   "metadata": {},
   "outputs": [
    {
     "data": {
      "text/html": [
       "<div>\n",
       "<style scoped>\n",
       "    .dataframe tbody tr th:only-of-type {\n",
       "        vertical-align: middle;\n",
       "    }\n",
       "\n",
       "    .dataframe tbody tr th {\n",
       "        vertical-align: top;\n",
       "    }\n",
       "\n",
       "    .dataframe thead th {\n",
       "        text-align: right;\n",
       "    }\n",
       "</style>\n",
       "<table border=\"1\" class=\"dataframe\">\n",
       "  <thead>\n",
       "    <tr style=\"text-align: right;\">\n",
       "      <th></th>\n",
       "      <th>Company</th>\n",
       "      <th>TypeName</th>\n",
       "      <th>Inches</th>\n",
       "      <th>ScreenResolution</th>\n",
       "      <th>Cpu</th>\n",
       "      <th>Ram</th>\n",
       "      <th>Memory</th>\n",
       "      <th>Gpu</th>\n",
       "      <th>OpSys</th>\n",
       "      <th>Weight</th>\n",
       "      <th>Price</th>\n",
       "      <th>Touchscreen</th>\n",
       "      <th>Ips</th>\n",
       "      <th>X_res</th>\n",
       "      <th>Y_res</th>\n",
       "    </tr>\n",
       "  </thead>\n",
       "  <tbody>\n",
       "    <tr>\n",
       "      <th>0</th>\n",
       "      <td>Apple</td>\n",
       "      <td>Ultrabook</td>\n",
       "      <td>13.3</td>\n",
       "      <td>IPS Panel Retina Display 2560x1600</td>\n",
       "      <td>Intel Core i5 2.3GHz</td>\n",
       "      <td>8</td>\n",
       "      <td>128GB SSD</td>\n",
       "      <td>Intel Iris Plus Graphics 640</td>\n",
       "      <td>macOS</td>\n",
       "      <td>1.37</td>\n",
       "      <td>71378.6832</td>\n",
       "      <td>0</td>\n",
       "      <td>1</td>\n",
       "      <td>2560</td>\n",
       "      <td>1600</td>\n",
       "    </tr>\n",
       "    <tr>\n",
       "      <th>1</th>\n",
       "      <td>Apple</td>\n",
       "      <td>Ultrabook</td>\n",
       "      <td>13.3</td>\n",
       "      <td>1440x900</td>\n",
       "      <td>Intel Core i5 1.8GHz</td>\n",
       "      <td>8</td>\n",
       "      <td>128GB Flash Storage</td>\n",
       "      <td>Intel HD Graphics 6000</td>\n",
       "      <td>macOS</td>\n",
       "      <td>1.34</td>\n",
       "      <td>47895.5232</td>\n",
       "      <td>0</td>\n",
       "      <td>0</td>\n",
       "      <td>1440</td>\n",
       "      <td>900</td>\n",
       "    </tr>\n",
       "    <tr>\n",
       "      <th>2</th>\n",
       "      <td>HP</td>\n",
       "      <td>Notebook</td>\n",
       "      <td>15.6</td>\n",
       "      <td>Full HD 1920x1080</td>\n",
       "      <td>Intel Core i5 7200U 2.5GHz</td>\n",
       "      <td>8</td>\n",
       "      <td>256GB SSD</td>\n",
       "      <td>Intel HD Graphics 620</td>\n",
       "      <td>No OS</td>\n",
       "      <td>1.86</td>\n",
       "      <td>30636.0000</td>\n",
       "      <td>0</td>\n",
       "      <td>0</td>\n",
       "      <td>1920</td>\n",
       "      <td>1080</td>\n",
       "    </tr>\n",
       "    <tr>\n",
       "      <th>3</th>\n",
       "      <td>Apple</td>\n",
       "      <td>Ultrabook</td>\n",
       "      <td>15.4</td>\n",
       "      <td>IPS Panel Retina Display 2880x1800</td>\n",
       "      <td>Intel Core i7 2.7GHz</td>\n",
       "      <td>16</td>\n",
       "      <td>512GB SSD</td>\n",
       "      <td>AMD Radeon Pro 455</td>\n",
       "      <td>macOS</td>\n",
       "      <td>1.83</td>\n",
       "      <td>135195.3360</td>\n",
       "      <td>0</td>\n",
       "      <td>1</td>\n",
       "      <td>2880</td>\n",
       "      <td>1800</td>\n",
       "    </tr>\n",
       "    <tr>\n",
       "      <th>4</th>\n",
       "      <td>Apple</td>\n",
       "      <td>Ultrabook</td>\n",
       "      <td>13.3</td>\n",
       "      <td>IPS Panel Retina Display 2560x1600</td>\n",
       "      <td>Intel Core i5 3.1GHz</td>\n",
       "      <td>8</td>\n",
       "      <td>256GB SSD</td>\n",
       "      <td>Intel Iris Plus Graphics 650</td>\n",
       "      <td>macOS</td>\n",
       "      <td>1.37</td>\n",
       "      <td>96095.8080</td>\n",
       "      <td>0</td>\n",
       "      <td>1</td>\n",
       "      <td>2560</td>\n",
       "      <td>1600</td>\n",
       "    </tr>\n",
       "  </tbody>\n",
       "</table>\n",
       "</div>"
      ],
      "text/plain": [
       "  Company   TypeName  Inches                    ScreenResolution  \\\n",
       "0   Apple  Ultrabook    13.3  IPS Panel Retina Display 2560x1600   \n",
       "1   Apple  Ultrabook    13.3                            1440x900   \n",
       "2      HP   Notebook    15.6                   Full HD 1920x1080   \n",
       "3   Apple  Ultrabook    15.4  IPS Panel Retina Display 2880x1800   \n",
       "4   Apple  Ultrabook    13.3  IPS Panel Retina Display 2560x1600   \n",
       "\n",
       "                          Cpu  Ram               Memory  \\\n",
       "0        Intel Core i5 2.3GHz    8            128GB SSD   \n",
       "1        Intel Core i5 1.8GHz    8  128GB Flash Storage   \n",
       "2  Intel Core i5 7200U 2.5GHz    8            256GB SSD   \n",
       "3        Intel Core i7 2.7GHz   16            512GB SSD   \n",
       "4        Intel Core i5 3.1GHz    8            256GB SSD   \n",
       "\n",
       "                            Gpu  OpSys  Weight        Price  Touchscreen  Ips  \\\n",
       "0  Intel Iris Plus Graphics 640  macOS    1.37   71378.6832            0    1   \n",
       "1        Intel HD Graphics 6000  macOS    1.34   47895.5232            0    0   \n",
       "2         Intel HD Graphics 620  No OS    1.86   30636.0000            0    0   \n",
       "3            AMD Radeon Pro 455  macOS    1.83  135195.3360            0    1   \n",
       "4  Intel Iris Plus Graphics 650  macOS    1.37   96095.8080            0    1   \n",
       "\n",
       "  X_res Y_res  \n",
       "0  2560  1600  \n",
       "1  1440   900  \n",
       "2  1920  1080  \n",
       "3  2880  1800  \n",
       "4  2560  1600  "
      ]
     },
<<<<<<< HEAD
     "execution_count": 35,
=======
     "execution_count": 87,
>>>>>>> 3c44e2ade4b88123a31c9aa298436ff4371f8d5f
     "metadata": {},
     "output_type": "execute_result"
    }
   ],
   "source": [
    "df.head()\n"
   ]
  },
  {
   "cell_type": "code",
<<<<<<< HEAD
   "execution_count": 36,
   "id": "e24977d1",
=======
   "execution_count": 88,
   "id": "ea1e414c",
>>>>>>> 3c44e2ade4b88123a31c9aa298436ff4371f8d5f
   "metadata": {},
   "outputs": [],
   "source": [
    "df['X_res'] = df['X_res'].astype('int')\n",
    "df['Y_res'] = df['Y_res'].astype('int')"
   ]
  },
  {
   "cell_type": "code",
<<<<<<< HEAD
   "execution_count": 37,
   "id": "42c5cdaa",
=======
   "execution_count": 89,
   "id": "01fe62df",
>>>>>>> 3c44e2ade4b88123a31c9aa298436ff4371f8d5f
   "metadata": {},
   "outputs": [
    {
     "name": "stdout",
     "output_type": "stream",
     "text": [
      "<class 'pandas.core.frame.DataFrame'>\n",
      "RangeIndex: 1303 entries, 0 to 1302\n",
      "Data columns (total 15 columns):\n",
      " #   Column            Non-Null Count  Dtype  \n",
      "---  ------            --------------  -----  \n",
      " 0   Company           1303 non-null   object \n",
      " 1   TypeName          1303 non-null   object \n",
      " 2   Inches            1303 non-null   float64\n",
      " 3   ScreenResolution  1303 non-null   object \n",
      " 4   Cpu               1303 non-null   object \n",
      " 5   Ram               1303 non-null   int32  \n",
      " 6   Memory            1303 non-null   object \n",
      " 7   Gpu               1303 non-null   object \n",
      " 8   OpSys             1303 non-null   object \n",
      " 9   Weight            1303 non-null   float32\n",
      " 10  Price             1303 non-null   float64\n",
      " 11  Touchscreen       1303 non-null   int64  \n",
      " 12  Ips               1303 non-null   int64  \n",
      " 13  X_res             1303 non-null   int32  \n",
      " 14  Y_res             1303 non-null   int32  \n",
      "dtypes: float32(1), float64(2), int32(3), int64(2), object(7)\n",
      "memory usage: 132.5+ KB\n"
     ]
    }
   ],
   "source": [
    "df.info()"
   ]
  },
  {
   "cell_type": "code",
<<<<<<< HEAD
   "execution_count": 38,
   "id": "bcb6df22",
=======
   "execution_count": 90,
   "id": "92aeb93c",
>>>>>>> 3c44e2ade4b88123a31c9aa298436ff4371f8d5f
   "metadata": {},
   "outputs": [
    {
     "data": {
      "text/plain": [
       "Inches         0.068197\n",
       "Ram            0.743007\n",
       "Weight         0.210370\n",
       "Price          1.000000\n",
       "Touchscreen    0.191226\n",
       "Ips            0.252208\n",
       "X_res          0.556529\n",
       "Y_res          0.552809\n",
       "Name: Price, dtype: float64"
      ]
     },
<<<<<<< HEAD
     "execution_count": 38,
=======
     "execution_count": 90,
>>>>>>> 3c44e2ade4b88123a31c9aa298436ff4371f8d5f
     "metadata": {},
     "output_type": "execute_result"
    }
   ],
   "source": [
    "df.corr()['Price']"
   ]
  },
  {
   "cell_type": "code",
<<<<<<< HEAD
   "execution_count": 39,
   "id": "cf9f6e9d",
=======
   "execution_count": 91,
   "id": "a8c98783",
>>>>>>> 3c44e2ade4b88123a31c9aa298436ff4371f8d5f
   "metadata": {},
   "outputs": [],
   "source": [
    "df['ppi'] = (((df['X_res']**2) + (df['Y_res']**2))**0.5/df['Inches']).astype('float')"
   ]
  },
  {
   "cell_type": "code",
<<<<<<< HEAD
   "execution_count": 40,
   "id": "40e8072d",
=======
   "execution_count": 92,
   "id": "6831b19b",
>>>>>>> 3c44e2ade4b88123a31c9aa298436ff4371f8d5f
   "metadata": {},
   "outputs": [
    {
     "data": {
      "text/plain": [
       "Inches         0.068197\n",
       "Ram            0.743007\n",
       "Weight         0.210370\n",
       "Price          1.000000\n",
       "Touchscreen    0.191226\n",
       "Ips            0.252208\n",
       "X_res          0.556529\n",
       "Y_res          0.552809\n",
       "ppi            0.473487\n",
       "Name: Price, dtype: float64"
      ]
     },
<<<<<<< HEAD
     "execution_count": 40,
=======
     "execution_count": 92,
>>>>>>> 3c44e2ade4b88123a31c9aa298436ff4371f8d5f
     "metadata": {},
     "output_type": "execute_result"
    }
   ],
   "source": [
    "df.corr()['Price']"
   ]
  },
  {
   "cell_type": "code",
<<<<<<< HEAD
   "execution_count": 41,
   "id": "62fe5507",
=======
   "execution_count": 93,
   "id": "05ffef06",
>>>>>>> 3c44e2ade4b88123a31c9aa298436ff4371f8d5f
   "metadata": {},
   "outputs": [],
   "source": [
    "df.drop(columns=['ScreenResolution'],inplace=True)"
   ]
  },
  {
   "cell_type": "code",
<<<<<<< HEAD
   "execution_count": 42,
   "id": "5d9d8b65",
=======
   "execution_count": 94,
   "id": "37149d76",
>>>>>>> 3c44e2ade4b88123a31c9aa298436ff4371f8d5f
   "metadata": {},
   "outputs": [
    {
     "data": {
      "text/html": [
       "<div>\n",
       "<style scoped>\n",
       "    .dataframe tbody tr th:only-of-type {\n",
       "        vertical-align: middle;\n",
       "    }\n",
       "\n",
       "    .dataframe tbody tr th {\n",
       "        vertical-align: top;\n",
       "    }\n",
       "\n",
       "    .dataframe thead th {\n",
       "        text-align: right;\n",
       "    }\n",
       "</style>\n",
       "<table border=\"1\" class=\"dataframe\">\n",
       "  <thead>\n",
       "    <tr style=\"text-align: right;\">\n",
       "      <th></th>\n",
       "      <th>Company</th>\n",
       "      <th>TypeName</th>\n",
       "      <th>Inches</th>\n",
       "      <th>Cpu</th>\n",
       "      <th>Ram</th>\n",
       "      <th>Memory</th>\n",
       "      <th>Gpu</th>\n",
       "      <th>OpSys</th>\n",
       "      <th>Weight</th>\n",
       "      <th>Price</th>\n",
       "      <th>Touchscreen</th>\n",
       "      <th>Ips</th>\n",
       "      <th>X_res</th>\n",
       "      <th>Y_res</th>\n",
       "      <th>ppi</th>\n",
       "    </tr>\n",
       "  </thead>\n",
       "  <tbody>\n",
       "    <tr>\n",
       "      <th>0</th>\n",
       "      <td>Apple</td>\n",
       "      <td>Ultrabook</td>\n",
       "      <td>13.3</td>\n",
       "      <td>Intel Core i5 2.3GHz</td>\n",
       "      <td>8</td>\n",
       "      <td>128GB SSD</td>\n",
       "      <td>Intel Iris Plus Graphics 640</td>\n",
       "      <td>macOS</td>\n",
       "      <td>1.37</td>\n",
       "      <td>71378.6832</td>\n",
       "      <td>0</td>\n",
       "      <td>1</td>\n",
       "      <td>2560</td>\n",
       "      <td>1600</td>\n",
       "      <td>226.983005</td>\n",
       "    </tr>\n",
       "    <tr>\n",
       "      <th>1</th>\n",
       "      <td>Apple</td>\n",
       "      <td>Ultrabook</td>\n",
       "      <td>13.3</td>\n",
       "      <td>Intel Core i5 1.8GHz</td>\n",
       "      <td>8</td>\n",
       "      <td>128GB Flash Storage</td>\n",
       "      <td>Intel HD Graphics 6000</td>\n",
       "      <td>macOS</td>\n",
       "      <td>1.34</td>\n",
       "      <td>47895.5232</td>\n",
       "      <td>0</td>\n",
       "      <td>0</td>\n",
       "      <td>1440</td>\n",
       "      <td>900</td>\n",
       "      <td>127.677940</td>\n",
       "    </tr>\n",
       "    <tr>\n",
       "      <th>2</th>\n",
       "      <td>HP</td>\n",
       "      <td>Notebook</td>\n",
       "      <td>15.6</td>\n",
       "      <td>Intel Core i5 7200U 2.5GHz</td>\n",
       "      <td>8</td>\n",
       "      <td>256GB SSD</td>\n",
       "      <td>Intel HD Graphics 620</td>\n",
       "      <td>No OS</td>\n",
       "      <td>1.86</td>\n",
       "      <td>30636.0000</td>\n",
       "      <td>0</td>\n",
       "      <td>0</td>\n",
       "      <td>1920</td>\n",
       "      <td>1080</td>\n",
       "      <td>141.211998</td>\n",
       "    </tr>\n",
       "    <tr>\n",
       "      <th>3</th>\n",
       "      <td>Apple</td>\n",
       "      <td>Ultrabook</td>\n",
       "      <td>15.4</td>\n",
       "      <td>Intel Core i7 2.7GHz</td>\n",
       "      <td>16</td>\n",
       "      <td>512GB SSD</td>\n",
       "      <td>AMD Radeon Pro 455</td>\n",
       "      <td>macOS</td>\n",
       "      <td>1.83</td>\n",
       "      <td>135195.3360</td>\n",
       "      <td>0</td>\n",
       "      <td>1</td>\n",
       "      <td>2880</td>\n",
       "      <td>1800</td>\n",
       "      <td>220.534624</td>\n",
       "    </tr>\n",
       "    <tr>\n",
       "      <th>4</th>\n",
       "      <td>Apple</td>\n",
       "      <td>Ultrabook</td>\n",
       "      <td>13.3</td>\n",
       "      <td>Intel Core i5 3.1GHz</td>\n",
       "      <td>8</td>\n",
       "      <td>256GB SSD</td>\n",
       "      <td>Intel Iris Plus Graphics 650</td>\n",
       "      <td>macOS</td>\n",
       "      <td>1.37</td>\n",
       "      <td>96095.8080</td>\n",
       "      <td>0</td>\n",
       "      <td>1</td>\n",
       "      <td>2560</td>\n",
       "      <td>1600</td>\n",
       "      <td>226.983005</td>\n",
       "    </tr>\n",
       "  </tbody>\n",
       "</table>\n",
       "</div>"
      ],
      "text/plain": [
       "  Company   TypeName  Inches                         Cpu  Ram  \\\n",
       "0   Apple  Ultrabook    13.3        Intel Core i5 2.3GHz    8   \n",
       "1   Apple  Ultrabook    13.3        Intel Core i5 1.8GHz    8   \n",
       "2      HP   Notebook    15.6  Intel Core i5 7200U 2.5GHz    8   \n",
       "3   Apple  Ultrabook    15.4        Intel Core i7 2.7GHz   16   \n",
       "4   Apple  Ultrabook    13.3        Intel Core i5 3.1GHz    8   \n",
       "\n",
       "                Memory                           Gpu  OpSys  Weight  \\\n",
       "0            128GB SSD  Intel Iris Plus Graphics 640  macOS    1.37   \n",
       "1  128GB Flash Storage        Intel HD Graphics 6000  macOS    1.34   \n",
       "2            256GB SSD         Intel HD Graphics 620  No OS    1.86   \n",
       "3            512GB SSD            AMD Radeon Pro 455  macOS    1.83   \n",
       "4            256GB SSD  Intel Iris Plus Graphics 650  macOS    1.37   \n",
       "\n",
       "         Price  Touchscreen  Ips  X_res  Y_res         ppi  \n",
       "0   71378.6832            0    1   2560   1600  226.983005  \n",
       "1   47895.5232            0    0   1440    900  127.677940  \n",
       "2   30636.0000            0    0   1920   1080  141.211998  \n",
       "3  135195.3360            0    1   2880   1800  220.534624  \n",
       "4   96095.8080            0    1   2560   1600  226.983005  "
      ]
     },
<<<<<<< HEAD
     "execution_count": 42,
=======
     "execution_count": 94,
>>>>>>> 3c44e2ade4b88123a31c9aa298436ff4371f8d5f
     "metadata": {},
     "output_type": "execute_result"
    }
   ],
   "source": [
    "df.head()"
   ]
  },
  {
   "cell_type": "code",
<<<<<<< HEAD
   "execution_count": 43,
   "id": "3c0fda89",
=======
   "execution_count": 95,
   "id": "bdcb9112",
>>>>>>> 3c44e2ade4b88123a31c9aa298436ff4371f8d5f
   "metadata": {},
   "outputs": [],
   "source": [
    "df.drop(columns=['Inches','X_res','Y_res'],inplace=True)"
   ]
  },
  {
   "cell_type": "code",
<<<<<<< HEAD
   "execution_count": 44,
   "id": "e5c59f32",
=======
   "execution_count": 96,
   "id": "de0440f4",
>>>>>>> 3c44e2ade4b88123a31c9aa298436ff4371f8d5f
   "metadata": {},
   "outputs": [
    {
     "data": {
      "text/html": [
       "<div>\n",
       "<style scoped>\n",
       "    .dataframe tbody tr th:only-of-type {\n",
       "        vertical-align: middle;\n",
       "    }\n",
       "\n",
       "    .dataframe tbody tr th {\n",
       "        vertical-align: top;\n",
       "    }\n",
       "\n",
       "    .dataframe thead th {\n",
       "        text-align: right;\n",
       "    }\n",
       "</style>\n",
       "<table border=\"1\" class=\"dataframe\">\n",
       "  <thead>\n",
       "    <tr style=\"text-align: right;\">\n",
       "      <th></th>\n",
       "      <th>Company</th>\n",
       "      <th>TypeName</th>\n",
       "      <th>Cpu</th>\n",
       "      <th>Ram</th>\n",
       "      <th>Memory</th>\n",
       "      <th>Gpu</th>\n",
       "      <th>OpSys</th>\n",
       "      <th>Weight</th>\n",
       "      <th>Price</th>\n",
       "      <th>Touchscreen</th>\n",
       "      <th>Ips</th>\n",
       "      <th>ppi</th>\n",
       "    </tr>\n",
       "  </thead>\n",
       "  <tbody>\n",
       "    <tr>\n",
       "      <th>0</th>\n",
       "      <td>Apple</td>\n",
       "      <td>Ultrabook</td>\n",
       "      <td>Intel Core i5 2.3GHz</td>\n",
       "      <td>8</td>\n",
       "      <td>128GB SSD</td>\n",
       "      <td>Intel Iris Plus Graphics 640</td>\n",
       "      <td>macOS</td>\n",
       "      <td>1.37</td>\n",
       "      <td>71378.6832</td>\n",
       "      <td>0</td>\n",
       "      <td>1</td>\n",
       "      <td>226.983005</td>\n",
       "    </tr>\n",
       "    <tr>\n",
       "      <th>1</th>\n",
       "      <td>Apple</td>\n",
       "      <td>Ultrabook</td>\n",
       "      <td>Intel Core i5 1.8GHz</td>\n",
       "      <td>8</td>\n",
       "      <td>128GB Flash Storage</td>\n",
       "      <td>Intel HD Graphics 6000</td>\n",
       "      <td>macOS</td>\n",
       "      <td>1.34</td>\n",
       "      <td>47895.5232</td>\n",
       "      <td>0</td>\n",
       "      <td>0</td>\n",
       "      <td>127.677940</td>\n",
       "    </tr>\n",
       "    <tr>\n",
       "      <th>2</th>\n",
       "      <td>HP</td>\n",
       "      <td>Notebook</td>\n",
       "      <td>Intel Core i5 7200U 2.5GHz</td>\n",
       "      <td>8</td>\n",
       "      <td>256GB SSD</td>\n",
       "      <td>Intel HD Graphics 620</td>\n",
       "      <td>No OS</td>\n",
       "      <td>1.86</td>\n",
       "      <td>30636.0000</td>\n",
       "      <td>0</td>\n",
       "      <td>0</td>\n",
       "      <td>141.211998</td>\n",
       "    </tr>\n",
       "    <tr>\n",
       "      <th>3</th>\n",
       "      <td>Apple</td>\n",
       "      <td>Ultrabook</td>\n",
       "      <td>Intel Core i7 2.7GHz</td>\n",
       "      <td>16</td>\n",
       "      <td>512GB SSD</td>\n",
       "      <td>AMD Radeon Pro 455</td>\n",
       "      <td>macOS</td>\n",
       "      <td>1.83</td>\n",
       "      <td>135195.3360</td>\n",
       "      <td>0</td>\n",
       "      <td>1</td>\n",
       "      <td>220.534624</td>\n",
       "    </tr>\n",
       "    <tr>\n",
       "      <th>4</th>\n",
       "      <td>Apple</td>\n",
       "      <td>Ultrabook</td>\n",
       "      <td>Intel Core i5 3.1GHz</td>\n",
       "      <td>8</td>\n",
       "      <td>256GB SSD</td>\n",
       "      <td>Intel Iris Plus Graphics 650</td>\n",
       "      <td>macOS</td>\n",
       "      <td>1.37</td>\n",
       "      <td>96095.8080</td>\n",
       "      <td>0</td>\n",
       "      <td>1</td>\n",
       "      <td>226.983005</td>\n",
       "    </tr>\n",
       "  </tbody>\n",
       "</table>\n",
       "</div>"
      ],
      "text/plain": [
       "  Company   TypeName                         Cpu  Ram               Memory  \\\n",
       "0   Apple  Ultrabook        Intel Core i5 2.3GHz    8            128GB SSD   \n",
       "1   Apple  Ultrabook        Intel Core i5 1.8GHz    8  128GB Flash Storage   \n",
       "2      HP   Notebook  Intel Core i5 7200U 2.5GHz    8            256GB SSD   \n",
       "3   Apple  Ultrabook        Intel Core i7 2.7GHz   16            512GB SSD   \n",
       "4   Apple  Ultrabook        Intel Core i5 3.1GHz    8            256GB SSD   \n",
       "\n",
       "                            Gpu  OpSys  Weight        Price  Touchscreen  Ips  \\\n",
       "0  Intel Iris Plus Graphics 640  macOS    1.37   71378.6832            0    1   \n",
       "1        Intel HD Graphics 6000  macOS    1.34   47895.5232            0    0   \n",
       "2         Intel HD Graphics 620  No OS    1.86   30636.0000            0    0   \n",
       "3            AMD Radeon Pro 455  macOS    1.83  135195.3360            0    1   \n",
       "4  Intel Iris Plus Graphics 650  macOS    1.37   96095.8080            0    1   \n",
       "\n",
       "          ppi  \n",
       "0  226.983005  \n",
       "1  127.677940  \n",
       "2  141.211998  \n",
       "3  220.534624  \n",
       "4  226.983005  "
      ]
     },
<<<<<<< HEAD
     "execution_count": 44,
=======
     "execution_count": 96,
>>>>>>> 3c44e2ade4b88123a31c9aa298436ff4371f8d5f
     "metadata": {},
     "output_type": "execute_result"
    }
   ],
   "source": [
    "df.head()"
   ]
  },
  {
   "cell_type": "code",
<<<<<<< HEAD
   "execution_count": 45,
   "id": "64ce40af",
=======
   "execution_count": 97,
   "id": "08dc78a3",
>>>>>>> 3c44e2ade4b88123a31c9aa298436ff4371f8d5f
   "metadata": {},
   "outputs": [
    {
     "data": {
      "text/plain": [
       "Intel Core i5 7200U 2.5GHz       190\n",
       "Intel Core i7 7700HQ 2.8GHz      146\n",
       "Intel Core i7 7500U 2.7GHz       134\n",
       "Intel Core i7 8550U 1.8GHz        73\n",
       "Intel Core i5 8250U 1.6GHz        72\n",
       "                                ... \n",
       "Intel Core M M3-6Y30 0.9GHz        1\n",
       "AMD A9-Series 9420 2.9GHz          1\n",
       "Intel Core i3 6006U 2.2GHz         1\n",
       "AMD A6-Series 7310 2GHz            1\n",
       "Intel Xeon E3-1535M v6 3.1GHz      1\n",
       "Name: Cpu, Length: 118, dtype: int64"
      ]
     },
<<<<<<< HEAD
     "execution_count": 45,
=======
     "execution_count": 97,
>>>>>>> 3c44e2ade4b88123a31c9aa298436ff4371f8d5f
     "metadata": {},
     "output_type": "execute_result"
    }
   ],
   "source": [
    "df['Cpu'].value_counts()"
   ]
  },
  {
   "cell_type": "code",
<<<<<<< HEAD
   "execution_count": 46,
   "id": "845fdd4b",
=======
   "execution_count": 98,
   "id": "2e7d656b",
>>>>>>> 3c44e2ade4b88123a31c9aa298436ff4371f8d5f
   "metadata": {},
   "outputs": [],
   "source": [
    "df['Cpu Name'] = df['Cpu'].apply(lambda x:\" \".join(x.split()[0:3]))"
   ]
  },
  {
   "cell_type": "code",
<<<<<<< HEAD
   "execution_count": 47,
   "id": "45a8d695",
=======
   "execution_count": 99,
   "id": "59da5dee",
>>>>>>> 3c44e2ade4b88123a31c9aa298436ff4371f8d5f
   "metadata": {},
   "outputs": [
    {
     "data": {
      "text/html": [
       "<div>\n",
       "<style scoped>\n",
       "    .dataframe tbody tr th:only-of-type {\n",
       "        vertical-align: middle;\n",
       "    }\n",
       "\n",
       "    .dataframe tbody tr th {\n",
       "        vertical-align: top;\n",
       "    }\n",
       "\n",
       "    .dataframe thead th {\n",
       "        text-align: right;\n",
       "    }\n",
       "</style>\n",
       "<table border=\"1\" class=\"dataframe\">\n",
       "  <thead>\n",
       "    <tr style=\"text-align: right;\">\n",
       "      <th></th>\n",
       "      <th>Company</th>\n",
       "      <th>TypeName</th>\n",
       "      <th>Cpu</th>\n",
       "      <th>Ram</th>\n",
       "      <th>Memory</th>\n",
       "      <th>Gpu</th>\n",
       "      <th>OpSys</th>\n",
       "      <th>Weight</th>\n",
       "      <th>Price</th>\n",
       "      <th>Touchscreen</th>\n",
       "      <th>Ips</th>\n",
       "      <th>ppi</th>\n",
       "      <th>Cpu Name</th>\n",
       "    </tr>\n",
       "  </thead>\n",
       "  <tbody>\n",
       "    <tr>\n",
       "      <th>0</th>\n",
       "      <td>Apple</td>\n",
       "      <td>Ultrabook</td>\n",
       "      <td>Intel Core i5 2.3GHz</td>\n",
       "      <td>8</td>\n",
       "      <td>128GB SSD</td>\n",
       "      <td>Intel Iris Plus Graphics 640</td>\n",
       "      <td>macOS</td>\n",
       "      <td>1.37</td>\n",
       "      <td>71378.6832</td>\n",
       "      <td>0</td>\n",
       "      <td>1</td>\n",
       "      <td>226.983005</td>\n",
       "      <td>Intel Core i5</td>\n",
       "    </tr>\n",
       "    <tr>\n",
       "      <th>1</th>\n",
       "      <td>Apple</td>\n",
       "      <td>Ultrabook</td>\n",
       "      <td>Intel Core i5 1.8GHz</td>\n",
       "      <td>8</td>\n",
       "      <td>128GB Flash Storage</td>\n",
       "      <td>Intel HD Graphics 6000</td>\n",
       "      <td>macOS</td>\n",
       "      <td>1.34</td>\n",
       "      <td>47895.5232</td>\n",
       "      <td>0</td>\n",
       "      <td>0</td>\n",
       "      <td>127.677940</td>\n",
       "      <td>Intel Core i5</td>\n",
       "    </tr>\n",
       "    <tr>\n",
       "      <th>2</th>\n",
       "      <td>HP</td>\n",
       "      <td>Notebook</td>\n",
       "      <td>Intel Core i5 7200U 2.5GHz</td>\n",
       "      <td>8</td>\n",
       "      <td>256GB SSD</td>\n",
       "      <td>Intel HD Graphics 620</td>\n",
       "      <td>No OS</td>\n",
       "      <td>1.86</td>\n",
       "      <td>30636.0000</td>\n",
       "      <td>0</td>\n",
       "      <td>0</td>\n",
       "      <td>141.211998</td>\n",
       "      <td>Intel Core i5</td>\n",
       "    </tr>\n",
       "    <tr>\n",
       "      <th>3</th>\n",
       "      <td>Apple</td>\n",
       "      <td>Ultrabook</td>\n",
       "      <td>Intel Core i7 2.7GHz</td>\n",
       "      <td>16</td>\n",
       "      <td>512GB SSD</td>\n",
       "      <td>AMD Radeon Pro 455</td>\n",
       "      <td>macOS</td>\n",
       "      <td>1.83</td>\n",
       "      <td>135195.3360</td>\n",
       "      <td>0</td>\n",
       "      <td>1</td>\n",
       "      <td>220.534624</td>\n",
       "      <td>Intel Core i7</td>\n",
       "    </tr>\n",
       "    <tr>\n",
       "      <th>4</th>\n",
       "      <td>Apple</td>\n",
       "      <td>Ultrabook</td>\n",
       "      <td>Intel Core i5 3.1GHz</td>\n",
       "      <td>8</td>\n",
       "      <td>256GB SSD</td>\n",
       "      <td>Intel Iris Plus Graphics 650</td>\n",
       "      <td>macOS</td>\n",
       "      <td>1.37</td>\n",
       "      <td>96095.8080</td>\n",
       "      <td>0</td>\n",
       "      <td>1</td>\n",
       "      <td>226.983005</td>\n",
       "      <td>Intel Core i5</td>\n",
       "    </tr>\n",
       "  </tbody>\n",
       "</table>\n",
       "</div>"
      ],
      "text/plain": [
       "  Company   TypeName                         Cpu  Ram               Memory  \\\n",
       "0   Apple  Ultrabook        Intel Core i5 2.3GHz    8            128GB SSD   \n",
       "1   Apple  Ultrabook        Intel Core i5 1.8GHz    8  128GB Flash Storage   \n",
       "2      HP   Notebook  Intel Core i5 7200U 2.5GHz    8            256GB SSD   \n",
       "3   Apple  Ultrabook        Intel Core i7 2.7GHz   16            512GB SSD   \n",
       "4   Apple  Ultrabook        Intel Core i5 3.1GHz    8            256GB SSD   \n",
       "\n",
       "                            Gpu  OpSys  Weight        Price  Touchscreen  Ips  \\\n",
       "0  Intel Iris Plus Graphics 640  macOS    1.37   71378.6832            0    1   \n",
       "1        Intel HD Graphics 6000  macOS    1.34   47895.5232            0    0   \n",
       "2         Intel HD Graphics 620  No OS    1.86   30636.0000            0    0   \n",
       "3            AMD Radeon Pro 455  macOS    1.83  135195.3360            0    1   \n",
       "4  Intel Iris Plus Graphics 650  macOS    1.37   96095.8080            0    1   \n",
       "\n",
       "          ppi       Cpu Name  \n",
       "0  226.983005  Intel Core i5  \n",
       "1  127.677940  Intel Core i5  \n",
       "2  141.211998  Intel Core i5  \n",
       "3  220.534624  Intel Core i7  \n",
       "4  226.983005  Intel Core i5  "
      ]
     },
<<<<<<< HEAD
     "execution_count": 47,
=======
     "execution_count": 99,
>>>>>>> 3c44e2ade4b88123a31c9aa298436ff4371f8d5f
     "metadata": {},
     "output_type": "execute_result"
    }
   ],
   "source": [
    "df.head()"
   ]
  },
  {
   "cell_type": "code",
<<<<<<< HEAD
   "execution_count": 48,
   "id": "0a8549b9",
=======
   "execution_count": 100,
   "id": "d401439c",
>>>>>>> 3c44e2ade4b88123a31c9aa298436ff4371f8d5f
   "metadata": {},
   "outputs": [],
   "source": [
    "def fetch_processor(text):\n",
    "    if text == 'Intel Core i7' or text == 'Intel Core i5' or text == 'Intel Core i3':\n",
    "        return text\n",
    "    else:\n",
    "        if text.split()[0] == 'Intel':\n",
    "            return 'Other Intel Processor'\n",
    "        else:\n",
    "            return 'AMD Processor'"
   ]
  },
  {
   "cell_type": "code",
<<<<<<< HEAD
   "execution_count": 49,
   "id": "45f3a8cd",
=======
   "execution_count": 101,
   "id": "db55bd37",
>>>>>>> 3c44e2ade4b88123a31c9aa298436ff4371f8d5f
   "metadata": {},
   "outputs": [],
   "source": [
    "df['Cpu brand'] = df['Cpu Name'].apply(fetch_processor)"
   ]
  },
  {
   "cell_type": "code",
<<<<<<< HEAD
   "execution_count": 50,
   "id": "2f02e757",
=======
   "execution_count": 102,
   "id": "766be23b",
>>>>>>> 3c44e2ade4b88123a31c9aa298436ff4371f8d5f
   "metadata": {},
   "outputs": [
    {
     "data": {
      "text/html": [
       "<div>\n",
       "<style scoped>\n",
       "    .dataframe tbody tr th:only-of-type {\n",
       "        vertical-align: middle;\n",
       "    }\n",
       "\n",
       "    .dataframe tbody tr th {\n",
       "        vertical-align: top;\n",
       "    }\n",
       "\n",
       "    .dataframe thead th {\n",
       "        text-align: right;\n",
       "    }\n",
       "</style>\n",
       "<table border=\"1\" class=\"dataframe\">\n",
       "  <thead>\n",
       "    <tr style=\"text-align: right;\">\n",
       "      <th></th>\n",
       "      <th>Company</th>\n",
       "      <th>TypeName</th>\n",
       "      <th>Cpu</th>\n",
       "      <th>Ram</th>\n",
       "      <th>Memory</th>\n",
       "      <th>Gpu</th>\n",
       "      <th>OpSys</th>\n",
       "      <th>Weight</th>\n",
       "      <th>Price</th>\n",
       "      <th>Touchscreen</th>\n",
       "      <th>Ips</th>\n",
       "      <th>ppi</th>\n",
       "      <th>Cpu Name</th>\n",
       "      <th>Cpu brand</th>\n",
       "    </tr>\n",
       "  </thead>\n",
       "  <tbody>\n",
       "    <tr>\n",
       "      <th>0</th>\n",
       "      <td>Apple</td>\n",
       "      <td>Ultrabook</td>\n",
       "      <td>Intel Core i5 2.3GHz</td>\n",
       "      <td>8</td>\n",
       "      <td>128GB SSD</td>\n",
       "      <td>Intel Iris Plus Graphics 640</td>\n",
       "      <td>macOS</td>\n",
       "      <td>1.37</td>\n",
       "      <td>71378.6832</td>\n",
       "      <td>0</td>\n",
       "      <td>1</td>\n",
       "      <td>226.983005</td>\n",
       "      <td>Intel Core i5</td>\n",
       "      <td>Intel Core i5</td>\n",
       "    </tr>\n",
       "    <tr>\n",
       "      <th>1</th>\n",
       "      <td>Apple</td>\n",
       "      <td>Ultrabook</td>\n",
       "      <td>Intel Core i5 1.8GHz</td>\n",
       "      <td>8</td>\n",
       "      <td>128GB Flash Storage</td>\n",
       "      <td>Intel HD Graphics 6000</td>\n",
       "      <td>macOS</td>\n",
       "      <td>1.34</td>\n",
       "      <td>47895.5232</td>\n",
       "      <td>0</td>\n",
       "      <td>0</td>\n",
       "      <td>127.677940</td>\n",
       "      <td>Intel Core i5</td>\n",
       "      <td>Intel Core i5</td>\n",
       "    </tr>\n",
       "    <tr>\n",
       "      <th>2</th>\n",
       "      <td>HP</td>\n",
       "      <td>Notebook</td>\n",
       "      <td>Intel Core i5 7200U 2.5GHz</td>\n",
       "      <td>8</td>\n",
       "      <td>256GB SSD</td>\n",
       "      <td>Intel HD Graphics 620</td>\n",
       "      <td>No OS</td>\n",
       "      <td>1.86</td>\n",
       "      <td>30636.0000</td>\n",
       "      <td>0</td>\n",
       "      <td>0</td>\n",
       "      <td>141.211998</td>\n",
       "      <td>Intel Core i5</td>\n",
       "      <td>Intel Core i5</td>\n",
       "    </tr>\n",
       "    <tr>\n",
       "      <th>3</th>\n",
       "      <td>Apple</td>\n",
       "      <td>Ultrabook</td>\n",
       "      <td>Intel Core i7 2.7GHz</td>\n",
       "      <td>16</td>\n",
       "      <td>512GB SSD</td>\n",
       "      <td>AMD Radeon Pro 455</td>\n",
       "      <td>macOS</td>\n",
       "      <td>1.83</td>\n",
       "      <td>135195.3360</td>\n",
       "      <td>0</td>\n",
       "      <td>1</td>\n",
       "      <td>220.534624</td>\n",
       "      <td>Intel Core i7</td>\n",
       "      <td>Intel Core i7</td>\n",
       "    </tr>\n",
       "    <tr>\n",
       "      <th>4</th>\n",
       "      <td>Apple</td>\n",
       "      <td>Ultrabook</td>\n",
       "      <td>Intel Core i5 3.1GHz</td>\n",
       "      <td>8</td>\n",
       "      <td>256GB SSD</td>\n",
       "      <td>Intel Iris Plus Graphics 650</td>\n",
       "      <td>macOS</td>\n",
       "      <td>1.37</td>\n",
       "      <td>96095.8080</td>\n",
       "      <td>0</td>\n",
       "      <td>1</td>\n",
       "      <td>226.983005</td>\n",
       "      <td>Intel Core i5</td>\n",
       "      <td>Intel Core i5</td>\n",
       "    </tr>\n",
       "  </tbody>\n",
       "</table>\n",
       "</div>"
      ],
      "text/plain": [
       "  Company   TypeName                         Cpu  Ram               Memory  \\\n",
       "0   Apple  Ultrabook        Intel Core i5 2.3GHz    8            128GB SSD   \n",
       "1   Apple  Ultrabook        Intel Core i5 1.8GHz    8  128GB Flash Storage   \n",
       "2      HP   Notebook  Intel Core i5 7200U 2.5GHz    8            256GB SSD   \n",
       "3   Apple  Ultrabook        Intel Core i7 2.7GHz   16            512GB SSD   \n",
       "4   Apple  Ultrabook        Intel Core i5 3.1GHz    8            256GB SSD   \n",
       "\n",
       "                            Gpu  OpSys  Weight        Price  Touchscreen  Ips  \\\n",
       "0  Intel Iris Plus Graphics 640  macOS    1.37   71378.6832            0    1   \n",
       "1        Intel HD Graphics 6000  macOS    1.34   47895.5232            0    0   \n",
       "2         Intel HD Graphics 620  No OS    1.86   30636.0000            0    0   \n",
       "3            AMD Radeon Pro 455  macOS    1.83  135195.3360            0    1   \n",
       "4  Intel Iris Plus Graphics 650  macOS    1.37   96095.8080            0    1   \n",
       "\n",
       "          ppi       Cpu Name      Cpu brand  \n",
       "0  226.983005  Intel Core i5  Intel Core i5  \n",
       "1  127.677940  Intel Core i5  Intel Core i5  \n",
       "2  141.211998  Intel Core i5  Intel Core i5  \n",
       "3  220.534624  Intel Core i7  Intel Core i7  \n",
       "4  226.983005  Intel Core i5  Intel Core i5  "
      ]
     },
<<<<<<< HEAD
     "execution_count": 50,
=======
     "execution_count": 102,
>>>>>>> 3c44e2ade4b88123a31c9aa298436ff4371f8d5f
     "metadata": {},
     "output_type": "execute_result"
    }
   ],
   "source": [
    "df.head()"
   ]
  },
  {
   "cell_type": "code",
<<<<<<< HEAD
   "execution_count": 51,
   "id": "8fa8edbf",
=======
   "execution_count": 103,
   "id": "7fe034df",
>>>>>>> 3c44e2ade4b88123a31c9aa298436ff4371f8d5f
   "metadata": {},
   "outputs": [
    {
     "data": {
      "text/plain": [
       "<AxesSubplot:>"
      ]
     },
<<<<<<< HEAD
     "execution_count": 51,
=======
     "execution_count": 103,
>>>>>>> 3c44e2ade4b88123a31c9aa298436ff4371f8d5f
     "metadata": {},
     "output_type": "execute_result"
    },
    {
     "data": {
      "image/png": "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\n",
      "text/plain": [
       "<Figure size 432x288 with 1 Axes>"
      ]
     },
     "metadata": {
      "needs_background": "light"
     },
     "output_type": "display_data"
    }
   ],
   "source": [
    "df['Cpu brand'].value_counts().plot(kind='bar')"
   ]
  },
  {
   "cell_type": "code",
<<<<<<< HEAD
   "execution_count": 52,
   "id": "a2c8c430",
=======
   "execution_count": 104,
   "id": "0f984721",
>>>>>>> 3c44e2ade4b88123a31c9aa298436ff4371f8d5f
   "metadata": {},
   "outputs": [
    {
     "data": {
<<<<<<< HEAD
      "image/png": "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\n",
=======
      "image/png": "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\n",
>>>>>>> 3c44e2ade4b88123a31c9aa298436ff4371f8d5f
      "text/plain": [
       "<Figure size 432x288 with 1 Axes>"
      ]
     },
     "metadata": {
      "needs_background": "light"
     },
     "output_type": "display_data"
    }
   ],
   "source": [
    "sns.barplot(x=df['Cpu brand'],y=df['Price'])\n",
    "plt.xticks(rotation='vertical')\n",
    "plt.show()"
   ]
  },
  {
   "cell_type": "code",
<<<<<<< HEAD
   "execution_count": 53,
   "id": "b59bac4c",
   "metadata": {},
   "outputs": [],
   "source": [
    "df.drop(columns=['Cpu','Cpu Name'],inplace=True)"
   ]
  },
  {
   "cell_type": "code",
   "execution_count": 54,
   "id": "7e26f23b",
   "metadata": {},
   "outputs": [
    {
     "data": {
      "text/html": [
       "<div>\n",
       "<style scoped>\n",
       "    .dataframe tbody tr th:only-of-type {\n",
       "        vertical-align: middle;\n",
       "    }\n",
       "\n",
       "    .dataframe tbody tr th {\n",
       "        vertical-align: top;\n",
       "    }\n",
       "\n",
       "    .dataframe thead th {\n",
       "        text-align: right;\n",
       "    }\n",
       "</style>\n",
       "<table border=\"1\" class=\"dataframe\">\n",
       "  <thead>\n",
       "    <tr style=\"text-align: right;\">\n",
       "      <th></th>\n",
       "      <th>Company</th>\n",
       "      <th>TypeName</th>\n",
       "      <th>Ram</th>\n",
       "      <th>Memory</th>\n",
       "      <th>Gpu</th>\n",
       "      <th>OpSys</th>\n",
       "      <th>Weight</th>\n",
       "      <th>Price</th>\n",
       "      <th>Touchscreen</th>\n",
       "      <th>Ips</th>\n",
       "      <th>ppi</th>\n",
       "      <th>Cpu brand</th>\n",
       "    </tr>\n",
       "  </thead>\n",
       "  <tbody>\n",
       "    <tr>\n",
       "      <th>0</th>\n",
       "      <td>Apple</td>\n",
       "      <td>Ultrabook</td>\n",
       "      <td>8</td>\n",
       "      <td>128GB SSD</td>\n",
       "      <td>Intel Iris Plus Graphics 640</td>\n",
       "      <td>macOS</td>\n",
       "      <td>1.37</td>\n",
       "      <td>71378.6832</td>\n",
       "      <td>0</td>\n",
       "      <td>1</td>\n",
       "      <td>226.983005</td>\n",
       "      <td>Intel Core i5</td>\n",
       "    </tr>\n",
       "    <tr>\n",
       "      <th>1</th>\n",
       "      <td>Apple</td>\n",
       "      <td>Ultrabook</td>\n",
       "      <td>8</td>\n",
       "      <td>128GB Flash Storage</td>\n",
       "      <td>Intel HD Graphics 6000</td>\n",
       "      <td>macOS</td>\n",
       "      <td>1.34</td>\n",
       "      <td>47895.5232</td>\n",
       "      <td>0</td>\n",
       "      <td>0</td>\n",
       "      <td>127.677940</td>\n",
       "      <td>Intel Core i5</td>\n",
       "    </tr>\n",
       "    <tr>\n",
       "      <th>2</th>\n",
       "      <td>HP</td>\n",
       "      <td>Notebook</td>\n",
       "      <td>8</td>\n",
       "      <td>256GB SSD</td>\n",
       "      <td>Intel HD Graphics 620</td>\n",
       "      <td>No OS</td>\n",
       "      <td>1.86</td>\n",
       "      <td>30636.0000</td>\n",
       "      <td>0</td>\n",
       "      <td>0</td>\n",
       "      <td>141.211998</td>\n",
       "      <td>Intel Core i5</td>\n",
       "    </tr>\n",
       "    <tr>\n",
       "      <th>3</th>\n",
       "      <td>Apple</td>\n",
       "      <td>Ultrabook</td>\n",
       "      <td>16</td>\n",
       "      <td>512GB SSD</td>\n",
       "      <td>AMD Radeon Pro 455</td>\n",
       "      <td>macOS</td>\n",
       "      <td>1.83</td>\n",
       "      <td>135195.3360</td>\n",
       "      <td>0</td>\n",
       "      <td>1</td>\n",
       "      <td>220.534624</td>\n",
       "      <td>Intel Core i7</td>\n",
       "    </tr>\n",
       "    <tr>\n",
       "      <th>4</th>\n",
       "      <td>Apple</td>\n",
       "      <td>Ultrabook</td>\n",
       "      <td>8</td>\n",
       "      <td>256GB SSD</td>\n",
       "      <td>Intel Iris Plus Graphics 650</td>\n",
       "      <td>macOS</td>\n",
       "      <td>1.37</td>\n",
       "      <td>96095.8080</td>\n",
       "      <td>0</td>\n",
       "      <td>1</td>\n",
       "      <td>226.983005</td>\n",
       "      <td>Intel Core i5</td>\n",
       "    </tr>\n",
       "  </tbody>\n",
       "</table>\n",
       "</div>"
      ],
      "text/plain": [
       "  Company   TypeName  Ram               Memory                           Gpu  \\\n",
       "0   Apple  Ultrabook    8            128GB SSD  Intel Iris Plus Graphics 640   \n",
       "1   Apple  Ultrabook    8  128GB Flash Storage        Intel HD Graphics 6000   \n",
       "2      HP   Notebook    8            256GB SSD         Intel HD Graphics 620   \n",
       "3   Apple  Ultrabook   16            512GB SSD            AMD Radeon Pro 455   \n",
       "4   Apple  Ultrabook    8            256GB SSD  Intel Iris Plus Graphics 650   \n",
       "\n",
       "   OpSys  Weight        Price  Touchscreen  Ips         ppi      Cpu brand  \n",
       "0  macOS    1.37   71378.6832            0    1  226.983005  Intel Core i5  \n",
       "1  macOS    1.34   47895.5232            0    0  127.677940  Intel Core i5  \n",
       "2  No OS    1.86   30636.0000            0    0  141.211998  Intel Core i5  \n",
       "3  macOS    1.83  135195.3360            0    1  220.534624  Intel Core i7  \n",
       "4  macOS    1.37   96095.8080            0    1  226.983005  Intel Core i5  "
      ]
     },
     "execution_count": 54,
     "metadata": {},
     "output_type": "execute_result"
    }
   ],
   "source": [
    "df.head()"
   ]
  },
  {
   "cell_type": "code",
   "execution_count": 55,
   "id": "f42686f2",
   "metadata": {},
   "outputs": [
    {
     "data": {
      "text/plain": [
       "<AxesSubplot:>"
      ]
     },
     "execution_count": 55,
     "metadata": {},
     "output_type": "execute_result"
    },
    {
     "data": {
      "image/png": "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\n",
      "text/plain": [
       "<Figure size 432x288 with 1 Axes>"
      ]
     },
     "metadata": {
      "needs_background": "light"
     },
     "output_type": "display_data"
    }
   ],
   "source": [
    "df['Ram'].value_counts().plot(kind='bar')"
   ]
  },
  {
   "cell_type": "code",
   "execution_count": 56,
   "id": "8472a4e6",
   "metadata": {},
   "outputs": [
    {
     "data": {
      "image/png": "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\n",
      "text/plain": [
       "<Figure size 432x288 with 1 Axes>"
      ]
     },
     "metadata": {
      "needs_background": "light"
     },
     "output_type": "display_data"
    }
   ],
   "source": [
    "sns.barplot(x=df['Ram'],y=df['Price'])\n",
    "plt.xticks(rotation='vertical')\n",
    "plt.show()"
   ]
  },
  {
   "cell_type": "code",
   "execution_count": 57,
   "id": "544aaafc",
   "metadata": {},
   "outputs": [
    {
     "data": {
      "text/plain": [
       "256GB SSD                        412\n",
       "1TB HDD                          223\n",
       "500GB HDD                        132\n",
       "512GB SSD                        118\n",
       "128GB SSD +  1TB HDD              94\n",
       "128GB SSD                         76\n",
       "256GB SSD +  1TB HDD              73\n",
       "32GB Flash Storage                38\n",
       "2TB HDD                           16\n",
       "64GB Flash Storage                15\n",
       "512GB SSD +  1TB HDD              14\n",
       "1TB SSD                           14\n",
       "256GB SSD +  2TB HDD              10\n",
       "1.0TB Hybrid                       9\n",
       "256GB Flash Storage                8\n",
       "16GB Flash Storage                 7\n",
       "32GB SSD                           6\n",
       "180GB SSD                          5\n",
       "128GB Flash Storage                4\n",
       "512GB SSD +  2TB HDD               3\n",
       "16GB SSD                           3\n",
       "512GB Flash Storage                2\n",
       "1TB SSD +  1TB HDD                 2\n",
       "256GB SSD +  500GB HDD             2\n",
       "128GB SSD +  2TB HDD               2\n",
       "256GB SSD +  256GB SSD             2\n",
       "512GB SSD +  256GB SSD             1\n",
       "512GB SSD +  512GB SSD             1\n",
       "64GB Flash Storage +  1TB HDD      1\n",
       "1TB HDD +  1TB HDD                 1\n",
       "32GB HDD                           1\n",
       "64GB SSD                           1\n",
       "128GB HDD                          1\n",
       "240GB SSD                          1\n",
       "8GB SSD                            1\n",
       "508GB Hybrid                       1\n",
       "1.0TB HDD                          1\n",
       "512GB SSD +  1.0TB Hybrid          1\n",
       "256GB SSD +  1.0TB Hybrid          1\n",
       "Name: Memory, dtype: int64"
      ]
     },
     "execution_count": 57,
     "metadata": {},
     "output_type": "execute_result"
    }
   ],
   "source": [
    "df['Memory'].value_counts()"
   ]
  },
  {
   "cell_type": "code",
   "execution_count": 58,
   "id": "629c9c60",
   "metadata": {},
   "outputs": [
    {
     "name": "stderr",
     "output_type": "stream",
     "text": [
      "C:\\Users\\SARVMBH\\AppData\\Local\\Temp\\ipykernel_3208\\4023190604.py:16: FutureWarning: The default value of regex will change from True to False in a future version.\n",
      "  df['first'] = df['first'].str.replace(r'\\D', '')\n",
      "C:\\Users\\SARVMBH\\AppData\\Local\\Temp\\ipykernel_3208\\4023190604.py:25: FutureWarning: The default value of regex will change from True to False in a future version.\n",
      "  df['second'] = df['second'].str.replace(r'\\D', '')\n"
     ]
    }
   ],
   "source": [
    "df['Memory'] = df['Memory'].astype(str).replace('\\.0', '', regex=True)\n",
    "df[\"Memory\"] = df[\"Memory\"].str.replace('GB', '')\n",
    "df[\"Memory\"] = df[\"Memory\"].str.replace('TB', '000')\n",
    "new = df[\"Memory\"].str.split(\"+\", n = 1, expand = True)\n",
    "\n",
    "df[\"first\"]= new[0]\n",
    "df[\"first\"]=df[\"first\"].str.strip()\n",
    "\n",
    "df[\"second\"]= new[1]\n",
    "\n",
    "df[\"Layer1HDD\"] = df[\"first\"].apply(lambda x: 1 if \"HDD\" in x else 0)\n",
    "df[\"Layer1SSD\"] = df[\"first\"].apply(lambda x: 1 if \"SSD\" in x else 0)\n",
    "df[\"Layer1Hybrid\"] = df[\"first\"].apply(lambda x: 1 if \"Hybrid\" in x else 0)\n",
    "df[\"Layer1Flash_Storage\"] = df[\"first\"].apply(lambda x: 1 if \"Flash Storage\" in x else 0)\n",
    "\n",
    "df['first'] = df['first'].str.replace(r'\\D', '')\n",
    "\n",
    "df[\"second\"].fillna(\"0\", inplace = True)\n",
    "\n",
    "df[\"Layer2HDD\"] = df[\"second\"].apply(lambda x: 1 if \"HDD\" in x else 0)\n",
    "df[\"Layer2SSD\"] = df[\"second\"].apply(lambda x: 1 if \"SSD\" in x else 0)\n",
    "df[\"Layer2Hybrid\"] = df[\"second\"].apply(lambda x: 1 if \"Hybrid\" in x else 0)\n",
    "df[\"Layer2Flash_Storage\"] = df[\"second\"].apply(lambda x: 1 if \"Flash Storage\" in x else 0)\n",
    "\n",
    "df['second'] = df['second'].str.replace(r'\\D', '')\n",
    "\n",
    "df[\"first\"] = df[\"first\"].astype(int)\n",
    "df[\"second\"] = df[\"second\"].astype(int)\n",
    "\n",
    "df[\"HDD\"]=(df[\"first\"]*df[\"Layer1HDD\"]+df[\"second\"]*df[\"Layer2HDD\"])\n",
    "df[\"SSD\"]=(df[\"first\"]*df[\"Layer1SSD\"]+df[\"second\"]*df[\"Layer2SSD\"])\n",
    "df[\"Hybrid\"]=(df[\"first\"]*df[\"Layer1Hybrid\"]+df[\"second\"]*df[\"Layer2Hybrid\"])\n",
    "df[\"Flash_Storage\"]=(df[\"first\"]*df[\"Layer1Flash_Storage\"]+df[\"second\"]*df[\"Layer2Flash_Storage\"])\n",
    "\n",
    "df.drop(columns=['first', 'second', 'Layer1HDD', 'Layer1SSD', 'Layer1Hybrid',\n",
    "       'Layer1Flash_Storage', 'Layer2HDD', 'Layer2SSD', 'Layer2Hybrid',\n",
    "       'Layer2Flash_Storage'],inplace=True)"
   ]
  },
  {
   "cell_type": "code",
   "execution_count": 59,
   "id": "8a5ec3e6",
   "metadata": {},
   "outputs": [
    {
     "data": {
      "text/html": [
       "<div>\n",
       "<style scoped>\n",
       "    .dataframe tbody tr th:only-of-type {\n",
       "        vertical-align: middle;\n",
       "    }\n",
       "\n",
       "    .dataframe tbody tr th {\n",
       "        vertical-align: top;\n",
       "    }\n",
       "\n",
       "    .dataframe thead th {\n",
       "        text-align: right;\n",
       "    }\n",
       "</style>\n",
       "<table border=\"1\" class=\"dataframe\">\n",
       "  <thead>\n",
       "    <tr style=\"text-align: right;\">\n",
       "      <th></th>\n",
       "      <th>Company</th>\n",
       "      <th>TypeName</th>\n",
       "      <th>Ram</th>\n",
       "      <th>Memory</th>\n",
       "      <th>Gpu</th>\n",
       "      <th>OpSys</th>\n",
       "      <th>Weight</th>\n",
       "      <th>Price</th>\n",
       "      <th>Touchscreen</th>\n",
       "      <th>Ips</th>\n",
       "      <th>ppi</th>\n",
       "      <th>Cpu brand</th>\n",
       "      <th>HDD</th>\n",
       "      <th>SSD</th>\n",
       "      <th>Hybrid</th>\n",
       "      <th>Flash_Storage</th>\n",
       "    </tr>\n",
       "  </thead>\n",
       "  <tbody>\n",
       "    <tr>\n",
       "      <th>1254</th>\n",
       "      <td>Dell</td>\n",
       "      <td>Notebook</td>\n",
       "      <td>4</td>\n",
       "      <td>500 HDD</td>\n",
       "      <td>Intel HD Graphics</td>\n",
       "      <td>Windows 10</td>\n",
       "      <td>2.20</td>\n",
       "      <td>23655.7872</td>\n",
       "      <td>0</td>\n",
       "      <td>0</td>\n",
       "      <td>100.454670</td>\n",
       "      <td>Other Intel Processor</td>\n",
       "      <td>500</td>\n",
       "      <td>0</td>\n",
       "      <td>0</td>\n",
       "      <td>0</td>\n",
       "    </tr>\n",
       "    <tr>\n",
       "      <th>1121</th>\n",
       "      <td>HP</td>\n",
       "      <td>Notebook</td>\n",
       "      <td>8</td>\n",
       "      <td>256 SSD</td>\n",
       "      <td>Intel HD Graphics 520</td>\n",
       "      <td>Windows 10</td>\n",
       "      <td>1.16</td>\n",
       "      <td>90043.2000</td>\n",
       "      <td>0</td>\n",
       "      <td>0</td>\n",
       "      <td>165.632118</td>\n",
       "      <td>Intel Core i5</td>\n",
       "      <td>0</td>\n",
       "      <td>256</td>\n",
       "      <td>0</td>\n",
       "      <td>0</td>\n",
       "    </tr>\n",
       "    <tr>\n",
       "      <th>113</th>\n",
       "      <td>HP</td>\n",
       "      <td>Notebook</td>\n",
       "      <td>4</td>\n",
       "      <td>500 HDD</td>\n",
       "      <td>Intel UHD Graphics 620</td>\n",
       "      <td>Windows 10</td>\n",
       "      <td>1.63</td>\n",
       "      <td>38468.1600</td>\n",
       "      <td>0</td>\n",
       "      <td>1</td>\n",
       "      <td>111.935204</td>\n",
       "      <td>Intel Core i5</td>\n",
       "      <td>500</td>\n",
       "      <td>0</td>\n",
       "      <td>0</td>\n",
       "      <td>0</td>\n",
       "    </tr>\n",
       "    <tr>\n",
       "      <th>78</th>\n",
       "      <td>Acer</td>\n",
       "      <td>Notebook</td>\n",
       "      <td>4</td>\n",
       "      <td>1000 HDD</td>\n",
       "      <td>Nvidia GeForce MX130</td>\n",
       "      <td>Windows 10</td>\n",
       "      <td>2.20</td>\n",
       "      <td>28238.4000</td>\n",
       "      <td>0</td>\n",
       "      <td>0</td>\n",
       "      <td>141.211998</td>\n",
       "      <td>Intel Core i3</td>\n",
       "      <td>1000</td>\n",
       "      <td>0</td>\n",
       "      <td>0</td>\n",
       "      <td>0</td>\n",
       "    </tr>\n",
       "    <tr>\n",
       "      <th>882</th>\n",
       "      <td>Asus</td>\n",
       "      <td>Notebook</td>\n",
       "      <td>4</td>\n",
       "      <td>32 Flash Storage</td>\n",
       "      <td>Intel HD Graphics 500</td>\n",
       "      <td>Windows 10</td>\n",
       "      <td>1.65</td>\n",
       "      <td>18541.4400</td>\n",
       "      <td>0</td>\n",
       "      <td>0</td>\n",
       "      <td>111.141337</td>\n",
       "      <td>Other Intel Processor</td>\n",
       "      <td>0</td>\n",
       "      <td>0</td>\n",
       "      <td>0</td>\n",
       "      <td>32</td>\n",
       "    </tr>\n",
       "  </tbody>\n",
       "</table>\n",
       "</div>"
      ],
      "text/plain": [
       "     Company  TypeName  Ram            Memory                     Gpu  \\\n",
       "1254    Dell  Notebook    4           500 HDD       Intel HD Graphics   \n",
       "1121      HP  Notebook    8           256 SSD   Intel HD Graphics 520   \n",
       "113       HP  Notebook    4           500 HDD  Intel UHD Graphics 620   \n",
       "78      Acer  Notebook    4          1000 HDD    Nvidia GeForce MX130   \n",
       "882     Asus  Notebook    4  32 Flash Storage   Intel HD Graphics 500   \n",
       "\n",
       "           OpSys  Weight       Price  Touchscreen  Ips         ppi  \\\n",
       "1254  Windows 10    2.20  23655.7872            0    0  100.454670   \n",
       "1121  Windows 10    1.16  90043.2000            0    0  165.632118   \n",
       "113   Windows 10    1.63  38468.1600            0    1  111.935204   \n",
       "78    Windows 10    2.20  28238.4000            0    0  141.211998   \n",
       "882   Windows 10    1.65  18541.4400            0    0  111.141337   \n",
       "\n",
       "                  Cpu brand   HDD  SSD  Hybrid  Flash_Storage  \n",
       "1254  Other Intel Processor   500    0       0              0  \n",
       "1121          Intel Core i5     0  256       0              0  \n",
       "113           Intel Core i5   500    0       0              0  \n",
       "78            Intel Core i3  1000    0       0              0  \n",
       "882   Other Intel Processor     0    0       0             32  "
      ]
     },
     "execution_count": 59,
     "metadata": {},
     "output_type": "execute_result"
    }
   ],
   "source": [
    "df.sample(5)\n"
   ]
  },
  {
   "cell_type": "code",
   "execution_count": 60,
   "id": "3efff257",
   "metadata": {},
   "outputs": [],
   "source": [
    "df.drop(columns=['Memory'],inplace=True)"
   ]
  },
  {
   "cell_type": "code",
   "execution_count": 61,
   "id": "1fbc7555",
   "metadata": {},
   "outputs": [
    {
     "data": {
      "text/html": [
       "<div>\n",
       "<style scoped>\n",
       "    .dataframe tbody tr th:only-of-type {\n",
       "        vertical-align: middle;\n",
       "    }\n",
       "\n",
       "    .dataframe tbody tr th {\n",
       "        vertical-align: top;\n",
       "    }\n",
       "\n",
       "    .dataframe thead th {\n",
       "        text-align: right;\n",
       "    }\n",
       "</style>\n",
       "<table border=\"1\" class=\"dataframe\">\n",
       "  <thead>\n",
       "    <tr style=\"text-align: right;\">\n",
       "      <th></th>\n",
       "      <th>Company</th>\n",
       "      <th>TypeName</th>\n",
       "      <th>Ram</th>\n",
       "      <th>Gpu</th>\n",
       "      <th>OpSys</th>\n",
       "      <th>Weight</th>\n",
       "      <th>Price</th>\n",
       "      <th>Touchscreen</th>\n",
       "      <th>Ips</th>\n",
       "      <th>ppi</th>\n",
       "      <th>Cpu brand</th>\n",
       "      <th>HDD</th>\n",
       "      <th>SSD</th>\n",
       "      <th>Hybrid</th>\n",
       "      <th>Flash_Storage</th>\n",
       "    </tr>\n",
       "  </thead>\n",
       "  <tbody>\n",
       "    <tr>\n",
       "      <th>0</th>\n",
       "      <td>Apple</td>\n",
       "      <td>Ultrabook</td>\n",
       "      <td>8</td>\n",
       "      <td>Intel Iris Plus Graphics 640</td>\n",
       "      <td>macOS</td>\n",
       "      <td>1.37</td>\n",
       "      <td>71378.6832</td>\n",
       "      <td>0</td>\n",
       "      <td>1</td>\n",
       "      <td>226.983005</td>\n",
       "      <td>Intel Core i5</td>\n",
       "      <td>0</td>\n",
       "      <td>128</td>\n",
       "      <td>0</td>\n",
       "      <td>0</td>\n",
       "    </tr>\n",
       "    <tr>\n",
       "      <th>1</th>\n",
       "      <td>Apple</td>\n",
       "      <td>Ultrabook</td>\n",
       "      <td>8</td>\n",
       "      <td>Intel HD Graphics 6000</td>\n",
       "      <td>macOS</td>\n",
       "      <td>1.34</td>\n",
       "      <td>47895.5232</td>\n",
       "      <td>0</td>\n",
       "      <td>0</td>\n",
       "      <td>127.677940</td>\n",
       "      <td>Intel Core i5</td>\n",
       "      <td>0</td>\n",
       "      <td>0</td>\n",
       "      <td>0</td>\n",
       "      <td>128</td>\n",
       "    </tr>\n",
       "    <tr>\n",
       "      <th>2</th>\n",
       "      <td>HP</td>\n",
       "      <td>Notebook</td>\n",
       "      <td>8</td>\n",
       "      <td>Intel HD Graphics 620</td>\n",
       "      <td>No OS</td>\n",
       "      <td>1.86</td>\n",
       "      <td>30636.0000</td>\n",
       "      <td>0</td>\n",
       "      <td>0</td>\n",
       "      <td>141.211998</td>\n",
       "      <td>Intel Core i5</td>\n",
       "      <td>0</td>\n",
       "      <td>256</td>\n",
       "      <td>0</td>\n",
       "      <td>0</td>\n",
       "    </tr>\n",
       "    <tr>\n",
       "      <th>3</th>\n",
       "      <td>Apple</td>\n",
       "      <td>Ultrabook</td>\n",
       "      <td>16</td>\n",
       "      <td>AMD Radeon Pro 455</td>\n",
       "      <td>macOS</td>\n",
       "      <td>1.83</td>\n",
       "      <td>135195.3360</td>\n",
       "      <td>0</td>\n",
       "      <td>1</td>\n",
       "      <td>220.534624</td>\n",
       "      <td>Intel Core i7</td>\n",
       "      <td>0</td>\n",
       "      <td>512</td>\n",
       "      <td>0</td>\n",
       "      <td>0</td>\n",
       "    </tr>\n",
       "    <tr>\n",
       "      <th>4</th>\n",
       "      <td>Apple</td>\n",
       "      <td>Ultrabook</td>\n",
       "      <td>8</td>\n",
       "      <td>Intel Iris Plus Graphics 650</td>\n",
       "      <td>macOS</td>\n",
       "      <td>1.37</td>\n",
       "      <td>96095.8080</td>\n",
       "      <td>0</td>\n",
       "      <td>1</td>\n",
       "      <td>226.983005</td>\n",
       "      <td>Intel Core i5</td>\n",
       "      <td>0</td>\n",
       "      <td>256</td>\n",
       "      <td>0</td>\n",
       "      <td>0</td>\n",
       "    </tr>\n",
       "  </tbody>\n",
       "</table>\n",
       "</div>"
      ],
      "text/plain": [
       "  Company   TypeName  Ram                           Gpu  OpSys  Weight  \\\n",
       "0   Apple  Ultrabook    8  Intel Iris Plus Graphics 640  macOS    1.37   \n",
       "1   Apple  Ultrabook    8        Intel HD Graphics 6000  macOS    1.34   \n",
       "2      HP   Notebook    8         Intel HD Graphics 620  No OS    1.86   \n",
       "3   Apple  Ultrabook   16            AMD Radeon Pro 455  macOS    1.83   \n",
       "4   Apple  Ultrabook    8  Intel Iris Plus Graphics 650  macOS    1.37   \n",
       "\n",
       "         Price  Touchscreen  Ips         ppi      Cpu brand  HDD  SSD  Hybrid  \\\n",
       "0   71378.6832            0    1  226.983005  Intel Core i5    0  128       0   \n",
       "1   47895.5232            0    0  127.677940  Intel Core i5    0    0       0   \n",
       "2   30636.0000            0    0  141.211998  Intel Core i5    0  256       0   \n",
       "3  135195.3360            0    1  220.534624  Intel Core i7    0  512       0   \n",
       "4   96095.8080            0    1  226.983005  Intel Core i5    0  256       0   \n",
       "\n",
       "   Flash_Storage  \n",
       "0              0  \n",
       "1            128  \n",
       "2              0  \n",
       "3              0  \n",
       "4              0  "
      ]
     },
     "execution_count": 61,
     "metadata": {},
     "output_type": "execute_result"
    }
   ],
   "source": [
    "df.head()"
   ]
  },
  {
   "cell_type": "code",
   "execution_count": 62,
   "id": "6d7efdbc",
   "metadata": {},
   "outputs": [
    {
     "data": {
      "text/plain": [
       "Ram              0.743007\n",
       "Weight           0.210370\n",
       "Price            1.000000\n",
       "Touchscreen      0.191226\n",
       "Ips              0.252208\n",
       "ppi              0.473487\n",
       "HDD             -0.096441\n",
       "SSD              0.670799\n",
       "Hybrid           0.007989\n",
       "Flash_Storage   -0.040511\n",
       "Name: Price, dtype: float64"
      ]
     },
     "execution_count": 62,
     "metadata": {},
     "output_type": "execute_result"
    }
   ],
   "source": [
    "df.corr()['Price']"
   ]
  },
  {
   "cell_type": "code",
   "execution_count": 63,
   "id": "f192a479",
   "metadata": {},
   "outputs": [],
   "source": [
    "df.drop(columns=['Hybrid','Flash_Storage'],inplace=True)"
   ]
  },
  {
   "cell_type": "code",
   "execution_count": 64,
   "id": "4465271e",
   "metadata": {},
   "outputs": [
    {
     "data": {
      "text/html": [
       "<div>\n",
       "<style scoped>\n",
       "    .dataframe tbody tr th:only-of-type {\n",
       "        vertical-align: middle;\n",
       "    }\n",
       "\n",
       "    .dataframe tbody tr th {\n",
       "        vertical-align: top;\n",
       "    }\n",
       "\n",
       "    .dataframe thead th {\n",
       "        text-align: right;\n",
       "    }\n",
       "</style>\n",
       "<table border=\"1\" class=\"dataframe\">\n",
       "  <thead>\n",
       "    <tr style=\"text-align: right;\">\n",
       "      <th></th>\n",
       "      <th>Company</th>\n",
       "      <th>TypeName</th>\n",
       "      <th>Ram</th>\n",
       "      <th>Gpu</th>\n",
       "      <th>OpSys</th>\n",
       "      <th>Weight</th>\n",
       "      <th>Price</th>\n",
       "      <th>Touchscreen</th>\n",
       "      <th>Ips</th>\n",
       "      <th>ppi</th>\n",
       "      <th>Cpu brand</th>\n",
       "      <th>HDD</th>\n",
       "      <th>SSD</th>\n",
       "    </tr>\n",
       "  </thead>\n",
       "  <tbody>\n",
       "    <tr>\n",
       "      <th>0</th>\n",
       "      <td>Apple</td>\n",
       "      <td>Ultrabook</td>\n",
       "      <td>8</td>\n",
       "      <td>Intel Iris Plus Graphics 640</td>\n",
       "      <td>macOS</td>\n",
       "      <td>1.37</td>\n",
       "      <td>71378.6832</td>\n",
       "      <td>0</td>\n",
       "      <td>1</td>\n",
       "      <td>226.983005</td>\n",
       "      <td>Intel Core i5</td>\n",
       "      <td>0</td>\n",
       "      <td>128</td>\n",
       "    </tr>\n",
       "    <tr>\n",
       "      <th>1</th>\n",
       "      <td>Apple</td>\n",
       "      <td>Ultrabook</td>\n",
       "      <td>8</td>\n",
       "      <td>Intel HD Graphics 6000</td>\n",
       "      <td>macOS</td>\n",
       "      <td>1.34</td>\n",
       "      <td>47895.5232</td>\n",
       "      <td>0</td>\n",
       "      <td>0</td>\n",
       "      <td>127.677940</td>\n",
       "      <td>Intel Core i5</td>\n",
       "      <td>0</td>\n",
       "      <td>0</td>\n",
       "    </tr>\n",
       "    <tr>\n",
       "      <th>2</th>\n",
       "      <td>HP</td>\n",
       "      <td>Notebook</td>\n",
       "      <td>8</td>\n",
       "      <td>Intel HD Graphics 620</td>\n",
       "      <td>No OS</td>\n",
       "      <td>1.86</td>\n",
       "      <td>30636.0000</td>\n",
       "      <td>0</td>\n",
       "      <td>0</td>\n",
       "      <td>141.211998</td>\n",
       "      <td>Intel Core i5</td>\n",
       "      <td>0</td>\n",
       "      <td>256</td>\n",
       "    </tr>\n",
       "    <tr>\n",
       "      <th>3</th>\n",
       "      <td>Apple</td>\n",
       "      <td>Ultrabook</td>\n",
       "      <td>16</td>\n",
       "      <td>AMD Radeon Pro 455</td>\n",
       "      <td>macOS</td>\n",
       "      <td>1.83</td>\n",
       "      <td>135195.3360</td>\n",
       "      <td>0</td>\n",
       "      <td>1</td>\n",
       "      <td>220.534624</td>\n",
       "      <td>Intel Core i7</td>\n",
       "      <td>0</td>\n",
       "      <td>512</td>\n",
       "    </tr>\n",
       "    <tr>\n",
       "      <th>4</th>\n",
       "      <td>Apple</td>\n",
       "      <td>Ultrabook</td>\n",
       "      <td>8</td>\n",
       "      <td>Intel Iris Plus Graphics 650</td>\n",
       "      <td>macOS</td>\n",
       "      <td>1.37</td>\n",
       "      <td>96095.8080</td>\n",
       "      <td>0</td>\n",
       "      <td>1</td>\n",
       "      <td>226.983005</td>\n",
       "      <td>Intel Core i5</td>\n",
       "      <td>0</td>\n",
       "      <td>256</td>\n",
       "    </tr>\n",
       "  </tbody>\n",
       "</table>\n",
       "</div>"
      ],
      "text/plain": [
       "  Company   TypeName  Ram                           Gpu  OpSys  Weight  \\\n",
       "0   Apple  Ultrabook    8  Intel Iris Plus Graphics 640  macOS    1.37   \n",
       "1   Apple  Ultrabook    8        Intel HD Graphics 6000  macOS    1.34   \n",
       "2      HP   Notebook    8         Intel HD Graphics 620  No OS    1.86   \n",
       "3   Apple  Ultrabook   16            AMD Radeon Pro 455  macOS    1.83   \n",
       "4   Apple  Ultrabook    8  Intel Iris Plus Graphics 650  macOS    1.37   \n",
       "\n",
       "         Price  Touchscreen  Ips         ppi      Cpu brand  HDD  SSD  \n",
       "0   71378.6832            0    1  226.983005  Intel Core i5    0  128  \n",
       "1   47895.5232            0    0  127.677940  Intel Core i5    0    0  \n",
       "2   30636.0000            0    0  141.211998  Intel Core i5    0  256  \n",
       "3  135195.3360            0    1  220.534624  Intel Core i7    0  512  \n",
       "4   96095.8080            0    1  226.983005  Intel Core i5    0  256  "
      ]
     },
     "execution_count": 64,
     "metadata": {},
     "output_type": "execute_result"
    }
   ],
   "source": [
    "df.head()"
   ]
  },
  {
   "cell_type": "code",
   "execution_count": 65,
   "id": "482170f6",
   "metadata": {},
   "outputs": [
    {
     "data": {
      "text/plain": [
       "Intel HD Graphics 620      281\n",
       "Intel HD Graphics 520      185\n",
       "Intel UHD Graphics 620      68\n",
       "Nvidia GeForce GTX 1050     66\n",
       "Nvidia GeForce GTX 1060     48\n",
       "                          ... \n",
       "AMD Radeon R5 520            1\n",
       "AMD Radeon R7                1\n",
       "Intel HD Graphics 540        1\n",
       "AMD Radeon 540               1\n",
       "ARM Mali T860 MP4            1\n",
       "Name: Gpu, Length: 110, dtype: int64"
      ]
     },
     "execution_count": 65,
     "metadata": {},
     "output_type": "execute_result"
    }
   ],
   "source": [
    "df['Gpu'].value_counts()"
   ]
  },
  {
   "cell_type": "code",
   "execution_count": 66,
   "id": "ef8a817e",
   "metadata": {},
   "outputs": [],
   "source": [
    "df['Gpu brand'] = df['Gpu'].apply(lambda x:x.split()[0])"
   ]
  },
  {
   "cell_type": "code",
   "execution_count": 67,
   "id": "a052e7d2",
   "metadata": {},
   "outputs": [
    {
     "data": {
      "text/html": [
       "<div>\n",
       "<style scoped>\n",
       "    .dataframe tbody tr th:only-of-type {\n",
       "        vertical-align: middle;\n",
       "    }\n",
       "\n",
       "    .dataframe tbody tr th {\n",
       "        vertical-align: top;\n",
       "    }\n",
       "\n",
       "    .dataframe thead th {\n",
       "        text-align: right;\n",
       "    }\n",
       "</style>\n",
       "<table border=\"1\" class=\"dataframe\">\n",
       "  <thead>\n",
       "    <tr style=\"text-align: right;\">\n",
       "      <th></th>\n",
       "      <th>Company</th>\n",
       "      <th>TypeName</th>\n",
       "      <th>Ram</th>\n",
       "      <th>Gpu</th>\n",
       "      <th>OpSys</th>\n",
       "      <th>Weight</th>\n",
       "      <th>Price</th>\n",
       "      <th>Touchscreen</th>\n",
       "      <th>Ips</th>\n",
       "      <th>ppi</th>\n",
       "      <th>Cpu brand</th>\n",
       "      <th>HDD</th>\n",
       "      <th>SSD</th>\n",
       "      <th>Gpu brand</th>\n",
       "    </tr>\n",
       "  </thead>\n",
       "  <tbody>\n",
       "    <tr>\n",
       "      <th>0</th>\n",
       "      <td>Apple</td>\n",
       "      <td>Ultrabook</td>\n",
       "      <td>8</td>\n",
       "      <td>Intel Iris Plus Graphics 640</td>\n",
       "      <td>macOS</td>\n",
       "      <td>1.37</td>\n",
       "      <td>71378.6832</td>\n",
       "      <td>0</td>\n",
       "      <td>1</td>\n",
       "      <td>226.983005</td>\n",
       "      <td>Intel Core i5</td>\n",
       "      <td>0</td>\n",
       "      <td>128</td>\n",
       "      <td>Intel</td>\n",
       "    </tr>\n",
       "    <tr>\n",
       "      <th>1</th>\n",
       "      <td>Apple</td>\n",
       "      <td>Ultrabook</td>\n",
       "      <td>8</td>\n",
       "      <td>Intel HD Graphics 6000</td>\n",
       "      <td>macOS</td>\n",
       "      <td>1.34</td>\n",
       "      <td>47895.5232</td>\n",
       "      <td>0</td>\n",
       "      <td>0</td>\n",
       "      <td>127.677940</td>\n",
       "      <td>Intel Core i5</td>\n",
       "      <td>0</td>\n",
       "      <td>0</td>\n",
       "      <td>Intel</td>\n",
       "    </tr>\n",
       "    <tr>\n",
       "      <th>2</th>\n",
       "      <td>HP</td>\n",
       "      <td>Notebook</td>\n",
       "      <td>8</td>\n",
       "      <td>Intel HD Graphics 620</td>\n",
       "      <td>No OS</td>\n",
       "      <td>1.86</td>\n",
       "      <td>30636.0000</td>\n",
       "      <td>0</td>\n",
       "      <td>0</td>\n",
       "      <td>141.211998</td>\n",
       "      <td>Intel Core i5</td>\n",
       "      <td>0</td>\n",
       "      <td>256</td>\n",
       "      <td>Intel</td>\n",
       "    </tr>\n",
       "    <tr>\n",
       "      <th>3</th>\n",
       "      <td>Apple</td>\n",
       "      <td>Ultrabook</td>\n",
       "      <td>16</td>\n",
       "      <td>AMD Radeon Pro 455</td>\n",
       "      <td>macOS</td>\n",
       "      <td>1.83</td>\n",
       "      <td>135195.3360</td>\n",
       "      <td>0</td>\n",
       "      <td>1</td>\n",
       "      <td>220.534624</td>\n",
       "      <td>Intel Core i7</td>\n",
       "      <td>0</td>\n",
       "      <td>512</td>\n",
       "      <td>AMD</td>\n",
       "    </tr>\n",
       "    <tr>\n",
       "      <th>4</th>\n",
       "      <td>Apple</td>\n",
       "      <td>Ultrabook</td>\n",
       "      <td>8</td>\n",
       "      <td>Intel Iris Plus Graphics 650</td>\n",
       "      <td>macOS</td>\n",
       "      <td>1.37</td>\n",
       "      <td>96095.8080</td>\n",
       "      <td>0</td>\n",
       "      <td>1</td>\n",
       "      <td>226.983005</td>\n",
       "      <td>Intel Core i5</td>\n",
       "      <td>0</td>\n",
       "      <td>256</td>\n",
       "      <td>Intel</td>\n",
       "    </tr>\n",
       "  </tbody>\n",
       "</table>\n",
       "</div>"
      ],
      "text/plain": [
       "  Company   TypeName  Ram                           Gpu  OpSys  Weight  \\\n",
       "0   Apple  Ultrabook    8  Intel Iris Plus Graphics 640  macOS    1.37   \n",
       "1   Apple  Ultrabook    8        Intel HD Graphics 6000  macOS    1.34   \n",
       "2      HP   Notebook    8         Intel HD Graphics 620  No OS    1.86   \n",
       "3   Apple  Ultrabook   16            AMD Radeon Pro 455  macOS    1.83   \n",
       "4   Apple  Ultrabook    8  Intel Iris Plus Graphics 650  macOS    1.37   \n",
       "\n",
       "         Price  Touchscreen  Ips         ppi      Cpu brand  HDD  SSD  \\\n",
       "0   71378.6832            0    1  226.983005  Intel Core i5    0  128   \n",
       "1   47895.5232            0    0  127.677940  Intel Core i5    0    0   \n",
       "2   30636.0000            0    0  141.211998  Intel Core i5    0  256   \n",
       "3  135195.3360            0    1  220.534624  Intel Core i7    0  512   \n",
       "4   96095.8080            0    1  226.983005  Intel Core i5    0  256   \n",
       "\n",
       "  Gpu brand  \n",
       "0     Intel  \n",
       "1     Intel  \n",
       "2     Intel  \n",
       "3       AMD  \n",
       "4     Intel  "
      ]
     },
     "execution_count": 67,
     "metadata": {},
     "output_type": "execute_result"
    }
   ],
   "source": [
    "df.head()"
   ]
  },
  {
   "cell_type": "code",
   "execution_count": 68,
   "id": "5ceb444d",
   "metadata": {},
   "outputs": [
    {
     "data": {
      "text/plain": [
       "Intel     722\n",
       "Nvidia    400\n",
       "AMD       180\n",
       "ARM         1\n",
       "Name: Gpu brand, dtype: int64"
      ]
     },
     "execution_count": 68,
     "metadata": {},
     "output_type": "execute_result"
    }
   ],
   "source": [
    "df['Gpu brand'].value_counts()"
   ]
  },
  {
   "cell_type": "code",
   "execution_count": 69,
   "id": "feb8ae26",
   "metadata": {},
   "outputs": [],
   "source": [
    "df = df[df['Gpu brand'] != 'ARM']"
   ]
  },
  {
   "cell_type": "code",
   "execution_count": 70,
   "id": "f032829b",
   "metadata": {},
   "outputs": [
    {
     "data": {
      "text/plain": [
       "Intel     722\n",
       "Nvidia    400\n",
       "AMD       180\n",
       "Name: Gpu brand, dtype: int64"
      ]
     },
     "execution_count": 70,
     "metadata": {},
     "output_type": "execute_result"
    }
   ],
   "source": [
    "df['Gpu brand'].value_counts()"
   ]
  },
  {
   "cell_type": "code",
   "execution_count": 71,
   "id": "ddaf0880",
   "metadata": {},
   "outputs": [
    {
     "data": {
      "image/png": "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\n",
      "text/plain": [
       "<Figure size 432x288 with 1 Axes>"
      ]
     },
     "metadata": {
      "needs_background": "light"
     },
     "output_type": "display_data"
    }
   ],
   "source": [
    "sns.barplot(x=df['Gpu brand'],y=df['Price'],estimator=np.median)\n",
    "plt.xticks(rotation='vertical')\n",
    "plt.show()"
   ]
  },
  {
   "cell_type": "code",
   "execution_count": 72,
   "id": "8c8bfec8",
   "metadata": {},
   "outputs": [],
   "source": [
    "df.drop(columns=['Gpu'],inplace=True)"
   ]
  },
  {
   "cell_type": "code",
   "execution_count": 73,
   "id": "bd3cfb51",
   "metadata": {},
   "outputs": [
    {
     "data": {
      "text/html": [
       "<div>\n",
       "<style scoped>\n",
       "    .dataframe tbody tr th:only-of-type {\n",
       "        vertical-align: middle;\n",
       "    }\n",
       "\n",
       "    .dataframe tbody tr th {\n",
       "        vertical-align: top;\n",
       "    }\n",
       "\n",
       "    .dataframe thead th {\n",
       "        text-align: right;\n",
       "    }\n",
       "</style>\n",
       "<table border=\"1\" class=\"dataframe\">\n",
       "  <thead>\n",
       "    <tr style=\"text-align: right;\">\n",
       "      <th></th>\n",
       "      <th>Company</th>\n",
       "      <th>TypeName</th>\n",
       "      <th>Ram</th>\n",
       "      <th>OpSys</th>\n",
       "      <th>Weight</th>\n",
       "      <th>Price</th>\n",
       "      <th>Touchscreen</th>\n",
       "      <th>Ips</th>\n",
       "      <th>ppi</th>\n",
       "      <th>Cpu brand</th>\n",
       "      <th>HDD</th>\n",
       "      <th>SSD</th>\n",
       "      <th>Gpu brand</th>\n",
       "    </tr>\n",
       "  </thead>\n",
       "  <tbody>\n",
       "    <tr>\n",
       "      <th>0</th>\n",
       "      <td>Apple</td>\n",
       "      <td>Ultrabook</td>\n",
       "      <td>8</td>\n",
       "      <td>macOS</td>\n",
       "      <td>1.37</td>\n",
       "      <td>71378.6832</td>\n",
       "      <td>0</td>\n",
       "      <td>1</td>\n",
       "      <td>226.983005</td>\n",
       "      <td>Intel Core i5</td>\n",
       "      <td>0</td>\n",
       "      <td>128</td>\n",
       "      <td>Intel</td>\n",
       "    </tr>\n",
       "    <tr>\n",
       "      <th>1</th>\n",
       "      <td>Apple</td>\n",
       "      <td>Ultrabook</td>\n",
       "      <td>8</td>\n",
       "      <td>macOS</td>\n",
       "      <td>1.34</td>\n",
       "      <td>47895.5232</td>\n",
       "      <td>0</td>\n",
       "      <td>0</td>\n",
       "      <td>127.677940</td>\n",
       "      <td>Intel Core i5</td>\n",
       "      <td>0</td>\n",
       "      <td>0</td>\n",
       "      <td>Intel</td>\n",
       "    </tr>\n",
       "    <tr>\n",
       "      <th>2</th>\n",
       "      <td>HP</td>\n",
       "      <td>Notebook</td>\n",
       "      <td>8</td>\n",
       "      <td>No OS</td>\n",
       "      <td>1.86</td>\n",
       "      <td>30636.0000</td>\n",
       "      <td>0</td>\n",
       "      <td>0</td>\n",
       "      <td>141.211998</td>\n",
       "      <td>Intel Core i5</td>\n",
       "      <td>0</td>\n",
       "      <td>256</td>\n",
       "      <td>Intel</td>\n",
       "    </tr>\n",
       "    <tr>\n",
       "      <th>3</th>\n",
       "      <td>Apple</td>\n",
       "      <td>Ultrabook</td>\n",
       "      <td>16</td>\n",
       "      <td>macOS</td>\n",
       "      <td>1.83</td>\n",
       "      <td>135195.3360</td>\n",
       "      <td>0</td>\n",
       "      <td>1</td>\n",
       "      <td>220.534624</td>\n",
       "      <td>Intel Core i7</td>\n",
       "      <td>0</td>\n",
       "      <td>512</td>\n",
       "      <td>AMD</td>\n",
       "    </tr>\n",
       "    <tr>\n",
       "      <th>4</th>\n",
       "      <td>Apple</td>\n",
       "      <td>Ultrabook</td>\n",
       "      <td>8</td>\n",
       "      <td>macOS</td>\n",
       "      <td>1.37</td>\n",
       "      <td>96095.8080</td>\n",
       "      <td>0</td>\n",
       "      <td>1</td>\n",
       "      <td>226.983005</td>\n",
       "      <td>Intel Core i5</td>\n",
       "      <td>0</td>\n",
       "      <td>256</td>\n",
       "      <td>Intel</td>\n",
       "    </tr>\n",
       "  </tbody>\n",
       "</table>\n",
       "</div>"
      ],
      "text/plain": [
       "  Company   TypeName  Ram  OpSys  Weight        Price  Touchscreen  Ips  \\\n",
       "0   Apple  Ultrabook    8  macOS    1.37   71378.6832            0    1   \n",
       "1   Apple  Ultrabook    8  macOS    1.34   47895.5232            0    0   \n",
       "2      HP   Notebook    8  No OS    1.86   30636.0000            0    0   \n",
       "3   Apple  Ultrabook   16  macOS    1.83  135195.3360            0    1   \n",
       "4   Apple  Ultrabook    8  macOS    1.37   96095.8080            0    1   \n",
       "\n",
       "          ppi      Cpu brand  HDD  SSD Gpu brand  \n",
       "0  226.983005  Intel Core i5    0  128     Intel  \n",
       "1  127.677940  Intel Core i5    0    0     Intel  \n",
       "2  141.211998  Intel Core i5    0  256     Intel  \n",
       "3  220.534624  Intel Core i7    0  512       AMD  \n",
       "4  226.983005  Intel Core i5    0  256     Intel  "
      ]
     },
     "execution_count": 73,
     "metadata": {},
     "output_type": "execute_result"
    }
   ],
   "source": [
    "df.head()"
   ]
  },
  {
   "cell_type": "code",
   "execution_count": 74,
   "id": "a2489ee4",
   "metadata": {},
   "outputs": [
    {
     "data": {
      "text/plain": [
       "Windows 10      1072\n",
       "No OS             66\n",
       "Linux             62\n",
       "Windows 7         45\n",
       "Chrome OS         26\n",
       "macOS             13\n",
       "Mac OS X           8\n",
       "Windows 10 S       8\n",
       "Android            2\n",
       "Name: OpSys, dtype: int64"
      ]
     },
     "execution_count": 74,
     "metadata": {},
     "output_type": "execute_result"
    }
   ],
   "source": [
    "df['OpSys'].value_counts()"
   ]
  },
  {
   "cell_type": "code",
   "execution_count": 75,
   "id": "d7ad43ce",
   "metadata": {},
   "outputs": [
    {
     "data": {
      "image/png": "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\n",
      "text/plain": [
       "<Figure size 432x288 with 1 Axes>"
      ]
     },
     "metadata": {
      "needs_background": "light"
     },
     "output_type": "display_data"
    }
   ],
   "source": [
    "sns.barplot(x=df['OpSys'],y=df['Price'])\n",
    "plt.xticks(rotation='vertical')\n",
    "plt.show()"
   ]
  },
  {
   "cell_type": "code",
   "execution_count": 76,
   "id": "6b2442d7",
   "metadata": {},
   "outputs": [],
   "source": [
    "def cat_os(inp):\n",
    "    if inp == 'Windows 10' or inp == 'Windows 7' or inp == 'Windows 10 S':\n",
    "        return 'Windows'\n",
    "    elif inp == 'macOS' or inp == 'Mac OS X':\n",
    "        return 'Mac'\n",
    "    else:\n",
    "        return 'Others/No OS/Linux'\n"
   ]
  },
  {
   "cell_type": "code",
   "execution_count": 77,
   "id": "fb960c96",
   "metadata": {},
   "outputs": [],
   "source": [
    "df['os'] = df['OpSys'].apply(cat_os)"
   ]
  },
  {
   "cell_type": "code",
   "execution_count": 78,
   "id": "079b518b",
   "metadata": {},
   "outputs": [
    {
     "data": {
      "text/html": [
       "<div>\n",
       "<style scoped>\n",
       "    .dataframe tbody tr th:only-of-type {\n",
       "        vertical-align: middle;\n",
       "    }\n",
       "\n",
       "    .dataframe tbody tr th {\n",
       "        vertical-align: top;\n",
       "    }\n",
       "\n",
       "    .dataframe thead th {\n",
       "        text-align: right;\n",
       "    }\n",
       "</style>\n",
       "<table border=\"1\" class=\"dataframe\">\n",
       "  <thead>\n",
       "    <tr style=\"text-align: right;\">\n",
       "      <th></th>\n",
       "      <th>Company</th>\n",
       "      <th>TypeName</th>\n",
       "      <th>Ram</th>\n",
       "      <th>OpSys</th>\n",
       "      <th>Weight</th>\n",
       "      <th>Price</th>\n",
       "      <th>Touchscreen</th>\n",
       "      <th>Ips</th>\n",
       "      <th>ppi</th>\n",
       "      <th>Cpu brand</th>\n",
       "      <th>HDD</th>\n",
       "      <th>SSD</th>\n",
       "      <th>Gpu brand</th>\n",
       "      <th>os</th>\n",
       "    </tr>\n",
       "  </thead>\n",
       "  <tbody>\n",
       "    <tr>\n",
       "      <th>0</th>\n",
       "      <td>Apple</td>\n",
       "      <td>Ultrabook</td>\n",
       "      <td>8</td>\n",
       "      <td>macOS</td>\n",
       "      <td>1.37</td>\n",
       "      <td>71378.6832</td>\n",
       "      <td>0</td>\n",
       "      <td>1</td>\n",
       "      <td>226.983005</td>\n",
       "      <td>Intel Core i5</td>\n",
       "      <td>0</td>\n",
       "      <td>128</td>\n",
       "      <td>Intel</td>\n",
       "      <td>Mac</td>\n",
       "    </tr>\n",
       "    <tr>\n",
       "      <th>1</th>\n",
       "      <td>Apple</td>\n",
       "      <td>Ultrabook</td>\n",
       "      <td>8</td>\n",
       "      <td>macOS</td>\n",
       "      <td>1.34</td>\n",
       "      <td>47895.5232</td>\n",
       "      <td>0</td>\n",
       "      <td>0</td>\n",
       "      <td>127.677940</td>\n",
       "      <td>Intel Core i5</td>\n",
       "      <td>0</td>\n",
       "      <td>0</td>\n",
       "      <td>Intel</td>\n",
       "      <td>Mac</td>\n",
       "    </tr>\n",
       "    <tr>\n",
       "      <th>2</th>\n",
       "      <td>HP</td>\n",
       "      <td>Notebook</td>\n",
       "      <td>8</td>\n",
       "      <td>No OS</td>\n",
       "      <td>1.86</td>\n",
       "      <td>30636.0000</td>\n",
       "      <td>0</td>\n",
       "      <td>0</td>\n",
       "      <td>141.211998</td>\n",
       "      <td>Intel Core i5</td>\n",
       "      <td>0</td>\n",
       "      <td>256</td>\n",
       "      <td>Intel</td>\n",
       "      <td>Others/No OS/Linux</td>\n",
       "    </tr>\n",
       "    <tr>\n",
       "      <th>3</th>\n",
       "      <td>Apple</td>\n",
       "      <td>Ultrabook</td>\n",
       "      <td>16</td>\n",
       "      <td>macOS</td>\n",
       "      <td>1.83</td>\n",
       "      <td>135195.3360</td>\n",
       "      <td>0</td>\n",
       "      <td>1</td>\n",
       "      <td>220.534624</td>\n",
       "      <td>Intel Core i7</td>\n",
       "      <td>0</td>\n",
       "      <td>512</td>\n",
       "      <td>AMD</td>\n",
       "      <td>Mac</td>\n",
       "    </tr>\n",
       "    <tr>\n",
       "      <th>4</th>\n",
       "      <td>Apple</td>\n",
       "      <td>Ultrabook</td>\n",
       "      <td>8</td>\n",
       "      <td>macOS</td>\n",
       "      <td>1.37</td>\n",
       "      <td>96095.8080</td>\n",
       "      <td>0</td>\n",
       "      <td>1</td>\n",
       "      <td>226.983005</td>\n",
       "      <td>Intel Core i5</td>\n",
       "      <td>0</td>\n",
       "      <td>256</td>\n",
       "      <td>Intel</td>\n",
       "      <td>Mac</td>\n",
       "    </tr>\n",
       "  </tbody>\n",
       "</table>\n",
       "</div>"
      ],
      "text/plain": [
       "  Company   TypeName  Ram  OpSys  Weight        Price  Touchscreen  Ips  \\\n",
       "0   Apple  Ultrabook    8  macOS    1.37   71378.6832            0    1   \n",
       "1   Apple  Ultrabook    8  macOS    1.34   47895.5232            0    0   \n",
       "2      HP   Notebook    8  No OS    1.86   30636.0000            0    0   \n",
       "3   Apple  Ultrabook   16  macOS    1.83  135195.3360            0    1   \n",
       "4   Apple  Ultrabook    8  macOS    1.37   96095.8080            0    1   \n",
       "\n",
       "          ppi      Cpu brand  HDD  SSD Gpu brand                  os  \n",
       "0  226.983005  Intel Core i5    0  128     Intel                 Mac  \n",
       "1  127.677940  Intel Core i5    0    0     Intel                 Mac  \n",
       "2  141.211998  Intel Core i5    0  256     Intel  Others/No OS/Linux  \n",
       "3  220.534624  Intel Core i7    0  512       AMD                 Mac  \n",
       "4  226.983005  Intel Core i5    0  256     Intel                 Mac  "
      ]
     },
     "execution_count": 78,
     "metadata": {},
     "output_type": "execute_result"
    }
   ],
   "source": [
    "df.head()"
   ]
  },
  {
   "cell_type": "code",
   "execution_count": 79,
   "id": "cc830b3e",
   "metadata": {},
   "outputs": [],
   "source": [
    "df.drop(columns=['OpSys'],inplace=True)"
   ]
  },
  {
   "cell_type": "code",
   "execution_count": 80,
   "id": "baf61662",
   "metadata": {},
   "outputs": [
    {
     "data": {
      "image/png": "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\n",
      "text/plain": [
       "<Figure size 432x288 with 1 Axes>"
      ]
     },
     "metadata": {
      "needs_background": "light"
     },
     "output_type": "display_data"
    }
   ],
   "source": [
    "sns.barplot(x=df['os'],y=df['Price'])\n",
    "plt.xticks(rotation='vertical')\n",
    "plt.show()"
   ]
  },
  {
   "cell_type": "code",
   "execution_count": 81,
   "id": "2cd4e549",
   "metadata": {},
   "outputs": [
    {
     "name": "stderr",
     "output_type": "stream",
     "text": [
      "F:\\anc\\lib\\site-packages\\seaborn\\distributions.py:2619: FutureWarning: `distplot` is a deprecated function and will be removed in a future version. Please adapt your code to use either `displot` (a figure-level function with similar flexibility) or `histplot` (an axes-level function for histograms).\n",
      "  warnings.warn(msg, FutureWarning)\n"
     ]
    },
    {
     "data": {
      "text/plain": [
       "<AxesSubplot:xlabel='Weight', ylabel='Density'>"
      ]
     },
     "execution_count": 81,
     "metadata": {},
     "output_type": "execute_result"
    },
    {
     "data": {
      "image/png": "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\n",
      "text/plain": [
       "<Figure size 432x288 with 1 Axes>"
      ]
     },
     "metadata": {
      "needs_background": "light"
     },
     "output_type": "display_data"
    }
   ],
   "source": [
    "sns.distplot(df['Weight'])"
   ]
  },
  {
   "cell_type": "code",
   "execution_count": 82,
   "id": "96dafb79",
   "metadata": {},
   "outputs": [
    {
     "data": {
      "text/plain": [
       "<AxesSubplot:xlabel='Weight', ylabel='Price'>"
      ]
     },
     "execution_count": 82,
     "metadata": {},
     "output_type": "execute_result"
    },
    {
     "data": {
      "image/png": "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\n",
      "text/plain": [
       "<Figure size 432x288 with 1 Axes>"
      ]
     },
     "metadata": {
      "needs_background": "light"
     },
     "output_type": "display_data"
    }
   ],
   "source": [
    "sns.scatterplot(x=df['Weight'],y=df['Price'])"
   ]
  },
  {
   "cell_type": "code",
   "execution_count": 83,
   "id": "2f6eeb9c",
   "metadata": {},
   "outputs": [
    {
     "data": {
      "text/plain": [
       "Ram            0.742905\n",
       "Weight         0.209867\n",
       "Price          1.000000\n",
       "Touchscreen    0.192917\n",
       "Ips            0.253320\n",
       "ppi            0.475368\n",
       "HDD           -0.096891\n",
       "SSD            0.670660\n",
       "Name: Price, dtype: float64"
      ]
     },
     "execution_count": 83,
     "metadata": {},
     "output_type": "execute_result"
    }
   ],
   "source": [
    "df.corr()['Price']"
   ]
  },
  {
   "cell_type": "code",
   "execution_count": 84,
   "id": "74e8a4b3",
   "metadata": {},
   "outputs": [
    {
     "data": {
      "text/plain": [
       "<AxesSubplot:>"
      ]
     },
     "execution_count": 84,
     "metadata": {},
     "output_type": "execute_result"
    },
    {
     "data": {
      "image/png": "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\n",
      "text/plain": [
       "<Figure size 432x288 with 2 Axes>"
      ]
     },
     "metadata": {
      "needs_background": "light"
     },
     "output_type": "display_data"
    }
   ],
   "source": [
    "sns.heatmap(df.corr())"
   ]
  },
  {
   "cell_type": "code",
   "execution_count": 85,
   "id": "c8424eac",
   "metadata": {},
   "outputs": [
    {
     "name": "stderr",
     "output_type": "stream",
     "text": [
      "F:\\anc\\lib\\site-packages\\seaborn\\distributions.py:2619: FutureWarning: `distplot` is a deprecated function and will be removed in a future version. Please adapt your code to use either `displot` (a figure-level function with similar flexibility) or `histplot` (an axes-level function for histograms).\n",
      "  warnings.warn(msg, FutureWarning)\n"
     ]
    },
    {
     "data": {
      "text/plain": [
       "<AxesSubplot:xlabel='Price', ylabel='Density'>"
      ]
     },
     "execution_count": 85,
     "metadata": {},
     "output_type": "execute_result"
    },
    {
     "data": {
      "image/png": "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\n",
      "text/plain": [
       "<Figure size 432x288 with 1 Axes>"
      ]
     },
     "metadata": {
      "needs_background": "light"
     },
     "output_type": "display_data"
    }
   ],
   "source": [
    "sns.distplot(np.log(df['Price']))"
   ]
  },
  {
   "cell_type": "code",
   "execution_count": 86,
   "id": "fff2e7c5",
   "metadata": {},
   "outputs": [],
   "source": [
    "X = df.drop(columns=['Price'])\n",
    "y = np.log(df['Price'])"
   ]
  },
  {
   "cell_type": "code",
   "execution_count": 87,
   "id": "e6c95f38",
   "metadata": {},
   "outputs": [
    {
     "data": {
      "text/html": [
       "<div>\n",
       "<style scoped>\n",
       "    .dataframe tbody tr th:only-of-type {\n",
       "        vertical-align: middle;\n",
       "    }\n",
       "\n",
       "    .dataframe tbody tr th {\n",
       "        vertical-align: top;\n",
       "    }\n",
       "\n",
       "    .dataframe thead th {\n",
       "        text-align: right;\n",
       "    }\n",
       "</style>\n",
       "<table border=\"1\" class=\"dataframe\">\n",
       "  <thead>\n",
       "    <tr style=\"text-align: right;\">\n",
       "      <th></th>\n",
       "      <th>Company</th>\n",
       "      <th>TypeName</th>\n",
       "      <th>Ram</th>\n",
       "      <th>Weight</th>\n",
       "      <th>Touchscreen</th>\n",
       "      <th>Ips</th>\n",
       "      <th>ppi</th>\n",
       "      <th>Cpu brand</th>\n",
       "      <th>HDD</th>\n",
       "      <th>SSD</th>\n",
       "      <th>Gpu brand</th>\n",
       "      <th>os</th>\n",
       "    </tr>\n",
       "  </thead>\n",
       "  <tbody>\n",
       "    <tr>\n",
       "      <th>0</th>\n",
       "      <td>Apple</td>\n",
       "      <td>Ultrabook</td>\n",
       "      <td>8</td>\n",
       "      <td>1.37</td>\n",
       "      <td>0</td>\n",
       "      <td>1</td>\n",
       "      <td>226.983005</td>\n",
       "      <td>Intel Core i5</td>\n",
       "      <td>0</td>\n",
       "      <td>128</td>\n",
       "      <td>Intel</td>\n",
       "      <td>Mac</td>\n",
       "    </tr>\n",
       "    <tr>\n",
       "      <th>1</th>\n",
       "      <td>Apple</td>\n",
       "      <td>Ultrabook</td>\n",
       "      <td>8</td>\n",
       "      <td>1.34</td>\n",
       "      <td>0</td>\n",
       "      <td>0</td>\n",
       "      <td>127.677940</td>\n",
       "      <td>Intel Core i5</td>\n",
       "      <td>0</td>\n",
       "      <td>0</td>\n",
       "      <td>Intel</td>\n",
       "      <td>Mac</td>\n",
       "    </tr>\n",
       "    <tr>\n",
       "      <th>2</th>\n",
       "      <td>HP</td>\n",
       "      <td>Notebook</td>\n",
       "      <td>8</td>\n",
       "      <td>1.86</td>\n",
       "      <td>0</td>\n",
       "      <td>0</td>\n",
       "      <td>141.211998</td>\n",
       "      <td>Intel Core i5</td>\n",
       "      <td>0</td>\n",
       "      <td>256</td>\n",
       "      <td>Intel</td>\n",
       "      <td>Others/No OS/Linux</td>\n",
       "    </tr>\n",
       "    <tr>\n",
       "      <th>3</th>\n",
       "      <td>Apple</td>\n",
       "      <td>Ultrabook</td>\n",
       "      <td>16</td>\n",
       "      <td>1.83</td>\n",
       "      <td>0</td>\n",
       "      <td>1</td>\n",
       "      <td>220.534624</td>\n",
       "      <td>Intel Core i7</td>\n",
       "      <td>0</td>\n",
       "      <td>512</td>\n",
       "      <td>AMD</td>\n",
       "      <td>Mac</td>\n",
       "    </tr>\n",
       "    <tr>\n",
       "      <th>4</th>\n",
       "      <td>Apple</td>\n",
       "      <td>Ultrabook</td>\n",
       "      <td>8</td>\n",
       "      <td>1.37</td>\n",
       "      <td>0</td>\n",
       "      <td>1</td>\n",
       "      <td>226.983005</td>\n",
       "      <td>Intel Core i5</td>\n",
       "      <td>0</td>\n",
       "      <td>256</td>\n",
       "      <td>Intel</td>\n",
       "      <td>Mac</td>\n",
       "    </tr>\n",
       "    <tr>\n",
       "      <th>...</th>\n",
       "      <td>...</td>\n",
       "      <td>...</td>\n",
       "      <td>...</td>\n",
       "      <td>...</td>\n",
       "      <td>...</td>\n",
       "      <td>...</td>\n",
       "      <td>...</td>\n",
       "      <td>...</td>\n",
       "      <td>...</td>\n",
       "      <td>...</td>\n",
       "      <td>...</td>\n",
       "      <td>...</td>\n",
       "    </tr>\n",
       "    <tr>\n",
       "      <th>1298</th>\n",
       "      <td>Lenovo</td>\n",
       "      <td>2 in 1 Convertible</td>\n",
       "      <td>4</td>\n",
       "      <td>1.80</td>\n",
       "      <td>1</td>\n",
       "      <td>1</td>\n",
       "      <td>157.350512</td>\n",
       "      <td>Intel Core i7</td>\n",
       "      <td>0</td>\n",
       "      <td>128</td>\n",
       "      <td>Intel</td>\n",
       "      <td>Windows</td>\n",
       "    </tr>\n",
       "    <tr>\n",
       "      <th>1299</th>\n",
       "      <td>Lenovo</td>\n",
       "      <td>2 in 1 Convertible</td>\n",
       "      <td>16</td>\n",
       "      <td>1.30</td>\n",
       "      <td>1</td>\n",
       "      <td>1</td>\n",
       "      <td>276.053530</td>\n",
       "      <td>Intel Core i7</td>\n",
       "      <td>0</td>\n",
       "      <td>512</td>\n",
       "      <td>Intel</td>\n",
       "      <td>Windows</td>\n",
       "    </tr>\n",
       "    <tr>\n",
       "      <th>1300</th>\n",
       "      <td>Lenovo</td>\n",
       "      <td>Notebook</td>\n",
       "      <td>2</td>\n",
       "      <td>1.50</td>\n",
       "      <td>0</td>\n",
       "      <td>0</td>\n",
       "      <td>111.935204</td>\n",
       "      <td>Other Intel Processor</td>\n",
       "      <td>0</td>\n",
       "      <td>0</td>\n",
       "      <td>Intel</td>\n",
       "      <td>Windows</td>\n",
       "    </tr>\n",
       "    <tr>\n",
       "      <th>1301</th>\n",
       "      <td>HP</td>\n",
       "      <td>Notebook</td>\n",
       "      <td>6</td>\n",
       "      <td>2.19</td>\n",
       "      <td>0</td>\n",
       "      <td>0</td>\n",
       "      <td>100.454670</td>\n",
       "      <td>Intel Core i7</td>\n",
       "      <td>1000</td>\n",
       "      <td>0</td>\n",
       "      <td>AMD</td>\n",
       "      <td>Windows</td>\n",
       "    </tr>\n",
       "    <tr>\n",
       "      <th>1302</th>\n",
       "      <td>Asus</td>\n",
       "      <td>Notebook</td>\n",
       "      <td>4</td>\n",
       "      <td>2.20</td>\n",
       "      <td>0</td>\n",
       "      <td>0</td>\n",
       "      <td>100.454670</td>\n",
       "      <td>Other Intel Processor</td>\n",
       "      <td>500</td>\n",
       "      <td>0</td>\n",
       "      <td>Intel</td>\n",
       "      <td>Windows</td>\n",
       "    </tr>\n",
       "  </tbody>\n",
       "</table>\n",
       "<p>1302 rows × 12 columns</p>\n",
       "</div>"
      ],
      "text/plain": [
       "     Company            TypeName  Ram  Weight  Touchscreen  Ips         ppi  \\\n",
       "0      Apple           Ultrabook    8    1.37            0    1  226.983005   \n",
       "1      Apple           Ultrabook    8    1.34            0    0  127.677940   \n",
       "2         HP            Notebook    8    1.86            0    0  141.211998   \n",
       "3      Apple           Ultrabook   16    1.83            0    1  220.534624   \n",
       "4      Apple           Ultrabook    8    1.37            0    1  226.983005   \n",
       "...      ...                 ...  ...     ...          ...  ...         ...   \n",
       "1298  Lenovo  2 in 1 Convertible    4    1.80            1    1  157.350512   \n",
       "1299  Lenovo  2 in 1 Convertible   16    1.30            1    1  276.053530   \n",
       "1300  Lenovo            Notebook    2    1.50            0    0  111.935204   \n",
       "1301      HP            Notebook    6    2.19            0    0  100.454670   \n",
       "1302    Asus            Notebook    4    2.20            0    0  100.454670   \n",
       "\n",
       "                  Cpu brand   HDD  SSD Gpu brand                  os  \n",
       "0             Intel Core i5     0  128     Intel                 Mac  \n",
       "1             Intel Core i5     0    0     Intel                 Mac  \n",
       "2             Intel Core i5     0  256     Intel  Others/No OS/Linux  \n",
       "3             Intel Core i7     0  512       AMD                 Mac  \n",
       "4             Intel Core i5     0  256     Intel                 Mac  \n",
       "...                     ...   ...  ...       ...                 ...  \n",
       "1298          Intel Core i7     0  128     Intel             Windows  \n",
       "1299          Intel Core i7     0  512     Intel             Windows  \n",
       "1300  Other Intel Processor     0    0     Intel             Windows  \n",
       "1301          Intel Core i7  1000    0       AMD             Windows  \n",
       "1302  Other Intel Processor   500    0     Intel             Windows  \n",
       "\n",
       "[1302 rows x 12 columns]"
      ]
     },
     "execution_count": 87,
     "metadata": {},
     "output_type": "execute_result"
    }
   ],
   "source": [
    "X"
   ]
  },
  {
   "cell_type": "code",
   "execution_count": 88,
   "id": "3593b00b",
   "metadata": {},
   "outputs": [
    {
     "data": {
      "text/plain": [
       "0       11.175755\n",
       "1       10.776777\n",
       "2       10.329931\n",
       "3       11.814476\n",
       "4       11.473101\n",
       "          ...    \n",
       "1298    10.433899\n",
       "1299    11.288115\n",
       "1300     9.409283\n",
       "1301    10.614129\n",
       "1302     9.886358\n",
       "Name: Price, Length: 1302, dtype: float64"
      ]
     },
     "execution_count": 88,
     "metadata": {},
     "output_type": "execute_result"
    }
   ],
   "source": [
    "y"
   ]
  },
  {
   "cell_type": "code",
   "execution_count": 89,
   "id": "ba3e40c2",
   "metadata": {},
   "outputs": [],
   "source": [
    "\n",
    "from sklearn.model_selection import train_test_split\n",
    "X_train,X_test,y_train,y_test = train_test_split(X,y,test_size=0.15,random_state=2)"
   ]
  },
  {
   "cell_type": "code",
   "execution_count": 90,
   "id": "25e1891f",
   "metadata": {},
   "outputs": [
    {
     "data": {
      "text/html": [
       "<div>\n",
       "<style scoped>\n",
       "    .dataframe tbody tr th:only-of-type {\n",
       "        vertical-align: middle;\n",
       "    }\n",
       "\n",
       "    .dataframe tbody tr th {\n",
       "        vertical-align: top;\n",
       "    }\n",
       "\n",
       "    .dataframe thead th {\n",
       "        text-align: right;\n",
       "    }\n",
       "</style>\n",
       "<table border=\"1\" class=\"dataframe\">\n",
       "  <thead>\n",
       "    <tr style=\"text-align: right;\">\n",
       "      <th></th>\n",
       "      <th>Company</th>\n",
       "      <th>TypeName</th>\n",
       "      <th>Ram</th>\n",
       "      <th>Weight</th>\n",
       "      <th>Touchscreen</th>\n",
       "      <th>Ips</th>\n",
       "      <th>ppi</th>\n",
       "      <th>Cpu brand</th>\n",
       "      <th>HDD</th>\n",
       "      <th>SSD</th>\n",
       "      <th>Gpu brand</th>\n",
       "      <th>os</th>\n",
       "    </tr>\n",
       "  </thead>\n",
       "  <tbody>\n",
       "    <tr>\n",
       "      <th>183</th>\n",
       "      <td>Toshiba</td>\n",
       "      <td>Notebook</td>\n",
       "      <td>8</td>\n",
       "      <td>2.00</td>\n",
       "      <td>0</td>\n",
       "      <td>0</td>\n",
       "      <td>100.454670</td>\n",
       "      <td>Intel Core i5</td>\n",
       "      <td>0</td>\n",
       "      <td>128</td>\n",
       "      <td>Intel</td>\n",
       "      <td>Windows</td>\n",
       "    </tr>\n",
       "    <tr>\n",
       "      <th>1141</th>\n",
       "      <td>MSI</td>\n",
       "      <td>Gaming</td>\n",
       "      <td>8</td>\n",
       "      <td>2.40</td>\n",
       "      <td>0</td>\n",
       "      <td>0</td>\n",
       "      <td>141.211998</td>\n",
       "      <td>Intel Core i7</td>\n",
       "      <td>1000</td>\n",
       "      <td>128</td>\n",
       "      <td>Nvidia</td>\n",
       "      <td>Windows</td>\n",
       "    </tr>\n",
       "    <tr>\n",
       "      <th>1049</th>\n",
       "      <td>Asus</td>\n",
       "      <td>Netbook</td>\n",
       "      <td>4</td>\n",
       "      <td>1.20</td>\n",
       "      <td>0</td>\n",
       "      <td>0</td>\n",
       "      <td>135.094211</td>\n",
       "      <td>Other Intel Processor</td>\n",
       "      <td>0</td>\n",
       "      <td>0</td>\n",
       "      <td>Intel</td>\n",
       "      <td>Others/No OS/Linux</td>\n",
       "    </tr>\n",
       "    <tr>\n",
       "      <th>1020</th>\n",
       "      <td>Dell</td>\n",
       "      <td>2 in 1 Convertible</td>\n",
       "      <td>4</td>\n",
       "      <td>2.08</td>\n",
       "      <td>1</td>\n",
       "      <td>1</td>\n",
       "      <td>141.211998</td>\n",
       "      <td>Intel Core i3</td>\n",
       "      <td>1000</td>\n",
       "      <td>0</td>\n",
       "      <td>Intel</td>\n",
       "      <td>Windows</td>\n",
       "    </tr>\n",
       "    <tr>\n",
       "      <th>878</th>\n",
       "      <td>Dell</td>\n",
       "      <td>Notebook</td>\n",
       "      <td>4</td>\n",
       "      <td>2.18</td>\n",
       "      <td>0</td>\n",
       "      <td>0</td>\n",
       "      <td>141.211998</td>\n",
       "      <td>Intel Core i5</td>\n",
       "      <td>1000</td>\n",
       "      <td>128</td>\n",
       "      <td>Nvidia</td>\n",
       "      <td>Windows</td>\n",
       "    </tr>\n",
       "    <tr>\n",
       "      <th>...</th>\n",
       "      <td>...</td>\n",
       "      <td>...</td>\n",
       "      <td>...</td>\n",
       "      <td>...</td>\n",
       "      <td>...</td>\n",
       "      <td>...</td>\n",
       "      <td>...</td>\n",
       "      <td>...</td>\n",
       "      <td>...</td>\n",
       "      <td>...</td>\n",
       "      <td>...</td>\n",
       "      <td>...</td>\n",
       "    </tr>\n",
       "    <tr>\n",
       "      <th>466</th>\n",
       "      <td>Acer</td>\n",
       "      <td>Notebook</td>\n",
       "      <td>4</td>\n",
       "      <td>2.20</td>\n",
       "      <td>0</td>\n",
       "      <td>0</td>\n",
       "      <td>100.454670</td>\n",
       "      <td>Intel Core i3</td>\n",
       "      <td>500</td>\n",
       "      <td>0</td>\n",
       "      <td>Nvidia</td>\n",
       "      <td>Windows</td>\n",
       "    </tr>\n",
       "    <tr>\n",
       "      <th>299</th>\n",
       "      <td>Asus</td>\n",
       "      <td>Ultrabook</td>\n",
       "      <td>16</td>\n",
       "      <td>1.63</td>\n",
       "      <td>0</td>\n",
       "      <td>0</td>\n",
       "      <td>141.211998</td>\n",
       "      <td>Intel Core i7</td>\n",
       "      <td>0</td>\n",
       "      <td>512</td>\n",
       "      <td>Nvidia</td>\n",
       "      <td>Windows</td>\n",
       "    </tr>\n",
       "    <tr>\n",
       "      <th>493</th>\n",
       "      <td>Acer</td>\n",
       "      <td>Notebook</td>\n",
       "      <td>8</td>\n",
       "      <td>2.20</td>\n",
       "      <td>0</td>\n",
       "      <td>0</td>\n",
       "      <td>100.454670</td>\n",
       "      <td>AMD Processor</td>\n",
       "      <td>1000</td>\n",
       "      <td>0</td>\n",
       "      <td>AMD</td>\n",
       "      <td>Windows</td>\n",
       "    </tr>\n",
       "    <tr>\n",
       "      <th>527</th>\n",
       "      <td>Lenovo</td>\n",
       "      <td>Notebook</td>\n",
       "      <td>8</td>\n",
       "      <td>2.20</td>\n",
       "      <td>0</td>\n",
       "      <td>0</td>\n",
       "      <td>100.454670</td>\n",
       "      <td>Intel Core i3</td>\n",
       "      <td>2000</td>\n",
       "      <td>0</td>\n",
       "      <td>Nvidia</td>\n",
       "      <td>Others/No OS/Linux</td>\n",
       "    </tr>\n",
       "    <tr>\n",
       "      <th>1193</th>\n",
       "      <td>Apple</td>\n",
       "      <td>Ultrabook</td>\n",
       "      <td>8</td>\n",
       "      <td>0.92</td>\n",
       "      <td>0</td>\n",
       "      <td>1</td>\n",
       "      <td>226.415547</td>\n",
       "      <td>Other Intel Processor</td>\n",
       "      <td>0</td>\n",
       "      <td>0</td>\n",
       "      <td>Intel</td>\n",
       "      <td>Mac</td>\n",
       "    </tr>\n",
       "  </tbody>\n",
       "</table>\n",
       "<p>1106 rows × 12 columns</p>\n",
       "</div>"
      ],
      "text/plain": [
       "      Company            TypeName  Ram  Weight  Touchscreen  Ips         ppi  \\\n",
       "183   Toshiba            Notebook    8    2.00            0    0  100.454670   \n",
       "1141      MSI              Gaming    8    2.40            0    0  141.211998   \n",
       "1049     Asus             Netbook    4    1.20            0    0  135.094211   \n",
       "1020     Dell  2 in 1 Convertible    4    2.08            1    1  141.211998   \n",
       "878      Dell            Notebook    4    2.18            0    0  141.211998   \n",
       "...       ...                 ...  ...     ...          ...  ...         ...   \n",
       "466      Acer            Notebook    4    2.20            0    0  100.454670   \n",
       "299      Asus           Ultrabook   16    1.63            0    0  141.211998   \n",
       "493      Acer            Notebook    8    2.20            0    0  100.454670   \n",
       "527    Lenovo            Notebook    8    2.20            0    0  100.454670   \n",
       "1193    Apple           Ultrabook    8    0.92            0    1  226.415547   \n",
       "\n",
       "                  Cpu brand   HDD  SSD Gpu brand                  os  \n",
       "183           Intel Core i5     0  128     Intel             Windows  \n",
       "1141          Intel Core i7  1000  128    Nvidia             Windows  \n",
       "1049  Other Intel Processor     0    0     Intel  Others/No OS/Linux  \n",
       "1020          Intel Core i3  1000    0     Intel             Windows  \n",
       "878           Intel Core i5  1000  128    Nvidia             Windows  \n",
       "...                     ...   ...  ...       ...                 ...  \n",
       "466           Intel Core i3   500    0    Nvidia             Windows  \n",
       "299           Intel Core i7     0  512    Nvidia             Windows  \n",
       "493           AMD Processor  1000    0       AMD             Windows  \n",
       "527           Intel Core i3  2000    0    Nvidia  Others/No OS/Linux  \n",
       "1193  Other Intel Processor     0    0     Intel                 Mac  \n",
       "\n",
       "[1106 rows x 12 columns]"
      ]
     },
     "execution_count": 90,
     "metadata": {},
     "output_type": "execute_result"
    }
   ],
   "source": [
    "X_train"
   ]
  },
  {
   "cell_type": "code",
   "execution_count": 91,
   "id": "8c79c874",
   "metadata": {},
   "outputs": [],
   "source": [
    "from sklearn.compose import ColumnTransformer\n",
    "from sklearn.pipeline import Pipeline\n",
    "from sklearn.preprocessing import OneHotEncoder\n",
    "from sklearn.metrics import r2_score,mean_absolute_error"
   ]
  },
  {
   "cell_type": "code",
   "execution_count": 92,
   "id": "2e562ba3",
   "metadata": {},
   "outputs": [],
   "source": [
    "from sklearn.linear_model import LinearRegression,Ridge,Lasso\n",
    "from sklearn.neighbors import KNeighborsRegressor\n",
    "from sklearn.tree import DecisionTreeRegressor\n",
    "from sklearn.ensemble import RandomForestRegressor,GradientBoostingRegressor,AdaBoostRegressor,ExtraTreesRegressor\n",
    "from sklearn.svm import SVR\n",
    "from xgboost import XGBRegressor"
   ]
  },
  {
   "cell_type": "code",
   "execution_count": 93,
   "id": "579368f4",
   "metadata": {},
   "outputs": [
    {
     "name": "stdout",
     "output_type": "stream",
     "text": [
      "R2 score 0.8073277448418517\n",
      "MAE 0.21017827976429224\n"
     ]
    }
   ],
   "source": [
    "step1 = ColumnTransformer(transformers=[\n",
    "    ('col_tnf',OneHotEncoder(sparse=False,drop='first'),[0,1,7,10,11])\n",
    "],remainder='passthrough')\n",
    "\n",
    "step2 = LinearRegression()\n",
    "\n",
    "pipe = Pipeline([\n",
    "    ('step1',step1),\n",
    "    ('step2',step2)\n",
    "])\n",
    "\n",
    "pipe.fit(X_train,y_train)\n",
    "\n",
    "y_pred = pipe.predict(X_test)\n",
    "\n",
    "print('R2 score',r2_score(y_test,y_pred))\n",
    "print('MAE',mean_absolute_error(y_test,y_pred))"
   ]
  },
  {
   "cell_type": "code",
   "execution_count": 94,
   "id": "c5068aad",
   "metadata": {},
   "outputs": [
    {
     "name": "stdout",
     "output_type": "stream",
     "text": [
      "R2 score 0.812733103131181\n",
      "MAE 0.20926802242582954\n"
     ]
    }
   ],
   "source": [
    "step1 = ColumnTransformer(transformers=[\n",
    "    ('col_tnf',OneHotEncoder(sparse=False,drop='first'),[0,1,7,10,11])\n",
    "],remainder='passthrough')\n",
    "\n",
    "step2 = Ridge(alpha=10)\n",
    "\n",
    "pipe = Pipeline([\n",
    "    ('step1',step1),\n",
    "    ('step2',step2)\n",
    "])\n",
    "\n",
    "pipe.fit(X_train,y_train)\n",
    "\n",
    "y_pred = pipe.predict(X_test)\n",
    "\n",
    "print('R2 score',r2_score(y_test,y_pred))\n",
    "print('MAE',mean_absolute_error(y_test,y_pred))"
   ]
  },
  {
   "cell_type": "code",
   "execution_count": 95,
   "id": "a7f201a1",
   "metadata": {},
   "outputs": [
    {
     "name": "stdout",
     "output_type": "stream",
     "text": [
      "R2 score 0.8071853945317105\n",
      "MAE 0.21114361613472565\n"
     ]
    }
   ],
   "source": [
    "step1 = ColumnTransformer(transformers=[\n",
    "    ('col_tnf',OneHotEncoder(sparse=False,drop='first'),[0,1,7,10,11])\n",
    "],remainder='passthrough')\n",
    "\n",
    "step2 = Lasso(alpha=0.001)\n",
    "\n",
    "pipe = Pipeline([\n",
    "    ('step1',step1),\n",
    "    ('step2',step2)\n",
    "])\n",
    "\n",
    "pipe.fit(X_train,y_train)\n",
    "\n",
    "y_pred = pipe.predict(X_test)\n",
    "\n",
    "print('R2 score',r2_score(y_test,y_pred))\n",
    "print('MAE',mean_absolute_error(y_test,y_pred))"
   ]
  },
  {
   "cell_type": "code",
   "execution_count": 96,
   "id": "c2708d9f",
   "metadata": {},
   "outputs": [
    {
     "name": "stdout",
     "output_type": "stream",
     "text": [
      "R2 score 0.8021984604448553\n",
      "MAE 0.19319716721521116\n"
     ]
    }
   ],
   "source": [
    "step1 = ColumnTransformer(transformers=[\n",
    "    ('col_tnf',OneHotEncoder(sparse=False,drop='first'),[0,1,7,10,11])\n",
    "],remainder='passthrough')\n",
    "\n",
    "step2 = KNeighborsRegressor(n_neighbors=3)\n",
    "\n",
    "pipe = Pipeline([\n",
    "    ('step1',step1),\n",
    "    ('step2',step2)\n",
    "])\n",
    "\n",
    "pipe.fit(X_train,y_train)\n",
    "\n",
    "y_pred = pipe.predict(X_test)\n",
    "\n",
    "print('R2 score',r2_score(y_test,y_pred))\n",
    "print('MAE',mean_absolute_error(y_test,y_pred))"
   ]
  },
  {
   "cell_type": "code",
   "execution_count": 97,
   "id": "6192f8ad",
   "metadata": {},
   "outputs": [
    {
     "name": "stdout",
     "output_type": "stream",
     "text": [
      "R2 score 0.8369785947378217\n",
      "MAE 0.18456263091429384\n"
     ]
    }
   ],
   "source": [
    "step1 = ColumnTransformer(transformers=[\n",
    "    ('col_tnf',OneHotEncoder(sparse=False,drop='first'),[0,1,7,10,11])\n",
    "],remainder='passthrough')\n",
    "\n",
    "step2 = DecisionTreeRegressor(max_depth=8)\n",
    "\n",
    "pipe = Pipeline([\n",
    "    ('step1',step1),\n",
    "    ('step2',step2)\n",
    "])\n",
    "\n",
    "pipe.fit(X_train,y_train)\n",
    "\n",
    "y_pred = pipe.predict(X_test)\n",
    "\n",
    "print('R2 score',r2_score(y_test,y_pred))\n",
    "print('MAE',mean_absolute_error(y_test,y_pred))"
   ]
  },
  {
   "cell_type": "code",
   "execution_count": 98,
   "id": "acb3dbd2",
   "metadata": {},
   "outputs": [
    {
     "name": "stdout",
     "output_type": "stream",
     "text": [
      "R2 score 0.8083180902257614\n",
      "MAE 0.20239059427481307\n"
     ]
    }
   ],
   "source": [
    "step1 = ColumnTransformer(transformers=[\n",
    "    ('col_tnf',OneHotEncoder(sparse=False,drop='first'),[0,1,7,10,11])\n",
    "],remainder='passthrough')\n",
    "\n",
    "step2 = SVR(kernel='rbf',C=10000,epsilon=0.1)\n",
    "\n",
    "pipe = Pipeline([\n",
    "    ('step1',step1),\n",
    "    ('step2',step2)\n",
    "])\n",
    "\n",
    "pipe.fit(X_train,y_train)\n",
    "\n",
    "y_pred = pipe.predict(X_test)\n",
    "\n",
    "print('R2 score',r2_score(y_test,y_pred))\n",
    "print('MAE',mean_absolute_error(y_test,y_pred))"
   ]
  },
  {
   "cell_type": "code",
   "execution_count": 99,
   "id": "ee2a7274",
   "metadata": {},
   "outputs": [
    {
     "name": "stdout",
     "output_type": "stream",
     "text": [
      "R2 score 0.8875592075383176\n",
      "MAE 0.15876547703102858\n"
     ]
    }
   ],
   "source": [
    "step1 = ColumnTransformer(transformers=[\n",
    "    ('col_tnf',OneHotEncoder(sparse=False,drop='first'),[0,1,7,10,11])\n",
    "],remainder='passthrough')\n",
    "\n",
    "step2 = RandomForestRegressor(n_estimators=100,\n",
    "                              random_state=3,\n",
    "                              max_samples=0.5,\n",
    "                              max_features=0.75,\n",
    "                              max_depth=15)\n",
    "\n",
    "pipe = Pipeline([\n",
    "    ('step1',step1),\n",
    "    ('step2',step2)\n",
    "])\n",
    "\n",
    "pipe.fit(X_train,y_train)\n",
    "\n",
    "y_pred = pipe.predict(X_test)\n",
    "\n",
    "print('R2 score',r2_score(y_test,y_pred))\n",
    "print('MAE',mean_absolute_error(y_test,y_pred))"
   ]
  },
  {
   "cell_type": "code",
   "execution_count": 100,
   "id": "a979558f",
   "metadata": {},
   "outputs": [
    {
     "name": "stdout",
     "output_type": "stream",
     "text": [
      "R2 score 0.7981320075367139\n",
      "MAE 0.22466204512880195\n"
     ]
    }
   ],
   "source": [
    "step1 = ColumnTransformer(transformers=[\n",
    "    ('col_tnf',OneHotEncoder(sparse=False,drop='first'),[0,1,7,10,11])\n",
    "],remainder='passthrough')\n",
    "\n",
    "step2 = AdaBoostRegressor(n_estimators=15,learning_rate=1.0)\n",
    "\n",
    "pipe = Pipeline([\n",
    "    ('step1',step1),\n",
    "    ('step2',step2)\n",
    "])\n",
    "\n",
    "pipe.fit(X_train,y_train)\n",
    "\n",
    "y_pred = pipe.predict(X_test)\n",
    "\n",
    "print('R2 score',r2_score(y_test,y_pred))\n",
    "print('MAE',mean_absolute_error(y_test,y_pred))"
   ]
  },
  {
   "cell_type": "code",
   "execution_count": 101,
   "id": "6e11dd94",
   "metadata": {},
   "outputs": [
    {
     "name": "stdout",
     "output_type": "stream",
     "text": [
      "R2 score 0.8822915366632749\n",
      "MAE 0.15942486903846556\n"
     ]
    }
   ],
   "source": [
    "step1 = ColumnTransformer(transformers=[\n",
    "    ('col_tnf',OneHotEncoder(sparse=False,drop='first'),[0,1,7,10,11])\n",
    "],remainder='passthrough')\n",
    "\n",
    "step2 = GradientBoostingRegressor(n_estimators=500)\n",
    "\n",
    "pipe = Pipeline([\n",
    "    ('step1',step1),\n",
    "    ('step2',step2)\n",
    "])\n",
    "\n",
    "pipe.fit(X_train,y_train)\n",
    "\n",
    "y_pred = pipe.predict(X_test)\n",
    "\n",
    "print('R2 score',r2_score(y_test,y_pred))\n",
    "print('MAE',mean_absolute_error(y_test,y_pred))"
   ]
  },
  {
   "cell_type": "code",
   "execution_count": 102,
   "id": "62e993d5",
   "metadata": {},
   "outputs": [
    {
     "name": "stdout",
     "output_type": "stream",
     "text": [
      "R2 score 0.8811773435850243\n",
      "MAE 0.16496203512600974\n"
     ]
    }
   ],
   "source": [
    "step1 = ColumnTransformer(transformers=[\n",
    "    ('col_tnf',OneHotEncoder(sparse=False,drop='first'),[0,1,7,10,11])\n",
    "],remainder='passthrough')\n",
    "\n",
    "step2 = XGBRegressor(n_estimators=45,max_depth=5,learning_rate=0.5)\n",
    "\n",
    "pipe = Pipeline([\n",
    "    ('step1',step1),\n",
    "    ('step2',step2)\n",
    "])\n",
    "\n",
    "pipe.fit(X_train,y_train)\n",
    "\n",
    "y_pred = pipe.predict(X_test)\n",
    "\n",
    "print('R2 score',r2_score(y_test,y_pred))\n",
    "print('MAE',mean_absolute_error(y_test,y_pred))"
   ]
  },
  {
   "cell_type": "code",
   "execution_count": 103,
   "id": "e0f1f598",
   "metadata": {},
   "outputs": [
    {
     "name": "stdout",
     "output_type": "stream",
     "text": [
      "R2 score 0.8900651326424482\n",
      "MAE 0.15846725727232214\n"
     ]
    }
   ],
   "source": [
    "from sklearn.ensemble import VotingRegressor,StackingRegressor\n",
    "\n",
    "step1 = ColumnTransformer(transformers=[\n",
    "    ('col_tnf',OneHotEncoder(sparse=False,drop='first'),[0,1,7,10,11])\n",
    "],remainder='passthrough')\n",
    "\n",
    "\n",
    "rf = RandomForestRegressor(n_estimators=350,random_state=3,max_samples=0.5,max_features=0.75,max_depth=15)\n",
    "gbdt = GradientBoostingRegressor(n_estimators=100,max_features=0.5)\n",
    "xgb = XGBRegressor(n_estimators=25,learning_rate=0.3,max_depth=5)\n",
    "\n",
    "\n",
    "step2 = VotingRegressor([('rf', rf), ('gbdt', gbdt), ('xgb',xgb)],weights=[5,1,1])\n",
    "\n",
    "pipe = Pipeline([\n",
    "    ('step1',step1),\n",
    "    ('step2',step2)\n",
    "])\n",
    "\n",
    "pipe.fit(X_train,y_train)\n",
    "\n",
    "y_pred = pipe.predict(X_test)\n",
    "\n",
    "print('R2 score',r2_score(y_test,y_pred))\n",
    "print('MAE',mean_absolute_error(y_test,y_pred))"
   ]
  },
  {
   "cell_type": "code",
   "execution_count": 104,
   "id": "223670f1",
   "metadata": {},
   "outputs": [
    {
     "name": "stdout",
     "output_type": "stream",
     "text": [
      "R2 score 0.8804961555308225\n",
      "MAE 0.16704887698925117\n"
     ]
    }
   ],
   "source": [
    "from sklearn.ensemble import VotingRegressor,StackingRegressor\n",
    "\n",
    "step1 = ColumnTransformer(transformers=[\n",
    "    ('col_tnf',OneHotEncoder(sparse=False,drop='first'),[0,1,7,10,11])\n",
    "],remainder='passthrough')\n",
    "\n",
    "\n",
    "estimators = [\n",
    "    ('rf', RandomForestRegressor(n_estimators=350,random_state=3,max_samples=0.5,max_features=0.75,max_depth=15)),\n",
    "    ('gbdt',GradientBoostingRegressor(n_estimators=100,max_features=0.5)),\n",
    "    ('xgb', XGBRegressor(n_estimators=25,learning_rate=0.3,max_depth=5))\n",
    "]\n",
    "\n",
    "step2 = StackingRegressor(estimators=estimators, final_estimator=Ridge(alpha=100))\n",
    "\n",
    "pipe = Pipeline([\n",
    "    ('step1',step1),\n",
    "    ('step2',step2)\n",
    "])\n",
    "\n",
    "pipe.fit(X_train,y_train)\n",
    "\n",
    "y_pred = pipe.predict(X_test)\n",
    "\n",
    "print('R2 score',r2_score(y_test,y_pred))\n",
    "print('MAE',mean_absolute_error(y_test,y_pred))"
   ]
  },
  {
   "cell_type": "code",
   "execution_count": 105,
   "id": "ae24d74f",
   "metadata": {},
   "outputs": [],
   "source": [
    "import pickle\n",
    "\n",
    "pickle.dump(df,open('df.pkl','wb'))\n",
    "pickle.dump(pipe,open('pipe.pkl','wb'))"
   ]
  },
  {
   "cell_type": "code",
   "execution_count": 106,
   "id": "3345837f",
   "metadata": {},
   "outputs": [
    {
     "data": {
      "text/html": [
       "<div>\n",
       "<style scoped>\n",
       "    .dataframe tbody tr th:only-of-type {\n",
       "        vertical-align: middle;\n",
       "    }\n",
       "\n",
       "    .dataframe tbody tr th {\n",
       "        vertical-align: top;\n",
       "    }\n",
       "\n",
       "    .dataframe thead th {\n",
       "        text-align: right;\n",
       "    }\n",
       "</style>\n",
       "<table border=\"1\" class=\"dataframe\">\n",
       "  <thead>\n",
       "    <tr style=\"text-align: right;\">\n",
       "      <th></th>\n",
       "      <th>Company</th>\n",
       "      <th>TypeName</th>\n",
       "      <th>Ram</th>\n",
       "      <th>Weight</th>\n",
       "      <th>Price</th>\n",
       "      <th>Touchscreen</th>\n",
       "      <th>Ips</th>\n",
       "      <th>ppi</th>\n",
       "      <th>Cpu brand</th>\n",
       "      <th>HDD</th>\n",
       "      <th>SSD</th>\n",
       "      <th>Gpu brand</th>\n",
       "      <th>os</th>\n",
       "    </tr>\n",
       "  </thead>\n",
       "  <tbody>\n",
       "    <tr>\n",
       "      <th>0</th>\n",
       "      <td>Apple</td>\n",
       "      <td>Ultrabook</td>\n",
       "      <td>8</td>\n",
       "      <td>1.37</td>\n",
       "      <td>71378.6832</td>\n",
       "      <td>0</td>\n",
       "      <td>1</td>\n",
       "      <td>226.983005</td>\n",
       "      <td>Intel Core i5</td>\n",
       "      <td>0</td>\n",
       "      <td>128</td>\n",
       "      <td>Intel</td>\n",
       "      <td>Mac</td>\n",
       "    </tr>\n",
       "    <tr>\n",
       "      <th>1</th>\n",
       "      <td>Apple</td>\n",
       "      <td>Ultrabook</td>\n",
       "      <td>8</td>\n",
       "      <td>1.34</td>\n",
       "      <td>47895.5232</td>\n",
       "      <td>0</td>\n",
       "      <td>0</td>\n",
       "      <td>127.677940</td>\n",
       "      <td>Intel Core i5</td>\n",
       "      <td>0</td>\n",
       "      <td>0</td>\n",
       "      <td>Intel</td>\n",
       "      <td>Mac</td>\n",
       "    </tr>\n",
       "    <tr>\n",
       "      <th>2</th>\n",
       "      <td>HP</td>\n",
       "      <td>Notebook</td>\n",
       "      <td>8</td>\n",
       "      <td>1.86</td>\n",
       "      <td>30636.0000</td>\n",
       "      <td>0</td>\n",
       "      <td>0</td>\n",
       "      <td>141.211998</td>\n",
       "      <td>Intel Core i5</td>\n",
       "      <td>0</td>\n",
       "      <td>256</td>\n",
       "      <td>Intel</td>\n",
       "      <td>Others/No OS/Linux</td>\n",
       "    </tr>\n",
       "    <tr>\n",
       "      <th>3</th>\n",
       "      <td>Apple</td>\n",
       "      <td>Ultrabook</td>\n",
       "      <td>16</td>\n",
       "      <td>1.83</td>\n",
       "      <td>135195.3360</td>\n",
       "      <td>0</td>\n",
       "      <td>1</td>\n",
       "      <td>220.534624</td>\n",
       "      <td>Intel Core i7</td>\n",
       "      <td>0</td>\n",
       "      <td>512</td>\n",
       "      <td>AMD</td>\n",
       "      <td>Mac</td>\n",
       "    </tr>\n",
       "    <tr>\n",
       "      <th>4</th>\n",
       "      <td>Apple</td>\n",
       "      <td>Ultrabook</td>\n",
       "      <td>8</td>\n",
       "      <td>1.37</td>\n",
       "      <td>96095.8080</td>\n",
       "      <td>0</td>\n",
       "      <td>1</td>\n",
       "      <td>226.983005</td>\n",
       "      <td>Intel Core i5</td>\n",
       "      <td>0</td>\n",
       "      <td>256</td>\n",
       "      <td>Intel</td>\n",
       "      <td>Mac</td>\n",
       "    </tr>\n",
       "    <tr>\n",
       "      <th>...</th>\n",
       "      <td>...</td>\n",
       "      <td>...</td>\n",
       "      <td>...</td>\n",
       "      <td>...</td>\n",
       "      <td>...</td>\n",
       "      <td>...</td>\n",
       "      <td>...</td>\n",
       "      <td>...</td>\n",
       "      <td>...</td>\n",
       "      <td>...</td>\n",
       "      <td>...</td>\n",
       "      <td>...</td>\n",
       "      <td>...</td>\n",
       "    </tr>\n",
       "    <tr>\n",
       "      <th>1298</th>\n",
       "      <td>Lenovo</td>\n",
       "      <td>2 in 1 Convertible</td>\n",
       "      <td>4</td>\n",
       "      <td>1.80</td>\n",
       "      <td>33992.6400</td>\n",
       "      <td>1</td>\n",
       "      <td>1</td>\n",
       "      <td>157.350512</td>\n",
       "      <td>Intel Core i7</td>\n",
       "      <td>0</td>\n",
       "      <td>128</td>\n",
       "      <td>Intel</td>\n",
       "      <td>Windows</td>\n",
       "    </tr>\n",
       "    <tr>\n",
       "      <th>1299</th>\n",
       "      <td>Lenovo</td>\n",
       "      <td>2 in 1 Convertible</td>\n",
       "      <td>16</td>\n",
       "      <td>1.30</td>\n",
       "      <td>79866.7200</td>\n",
       "      <td>1</td>\n",
       "      <td>1</td>\n",
       "      <td>276.053530</td>\n",
       "      <td>Intel Core i7</td>\n",
       "      <td>0</td>\n",
       "      <td>512</td>\n",
       "      <td>Intel</td>\n",
       "      <td>Windows</td>\n",
       "    </tr>\n",
       "    <tr>\n",
       "      <th>1300</th>\n",
       "      <td>Lenovo</td>\n",
       "      <td>Notebook</td>\n",
       "      <td>2</td>\n",
       "      <td>1.50</td>\n",
       "      <td>12201.1200</td>\n",
       "      <td>0</td>\n",
       "      <td>0</td>\n",
       "      <td>111.935204</td>\n",
       "      <td>Other Intel Processor</td>\n",
       "      <td>0</td>\n",
       "      <td>0</td>\n",
       "      <td>Intel</td>\n",
       "      <td>Windows</td>\n",
       "    </tr>\n",
       "    <tr>\n",
       "      <th>1301</th>\n",
       "      <td>HP</td>\n",
       "      <td>Notebook</td>\n",
       "      <td>6</td>\n",
       "      <td>2.19</td>\n",
       "      <td>40705.9200</td>\n",
       "      <td>0</td>\n",
       "      <td>0</td>\n",
       "      <td>100.454670</td>\n",
       "      <td>Intel Core i7</td>\n",
       "      <td>1000</td>\n",
       "      <td>0</td>\n",
       "      <td>AMD</td>\n",
       "      <td>Windows</td>\n",
       "    </tr>\n",
       "    <tr>\n",
       "      <th>1302</th>\n",
       "      <td>Asus</td>\n",
       "      <td>Notebook</td>\n",
       "      <td>4</td>\n",
       "      <td>2.20</td>\n",
       "      <td>19660.3200</td>\n",
       "      <td>0</td>\n",
       "      <td>0</td>\n",
       "      <td>100.454670</td>\n",
       "      <td>Other Intel Processor</td>\n",
       "      <td>500</td>\n",
       "      <td>0</td>\n",
       "      <td>Intel</td>\n",
       "      <td>Windows</td>\n",
       "    </tr>\n",
       "  </tbody>\n",
       "</table>\n",
       "<p>1302 rows × 13 columns</p>\n",
       "</div>"
      ],
      "text/plain": [
       "     Company            TypeName  Ram  Weight        Price  Touchscreen  Ips  \\\n",
       "0      Apple           Ultrabook    8    1.37   71378.6832            0    1   \n",
       "1      Apple           Ultrabook    8    1.34   47895.5232            0    0   \n",
       "2         HP            Notebook    8    1.86   30636.0000            0    0   \n",
       "3      Apple           Ultrabook   16    1.83  135195.3360            0    1   \n",
       "4      Apple           Ultrabook    8    1.37   96095.8080            0    1   \n",
       "...      ...                 ...  ...     ...          ...          ...  ...   \n",
       "1298  Lenovo  2 in 1 Convertible    4    1.80   33992.6400            1    1   \n",
       "1299  Lenovo  2 in 1 Convertible   16    1.30   79866.7200            1    1   \n",
       "1300  Lenovo            Notebook    2    1.50   12201.1200            0    0   \n",
       "1301      HP            Notebook    6    2.19   40705.9200            0    0   \n",
       "1302    Asus            Notebook    4    2.20   19660.3200            0    0   \n",
       "\n",
       "             ppi              Cpu brand   HDD  SSD Gpu brand  \\\n",
       "0     226.983005          Intel Core i5     0  128     Intel   \n",
       "1     127.677940          Intel Core i5     0    0     Intel   \n",
       "2     141.211998          Intel Core i5     0  256     Intel   \n",
       "3     220.534624          Intel Core i7     0  512       AMD   \n",
       "4     226.983005          Intel Core i5     0  256     Intel   \n",
       "...          ...                    ...   ...  ...       ...   \n",
       "1298  157.350512          Intel Core i7     0  128     Intel   \n",
       "1299  276.053530          Intel Core i7     0  512     Intel   \n",
       "1300  111.935204  Other Intel Processor     0    0     Intel   \n",
       "1301  100.454670          Intel Core i7  1000    0       AMD   \n",
       "1302  100.454670  Other Intel Processor   500    0     Intel   \n",
       "\n",
       "                      os  \n",
       "0                    Mac  \n",
       "1                    Mac  \n",
       "2     Others/No OS/Linux  \n",
       "3                    Mac  \n",
       "4                    Mac  \n",
       "...                  ...  \n",
       "1298             Windows  \n",
       "1299             Windows  \n",
       "1300             Windows  \n",
       "1301             Windows  \n",
       "1302             Windows  \n",
       "\n",
       "[1302 rows x 13 columns]"
      ]
     },
     "execution_count": 106,
     "metadata": {},
     "output_type": "execute_result"
    }
   ],
   "source": [
    "df"
   ]
  },
  {
   "cell_type": "code",
   "execution_count": null,
   "id": "a6a455e1",
   "metadata": {},
   "outputs": [],
   "source": []
  },
  {
   "cell_type": "code",
   "execution_count": null,
   "id": "ea2bbda8",
=======
   "execution_count": 105,
   "id": "b2d43fa7",
>>>>>>> 3c44e2ade4b88123a31c9aa298436ff4371f8d5f
   "metadata": {},
   "outputs": [],
   "source": [
    "df.drop(columns=['Cpu','Cpu Name'],inplace=True)"
   ]
  },
  {
   "cell_type": "code",
   "execution_count": 106,
   "id": "037399d1",
   "metadata": {},
   "outputs": [
    {
     "data": {
      "text/html": [
       "<div>\n",
       "<style scoped>\n",
       "    .dataframe tbody tr th:only-of-type {\n",
       "        vertical-align: middle;\n",
       "    }\n",
       "\n",
       "    .dataframe tbody tr th {\n",
       "        vertical-align: top;\n",
       "    }\n",
       "\n",
       "    .dataframe thead th {\n",
       "        text-align: right;\n",
       "    }\n",
       "</style>\n",
       "<table border=\"1\" class=\"dataframe\">\n",
       "  <thead>\n",
       "    <tr style=\"text-align: right;\">\n",
       "      <th></th>\n",
       "      <th>Company</th>\n",
       "      <th>TypeName</th>\n",
       "      <th>Ram</th>\n",
       "      <th>Memory</th>\n",
       "      <th>Gpu</th>\n",
       "      <th>OpSys</th>\n",
       "      <th>Weight</th>\n",
       "      <th>Price</th>\n",
       "      <th>Touchscreen</th>\n",
       "      <th>ppi</th>\n",
       "      <th>Cpu brand</th>\n",
       "    </tr>\n",
       "  </thead>\n",
       "  <tbody>\n",
       "    <tr>\n",
       "      <th>0</th>\n",
       "      <td>Apple</td>\n",
       "      <td>Ultrabook</td>\n",
       "      <td>8</td>\n",
       "      <td>128GB SSD</td>\n",
       "      <td>Intel Iris Plus Graphics 640</td>\n",
       "      <td>macOS</td>\n",
       "      <td>1.37</td>\n",
       "      <td>71378.6832</td>\n",
       "      <td>0</td>\n",
       "      <td>226.983005</td>\n",
       "      <td>Intel Core i5</td>\n",
       "    </tr>\n",
       "    <tr>\n",
       "      <th>1</th>\n",
       "      <td>Apple</td>\n",
       "      <td>Ultrabook</td>\n",
       "      <td>8</td>\n",
       "      <td>128GB Flash Storage</td>\n",
       "      <td>Intel HD Graphics 6000</td>\n",
       "      <td>macOS</td>\n",
       "      <td>1.34</td>\n",
       "      <td>47895.5232</td>\n",
       "      <td>0</td>\n",
       "      <td>127.677940</td>\n",
       "      <td>Intel Core i5</td>\n",
       "    </tr>\n",
       "    <tr>\n",
       "      <th>2</th>\n",
       "      <td>HP</td>\n",
       "      <td>Notebook</td>\n",
       "      <td>8</td>\n",
       "      <td>256GB SSD</td>\n",
       "      <td>Intel HD Graphics 620</td>\n",
       "      <td>No OS</td>\n",
       "      <td>1.86</td>\n",
       "      <td>30636.0000</td>\n",
       "      <td>0</td>\n",
       "      <td>141.211998</td>\n",
       "      <td>Intel Core i5</td>\n",
       "    </tr>\n",
       "    <tr>\n",
       "      <th>3</th>\n",
       "      <td>Apple</td>\n",
       "      <td>Ultrabook</td>\n",
       "      <td>16</td>\n",
       "      <td>512GB SSD</td>\n",
       "      <td>AMD Radeon Pro 455</td>\n",
       "      <td>macOS</td>\n",
       "      <td>1.83</td>\n",
       "      <td>135195.3360</td>\n",
       "      <td>0</td>\n",
       "      <td>220.534624</td>\n",
       "      <td>Intel Core i7</td>\n",
       "    </tr>\n",
       "    <tr>\n",
       "      <th>4</th>\n",
       "      <td>Apple</td>\n",
       "      <td>Ultrabook</td>\n",
       "      <td>8</td>\n",
       "      <td>256GB SSD</td>\n",
       "      <td>Intel Iris Plus Graphics 650</td>\n",
       "      <td>macOS</td>\n",
       "      <td>1.37</td>\n",
       "      <td>96095.8080</td>\n",
       "      <td>0</td>\n",
       "      <td>226.983005</td>\n",
       "      <td>Intel Core i5</td>\n",
       "    </tr>\n",
       "  </tbody>\n",
       "</table>\n",
       "</div>"
      ],
      "text/plain": [
       "  Company   TypeName  Ram               Memory                           Gpu  \\\n",
       "0   Apple  Ultrabook    8            128GB SSD  Intel Iris Plus Graphics 640   \n",
       "1   Apple  Ultrabook    8  128GB Flash Storage        Intel HD Graphics 6000   \n",
       "2      HP   Notebook    8            256GB SSD         Intel HD Graphics 620   \n",
       "3   Apple  Ultrabook   16            512GB SSD            AMD Radeon Pro 455   \n",
       "4   Apple  Ultrabook    8            256GB SSD  Intel Iris Plus Graphics 650   \n",
       "\n",
       "   OpSys  Weight        Price  Touchscreen         ppi      Cpu brand  \n",
       "0  macOS    1.37   71378.6832            0  226.983005  Intel Core i5  \n",
       "1  macOS    1.34   47895.5232            0  127.677940  Intel Core i5  \n",
       "2  No OS    1.86   30636.0000            0  141.211998  Intel Core i5  \n",
       "3  macOS    1.83  135195.3360            0  220.534624  Intel Core i7  \n",
       "4  macOS    1.37   96095.8080            0  226.983005  Intel Core i5  "
      ]
     },
     "execution_count": 106,
     "metadata": {},
     "output_type": "execute_result"
    }
   ],
   "source": [
    "df.head()"
   ]
  },
  {
   "cell_type": "code",
   "execution_count": 107,
   "id": "d8114b9c",
   "metadata": {},
   "outputs": [
    {
     "data": {
      "text/plain": [
       "<AxesSubplot:>"
      ]
     },
     "execution_count": 107,
     "metadata": {},
     "output_type": "execute_result"
    },
    {
     "data": {
      "image/png": "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\n",
      "text/plain": [
       "<Figure size 432x288 with 1 Axes>"
      ]
     },
     "metadata": {
      "needs_background": "light"
     },
     "output_type": "display_data"
    }
   ],
   "source": [
    "df['Ram'].value_counts().plot(kind='bar')\n"
   ]
  },
  {
   "cell_type": "code",
   "execution_count": 108,
   "id": "72873365",
   "metadata": {},
   "outputs": [
    {
     "data": {
      "image/png": "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\n",
      "text/plain": [
       "<Figure size 432x288 with 1 Axes>"
      ]
     },
     "metadata": {
      "needs_background": "light"
     },
     "output_type": "display_data"
    }
   ],
   "source": [
    "sns.barplot(x=df['Ram'],y=df['Price'])\n",
    "plt.xticks(rotation='vertical')\n",
    "plt.show()"
   ]
  },
  {
   "cell_type": "code",
   "execution_count": 109,
   "id": "d05cf4bb",
   "metadata": {},
   "outputs": [
    {
     "data": {
      "text/plain": [
       "256GB SSD                        412\n",
       "1TB HDD                          223\n",
       "500GB HDD                        132\n",
       "512GB SSD                        118\n",
       "128GB SSD +  1TB HDD              94\n",
       "128GB SSD                         76\n",
       "256GB SSD +  1TB HDD              73\n",
       "32GB Flash Storage                38\n",
       "2TB HDD                           16\n",
       "64GB Flash Storage                15\n",
       "512GB SSD +  1TB HDD              14\n",
       "1TB SSD                           14\n",
       "256GB SSD +  2TB HDD              10\n",
       "1.0TB Hybrid                       9\n",
       "256GB Flash Storage                8\n",
       "16GB Flash Storage                 7\n",
       "32GB SSD                           6\n",
       "180GB SSD                          5\n",
       "128GB Flash Storage                4\n",
       "512GB SSD +  2TB HDD               3\n",
       "16GB SSD                           3\n",
       "512GB Flash Storage                2\n",
       "1TB SSD +  1TB HDD                 2\n",
       "256GB SSD +  500GB HDD             2\n",
       "128GB SSD +  2TB HDD               2\n",
       "256GB SSD +  256GB SSD             2\n",
       "512GB SSD +  256GB SSD             1\n",
       "512GB SSD +  512GB SSD             1\n",
       "64GB Flash Storage +  1TB HDD      1\n",
       "1TB HDD +  1TB HDD                 1\n",
       "32GB HDD                           1\n",
       "64GB SSD                           1\n",
       "128GB HDD                          1\n",
       "240GB SSD                          1\n",
       "8GB SSD                            1\n",
       "508GB Hybrid                       1\n",
       "1.0TB HDD                          1\n",
       "512GB SSD +  1.0TB Hybrid          1\n",
       "256GB SSD +  1.0TB Hybrid          1\n",
       "Name: Memory, dtype: int64"
      ]
     },
     "execution_count": 109,
     "metadata": {},
     "output_type": "execute_result"
    }
   ],
   "source": [
    "df['Memory'].value_counts()"
   ]
  },
  {
   "cell_type": "code",
   "execution_count": 110,
   "id": "a6b67a11",
   "metadata": {},
   "outputs": [
    {
     "name": "stderr",
     "output_type": "stream",
     "text": [
      "C:\\Users\\ISHA\\AppData\\Local\\Temp/ipykernel_7420/4023190604.py:16: FutureWarning: The default value of regex will change from True to False in a future version.\n",
      "  df['first'] = df['first'].str.replace(r'\\D', '')\n",
      "C:\\Users\\ISHA\\AppData\\Local\\Temp/ipykernel_7420/4023190604.py:25: FutureWarning: The default value of regex will change from True to False in a future version.\n",
      "  df['second'] = df['second'].str.replace(r'\\D', '')\n"
     ]
    }
   ],
   "source": [
    "df['Memory'] = df['Memory'].astype(str).replace('\\.0', '', regex=True)\n",
    "df[\"Memory\"] = df[\"Memory\"].str.replace('GB', '')\n",
    "df[\"Memory\"] = df[\"Memory\"].str.replace('TB', '000')\n",
    "new = df[\"Memory\"].str.split(\"+\", n = 1, expand = True)\n",
    "\n",
    "df[\"first\"]= new[0]\n",
    "df[\"first\"]=df[\"first\"].str.strip()\n",
    "\n",
    "df[\"second\"]= new[1]\n",
    "\n",
    "df[\"Layer1HDD\"] = df[\"first\"].apply(lambda x: 1 if \"HDD\" in x else 0)\n",
    "df[\"Layer1SSD\"] = df[\"first\"].apply(lambda x: 1 if \"SSD\" in x else 0)\n",
    "df[\"Layer1Hybrid\"] = df[\"first\"].apply(lambda x: 1 if \"Hybrid\" in x else 0)\n",
    "df[\"Layer1Flash_Storage\"] = df[\"first\"].apply(lambda x: 1 if \"Flash Storage\" in x else 0)\n",
    "\n",
    "df['first'] = df['first'].str.replace(r'\\D', '')\n",
    "\n",
    "df[\"second\"].fillna(\"0\", inplace = True)\n",
    "\n",
    "df[\"Layer2HDD\"] = df[\"second\"].apply(lambda x: 1 if \"HDD\" in x else 0)\n",
    "df[\"Layer2SSD\"] = df[\"second\"].apply(lambda x: 1 if \"SSD\" in x else 0)\n",
    "df[\"Layer2Hybrid\"] = df[\"second\"].apply(lambda x: 1 if \"Hybrid\" in x else 0)\n",
    "df[\"Layer2Flash_Storage\"] = df[\"second\"].apply(lambda x: 1 if \"Flash Storage\" in x else 0)\n",
    "\n",
    "df['second'] = df['second'].str.replace(r'\\D', '')\n",
    "\n",
    "df[\"first\"] = df[\"first\"].astype(int)\n",
    "df[\"second\"] = df[\"second\"].astype(int)\n",
    "\n",
    "df[\"HDD\"]=(df[\"first\"]*df[\"Layer1HDD\"]+df[\"second\"]*df[\"Layer2HDD\"])\n",
    "df[\"SSD\"]=(df[\"first\"]*df[\"Layer1SSD\"]+df[\"second\"]*df[\"Layer2SSD\"])\n",
    "df[\"Hybrid\"]=(df[\"first\"]*df[\"Layer1Hybrid\"]+df[\"second\"]*df[\"Layer2Hybrid\"])\n",
    "df[\"Flash_Storage\"]=(df[\"first\"]*df[\"Layer1Flash_Storage\"]+df[\"second\"]*df[\"Layer2Flash_Storage\"])\n",
    "\n",
    "df.drop(columns=['first', 'second', 'Layer1HDD', 'Layer1SSD', 'Layer1Hybrid',\n",
    "       'Layer1Flash_Storage', 'Layer2HDD', 'Layer2SSD', 'Layer2Hybrid',\n",
    "       'Layer2Flash_Storage'],inplace=True)"
   ]
  },
  {
   "cell_type": "code",
   "execution_count": null,
   "id": "4254096d",
   "metadata": {},
   "outputs": [],
   "source": []
  }
 ],
 "metadata": {
  "kernelspec": {
   "display_name": "Python 3 (ipykernel)",
   "language": "python",
   "name": "python3"
  },
  "language_info": {
   "codemirror_mode": {
    "name": "ipython",
    "version": 3
   },
   "file_extension": ".py",
   "mimetype": "text/x-python",
   "name": "python",
   "nbconvert_exporter": "python",
   "pygments_lexer": "ipython3",
   "version": "3.9.7"
  }
 },
 "nbformat": 4,
 "nbformat_minor": 5
}
